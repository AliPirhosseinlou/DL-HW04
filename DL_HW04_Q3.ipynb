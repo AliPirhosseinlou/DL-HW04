{
  "cells": [
    {
      "cell_type": "code",
      "source": [
        "import random\n",
        "from tqdm import tqdm\n",
        "import torch.nn as nn\n",
        "import torch\n",
        "from transformers import GPT2LMHeadModel, GPT2Config\n",
        "from torch.utils.data import DataLoader, RandomSampler, SequentialSampler\n",
        "from transformers import AdamW, get_linear_schedule_with_warmup\n",
        "from transformers import AutoTokenizer, AutoModelForCausalLM\n",
        "from sklearn.model_selection import train_test_split\n",
        "from transformers import  AutoConfig, AutoModelWithLMHead\n",
        "from torch.utils.data import TensorDataset\n",
        "from nltk.translate.bleu_score import corpus_bleu"
      ],
      "metadata": {
        "id": "xWuuJ1jKCabI"
      },
      "execution_count": null,
      "outputs": []
    },
    {
      "cell_type": "markdown",
      "metadata": {
        "id": "mFuJAdMsNpKH"
      },
      "source": [
        "# آ )\n",
        "<div dir=rtl>\n",
        "\n",
        "پیش پردازش دادگان"
      ]
    },
    {
      "cell_type": "code",
      "execution_count": null,
      "metadata": {
        "id": "RejvKX5yubKl"
      },
      "outputs": [],
      "source": [
        "data_file_path = '/content/ferdousi.txt'\n",
        "\n",
        "with open(data_file_path, 'r', encoding='utf-8') as file:\n",
        "    lines = file.read()\n",
        "\n",
        "lines=lines.splitlines()\n",
        "del lines[99218]\n",
        "del lines[0]\n",
        "del lines[0]\n",
        "\n",
        "input_lines = lines[::2] #even\n",
        "output_lines = lines[1::2] #odd\n",
        "\n",
        "train_input,test_in,train_output,test_out= train_test_split(input_lines,output_lines, test_size=0.2, random_state=42)\n",
        "\n"
      ]
    },
    {
      "cell_type": "code",
      "source": [
        "train = [train_input[i] + '    ' +train_output[i] for i in range(0, len(train_input),1)]\n",
        "\n",
        "test_input=[test_in[i]+'  ' for i in range(0, len(test_input),1)]\n",
        "test_output=[test_in[i] +'    ' +test_out[i] for i in range(0, len(test_input),1)]"
      ],
      "metadata": {
        "id": "sjzlkY2kiPM9"
      },
      "execution_count": null,
      "outputs": []
    },
    {
      "cell_type": "markdown",
      "metadata": {
        "id": "q8g71crtYtkW"
      },
      "source": [
        "# ب"
      ]
    },
    {
      "cell_type": "code",
      "execution_count": null,
      "metadata": {
        "id": "VieJIq8Ea4as"
      },
      "outputs": [],
      "source": [
        "max_length_characters = max(len(poem) for poem in poem)"
      ]
    },
    {
      "cell_type": "code",
      "execution_count": null,
      "metadata": {
        "colab": {
          "base_uri": "https://localhost:8080/"
        },
        "id": "pwbr98v9bBO5",
        "outputId": "9f6f179b-0b1b-4d34-8058-627e3c030955"
      },
      "outputs": [
        {
          "output_type": "execute_result",
          "data": {
            "text/plain": [
              "65"
            ]
          },
          "metadata": {},
          "execution_count": 22
        }
      ],
      "source": [
        "max_length_characters"
      ]
    },
    {
      "cell_type": "code",
      "source": [
        "tokenizer = AutoTokenizer.from_pretrained(\"HooshvareLab/gpt2-fa\")#, padding_side=\"left\")\n",
        "tokenizer.pad_token = tokenizer.eos_token\n",
        "\n",
        "train_input_tokenized = tokenizer(train, return_tensors='pt', padding=True, truncation=True, max_length=65)\n",
        "test_input_tokenized = tokenizer(test_input, return_tensors='pt', padding=True, truncation=True, max_length=65)\n",
        "test_output_tokenized = tokenizer(test_output, return_tensors='pt', padding=True, truncation=True, max_length=65)\n",
        "\n",
        "\n",
        "\n",
        "train_ids = torch.tensor(train_input_tokenized['input_ids'].squeeze())\n",
        "train_attention = torch.tensor(train_input_tokenized['attention_mask'])\n",
        "test_ids = torch.tensor(test_input_tokenized['input_ids'])\n",
        "test_labels = torch.tensor(test_output_tokenized['input_ids'])\n",
        "test_attention = torch.tensor(test_input_tokenized['attention_mask'])\n",
        "\n",
        "train_dataset = TensorDataset(train_ids, train_ids,train_attention)\n",
        "test_dataset = TensorDataset(test_ids, test_labels ,test_attention)\n",
        "\n",
        "batch_size = 32\n",
        "train_dataloader = DataLoader(train_dataset, batch_size=batch_size, shuffle=True)\n",
        "test_dataloader = DataLoader(test_dataset, batch_size=batch_size, shuffle=False)"
      ],
      "metadata": {
        "colab": {
          "base_uri": "https://localhost:8080/"
        },
        "id": "zPKkgI5Pfk0b",
        "outputId": "3c1fac9e-2c52-4bd4-c0e0-f494efbed6ea"
      },
      "execution_count": null,
      "outputs": [
        {
          "output_type": "stream",
          "name": "stderr",
          "text": [
            "<ipython-input-25-37126281f117>:21: UserWarning: To copy construct from a tensor, it is recommended to use sourceTensor.clone().detach() or sourceTensor.clone().detach().requires_grad_(True), rather than torch.tensor(sourceTensor).\n",
            "  train_ids = torch.tensor(train_input_tokenized['input_ids'].squeeze())\n",
            "<ipython-input-25-37126281f117>:23: UserWarning: To copy construct from a tensor, it is recommended to use sourceTensor.clone().detach() or sourceTensor.clone().detach().requires_grad_(True), rather than torch.tensor(sourceTensor).\n",
            "  train_attention = torch.tensor(train_input_tokenized['attention_mask'])\n",
            "<ipython-input-25-37126281f117>:24: UserWarning: To copy construct from a tensor, it is recommended to use sourceTensor.clone().detach() or sourceTensor.clone().detach().requires_grad_(True), rather than torch.tensor(sourceTensor).\n",
            "  test_ids = torch.tensor(test_input_tokenized['input_ids'])\n",
            "<ipython-input-25-37126281f117>:25: UserWarning: To copy construct from a tensor, it is recommended to use sourceTensor.clone().detach() or sourceTensor.clone().detach().requires_grad_(True), rather than torch.tensor(sourceTensor).\n",
            "  test_labels = torch.tensor(test_output_tokenized['input_ids'])\n",
            "<ipython-input-25-37126281f117>:26: UserWarning: To copy construct from a tensor, it is recommended to use sourceTensor.clone().detach() or sourceTensor.clone().detach().requires_grad_(True), rather than torch.tensor(sourceTensor).\n",
            "  test_attention = torch.tensor(test_input_tokenized['attention_mask'])\n"
          ]
        }
      ]
    },
    {
      "cell_type": "markdown",
      "source": [
        "# ج"
      ],
      "metadata": {
        "id": "UJEjndS_9hii"
      }
    },
    {
      "cell_type": "code",
      "execution_count": null,
      "metadata": {
        "id": "15Hq6SREdYcN",
        "colab": {
          "base_uri": "https://localhost:8080/",
          "height": 49,
          "referenced_widgets": [
            "84b01c45edc246dfab5b1ff919e812a7",
            "a8c7728e7e564c46a4df150300eb2b4b",
            "c08c6adadad2492ba2f5f9d7b2c3f5b5",
            "b1dbcf3ec50a4dfbb04580f9ac2baede",
            "188c492096894693b6906c9b82c2bab2",
            "fa99333091d84f56b557945288bdc785",
            "2b09de8b3eec442e83ca992c0249db26",
            "ec5c218e267f4fdf8d58ce27502b8220",
            "5e0a58d1a54f45fbb4ef80fb1f8970f7",
            "79554f63b1284ff69259efac66d1714e",
            "15c545503c014b9fa062799dc7087584"
          ]
        },
        "outputId": "6f5cc34c-b430-4056-acac-7c602518f5d0"
      },
      "outputs": [
        {
          "output_type": "display_data",
          "data": {
            "text/plain": [
              "pytorch_model.bin:   0%|          | 0.00/485M [00:00<?, ?B/s]"
            ],
            "application/vnd.jupyter.widget-view+json": {
              "version_major": 2,
              "version_minor": 0,
              "model_id": "84b01c45edc246dfab5b1ff919e812a7"
            }
          },
          "metadata": {}
        }
      ],
      "source": [
        "\n",
        "configuration = GPT2Config.from_pretrained('HooshvareLab/gpt2-fa')\n",
        "model = AutoModelForCausalLM.from_pretrained('HooshvareLab/gpt2-fa')\n",
        "model.config.pad_token_id = model.config.eos_token_id\n"
      ]
    },
    {
      "cell_type": "code",
      "execution_count": null,
      "metadata": {
        "colab": {
          "base_uri": "https://localhost:8080/"
        },
        "id": "sk0rZVQQdIVr",
        "outputId": "b7d4d2d1-0ada-4d6a-cd00-4f1f5547bcb0"
      },
      "outputs": [
        {
          "metadata": {
            "tags": null
          },
          "name": "stderr",
          "output_type": "stream",
          "text": [
            "/usr/local/lib/python3.10/dist-packages/transformers/optimization.py:411: FutureWarning: This implementation of AdamW is deprecated and will be removed in a future version. Use the PyTorch implementation torch.optim.AdamW instead, or set `no_deprecation_warning=True` to disable this warning\n",
            "  warnings.warn(\n",
            "  0%|          | 0/15 [00:00<?, ?it/s]"
          ]
        },
        {
          "metadata": {
            "tags": null
          },
          "name": "stdout",
          "output_type": "stream",
          "text": [
            "Beginning epoch 1 of 15\n"
          ]
        },
        {
          "metadata": {
            "tags": null
          },
          "name": "stderr",
          "output_type": "stream",
          "text": [
            "100%|██████████| 1241/1241 [04:02<00:00,  5.11it/s]\n",
            "  7%|▋         | 1/15 [04:02<56:37, 242.71s/it]"
          ]
        },
        {
          "metadata": {
            "tags": null
          },
          "name": "stdout",
          "output_type": "stream",
          "text": [
            "\n",
            "Epoch 1 - Training Loss: 3.4076\n",
            "Beginning epoch 2 of 15\n"
          ]
        },
        {
          "metadata": {
            "tags": null
          },
          "name": "stderr",
          "output_type": "stream",
          "text": [
            "100%|██████████| 1241/1241 [04:10<00:00,  4.95it/s]\n",
            " 13%|█▎        | 2/15 [08:13<53:35, 247.36s/it]"
          ]
        },
        {
          "metadata": {
            "tags": null
          },
          "name": "stdout",
          "output_type": "stream",
          "text": [
            "\n",
            "Epoch 2 - Training Loss: 2.5723\n",
            "Beginning epoch 3 of 15\n"
          ]
        },
        {
          "metadata": {
            "tags": null
          },
          "name": "stderr",
          "output_type": "stream",
          "text": [
            "100%|██████████| 1241/1241 [04:12<00:00,  4.92it/s]\n",
            " 20%|██        | 3/15 [12:25<49:54, 249.54s/it]"
          ]
        },
        {
          "metadata": {
            "tags": null
          },
          "name": "stdout",
          "output_type": "stream",
          "text": [
            "\n",
            "Epoch 3 - Training Loss: 2.2458\n",
            "Beginning epoch 4 of 15\n"
          ]
        },
        {
          "metadata": {
            "tags": null
          },
          "name": "stderr",
          "output_type": "stream",
          "text": [
            "100%|██████████| 1241/1241 [04:12<00:00,  4.91it/s]\n",
            " 27%|██▋       | 4/15 [16:38<45:59, 250.87s/it]"
          ]
        },
        {
          "metadata": {
            "tags": null
          },
          "name": "stdout",
          "output_type": "stream",
          "text": [
            "\n",
            "Epoch 4 - Training Loss: 2.0043\n",
            "Beginning epoch 5 of 15\n"
          ]
        },
        {
          "metadata": {
            "tags": null
          },
          "name": "stderr",
          "output_type": "stream",
          "text": [
            "100%|██████████| 1241/1241 [04:12<00:00,  4.91it/s]\n",
            " 33%|███▎      | 5/15 [20:50<41:54, 251.47s/it]"
          ]
        },
        {
          "metadata": {
            "tags": null
          },
          "name": "stdout",
          "output_type": "stream",
          "text": [
            "\n",
            "Epoch 5 - Training Loss: 1.7968\n",
            "Beginning epoch 6 of 15\n"
          ]
        },
        {
          "metadata": {
            "tags": null
          },
          "name": "stderr",
          "output_type": "stream",
          "text": [
            "100%|██████████| 1241/1241 [04:12<00:00,  4.91it/s]\n",
            " 40%|████      | 6/15 [25:03<37:46, 251.89s/it]"
          ]
        },
        {
          "metadata": {
            "tags": null
          },
          "name": "stdout",
          "output_type": "stream",
          "text": [
            "\n",
            "Epoch 6 - Training Loss: 1.6136\n",
            "Beginning epoch 7 of 15\n"
          ]
        },
        {
          "metadata": {
            "tags": null
          },
          "name": "stderr",
          "output_type": "stream",
          "text": [
            "100%|██████████| 1241/1241 [04:12<00:00,  4.91it/s]\n",
            " 47%|████▋     | 7/15 [29:16<33:36, 252.09s/it]"
          ]
        },
        {
          "metadata": {
            "tags": null
          },
          "name": "stdout",
          "output_type": "stream",
          "text": [
            "\n",
            "Epoch 7 - Training Loss: 1.4536\n",
            "Beginning epoch 8 of 15\n"
          ]
        },
        {
          "metadata": {
            "tags": null
          },
          "name": "stderr",
          "output_type": "stream",
          "text": [
            "100%|██████████| 1241/1241 [04:12<00:00,  4.91it/s]\n",
            " 53%|█████▎    | 8/15 [33:28<29:25, 252.23s/it]"
          ]
        },
        {
          "metadata": {
            "tags": null
          },
          "name": "stdout",
          "output_type": "stream",
          "text": [
            "\n",
            "Epoch 8 - Training Loss: 1.3160\n",
            "Beginning epoch 9 of 15\n"
          ]
        },
        {
          "metadata": {
            "tags": null
          },
          "name": "stderr",
          "output_type": "stream",
          "text": [
            "100%|██████████| 1241/1241 [04:12<00:00,  4.91it/s]\n",
            " 60%|██████    | 9/15 [37:41<25:14, 252.34s/it]"
          ]
        },
        {
          "metadata": {
            "tags": null
          },
          "name": "stdout",
          "output_type": "stream",
          "text": [
            "\n",
            "Epoch 9 - Training Loss: 1.1964\n",
            "Beginning epoch 10 of 15\n"
          ]
        },
        {
          "metadata": {
            "tags": null
          },
          "name": "stderr",
          "output_type": "stream",
          "text": [
            "100%|██████████| 1241/1241 [04:12<00:00,  4.92it/s]\n",
            " 67%|██████▋   | 10/15 [41:53<21:01, 252.36s/it]"
          ]
        },
        {
          "metadata": {
            "tags": null
          },
          "name": "stdout",
          "output_type": "stream",
          "text": [
            "\n",
            "Epoch 10 - Training Loss: 1.0932\n",
            "Beginning epoch 11 of 15\n"
          ]
        },
        {
          "metadata": {
            "tags": null
          },
          "name": "stderr",
          "output_type": "stream",
          "text": [
            "100%|██████████| 1241/1241 [04:12<00:00,  4.92it/s]\n",
            " 73%|███████▎  | 11/15 [46:05<16:49, 252.35s/it]"
          ]
        },
        {
          "metadata": {
            "tags": null
          },
          "name": "stdout",
          "output_type": "stream",
          "text": [
            "\n",
            "Epoch 11 - Training Loss: 1.0087\n",
            "Beginning epoch 12 of 15\n"
          ]
        },
        {
          "output_type": "stream",
          "name": "stderr",
          "text": [
            "100%|██████████| 1241/1241 [04:12<00:00,  4.92it/s]\n",
            " 80%|████████  | 12/15 [50:18<12:36, 252.26s/it]"
          ]
        },
        {
          "output_type": "stream",
          "name": "stdout",
          "text": [
            "\n",
            "Epoch 12 - Training Loss: 0.9366\n",
            "Beginning epoch 13 of 15\n"
          ]
        },
        {
          "output_type": "stream",
          "name": "stderr",
          "text": [
            "100%|██████████| 1241/1241 [04:12<00:00,  4.92it/s]\n",
            " 87%|████████▋ | 13/15 [54:30<08:24, 252.24s/it]"
          ]
        },
        {
          "output_type": "stream",
          "name": "stdout",
          "text": [
            "\n",
            "Epoch 13 - Training Loss: 0.8795\n",
            "Beginning epoch 14 of 15\n"
          ]
        },
        {
          "output_type": "stream",
          "name": "stderr",
          "text": [
            "100%|██████████| 1241/1241 [04:12<00:00,  4.92it/s]\n",
            " 93%|█████████▎| 14/15 [58:42<04:12, 252.24s/it]"
          ]
        },
        {
          "output_type": "stream",
          "name": "stdout",
          "text": [
            "\n",
            "Epoch 14 - Training Loss: 0.8354\n",
            "Beginning epoch 15 of 15\n"
          ]
        },
        {
          "output_type": "stream",
          "name": "stderr",
          "text": [
            "100%|██████████| 1241/1241 [04:12<00:00,  4.92it/s]\n",
            "100%|██████████| 15/15 [1:02:54<00:00, 251.65s/it]"
          ]
        },
        {
          "output_type": "stream",
          "name": "stdout",
          "text": [
            "\n",
            "Epoch 15 - Training Loss: 0.8025\n"
          ]
        },
        {
          "output_type": "stream",
          "name": "stderr",
          "text": [
            "\n"
          ]
        }
      ],
      "source": [
        "epochs = 15\n",
        "learning_rate = 0.0001\n",
        "warmup_steps = 1e2\n",
        "\n",
        "device = torch.device(\"cuda\" if torch.cuda.is_available() else \"cpu\")\n",
        "model.to(device)\n",
        "\n",
        "optimizer = AdamW(model.parameters(), lr=learning_rate)\n",
        "scheduler = get_linear_schedule_with_warmup(optimizer, num_warmup_steps=warmup_steps, num_training_steps=len(train_dataloader) * epochs)\n",
        "criterion = nn.CrossEntropyLoss()\n",
        "\n",
        "for epoch_i in tqdm(range(0, epochs), position=0):\n",
        "\n",
        "    print(f'Beginning epoch {epoch_i + 1} of {epochs}')\n",
        "    total_train_loss = 0\n",
        "\n",
        "    model.train()\n",
        "    for step, batch in tqdm(enumerate(train_dataloader), total=len(train_dataloader), position=0):\n",
        "        b_input_ids = batch[0].to(device).squeeze()\n",
        "        b_labels = batch[1].to(device).squeeze()\n",
        "        b_masks = batch[2].to(device).squeeze()\n",
        "        b_labels = b_labels.clone()\n",
        "\n",
        "        model.zero_grad()\n",
        "\n",
        "        outputs = model(b_input_ids, attention_mask=b_masks, labels=b_labels)\n",
        "\n",
        "        loss=outputs.loss\n",
        "        batch_loss = loss.item()\n",
        "        total_train_loss += batch_loss\n",
        "        loss.backward()\n",
        "        optimizer.step()\n",
        "        scheduler.step()\n",
        "\n",
        "    avg_train_loss = total_train_loss / len(train_dataloader)\n",
        "    print(f'\\nEpoch {epoch_i + 1} - Training Loss: {avg_train_loss:.4f}')\n"
      ]
    },
    {
      "cell_type": "markdown",
      "source": [
        "# د"
      ],
      "metadata": {
        "id": "7AfqIQti9uon"
      }
    },
    {
      "cell_type": "code",
      "execution_count": null,
      "metadata": {
        "colab": {
          "base_uri": "https://localhost:8080/"
        },
        "id": "vEgm62b_uSpT",
        "outputId": "839e24cf-9983-4c11-dbdf-a6c622fb52c1"
      },
      "outputs": [
        {
          "output_type": "stream",
          "name": "stderr",
          "text": [
            "A decoder-only architecture is being used, but right-padding was detected! For correct generation results, please set `padding_side='left'` when initializing the tokenizer.\n",
            "A decoder-only architecture is being used, but right-padding was detected! For correct generation results, please set `padding_side='left'` when initializing the tokenizer.\n"
          ]
        },
        {
          "output_type": "stream",
          "name": "stdout",
          "text": [
            "گنهکارتر چیز مردم بود   همیشه به کام دل مرد نیکی بود\n",
            "گنهکارتر چیز مردم بود    که از کین و آزش خرد گم بود\n",
            "0.22652581507881553\n"
          ]
        },
        {
          "output_type": "stream",
          "name": "stderr",
          "text": [
            "A decoder-only architecture is being used, but right-padding was detected! For correct generation results, please set `padding_side='left'` when initializing the tokenizer.\n"
          ]
        },
        {
          "output_type": "stream",
          "name": "stdout",
          "text": [
            "بفرمود تا رفت نزدیک تخت   نشست از بر جامهٔ شاه نیک بخت\n",
            "بفرمود تا رفت نزدیک تخت    دل شاه کسری غمی گشت سخت\n",
            "0.33180774028439425\n"
          ]
        },
        {
          "output_type": "stream",
          "name": "stderr",
          "text": [
            "A decoder-only architecture is being used, but right-padding was detected! For correct generation results, please set `padding_side='left'` when initializing the tokenizer.\n"
          ]
        },
        {
          "output_type": "stream",
          "name": "stdout",
          "text": [
            "سه گرد از پی بیم خورده دو تور   بیامد بپیش اندرون لشکر چون نره شیر\n",
            "سه گرد از پی بیم خورده دو تور    بتازند پویان بدین راه دور\n",
            "0.4758733096412523\n"
          ]
        },
        {
          "output_type": "stream",
          "name": "stderr",
          "text": [
            "A decoder-only architecture is being used, but right-padding was detected! For correct generation results, please set `padding_side='left'` when initializing the tokenizer.\n"
          ]
        },
        {
          "output_type": "stream",
          "name": "stdout",
          "text": [
            "سبک زاد فرخ زبان برگشاد   سخنهای شاهان همه کرد یاد\n",
            "سبک زاد فرخ زبان برگشاد    همی کرد گفتار نا خوب یاد\n",
            "0.38662527162788296\n"
          ]
        },
        {
          "output_type": "stream",
          "name": "stderr",
          "text": [
            "A decoder-only architecture is being used, but right-padding was detected! For correct generation results, please set `padding_side='left'` when initializing the tokenizer.\n"
          ]
        },
        {
          "output_type": "stream",
          "name": "stdout",
          "text": [
            "بدو گفت خاقان که ای سرفراز   به گفتار و دیدار و فرهنگ و هم راز و نیاز\n",
            "بدو گفت خاقان که ای سرفراز    بدین روز هرگز مبادت نیاز\n",
            "0.2928298013714697\n"
          ]
        },
        {
          "output_type": "stream",
          "name": "stderr",
          "text": [
            "A decoder-only architecture is being used, but right-padding was detected! For correct generation results, please set `padding_side='left'` when initializing the tokenizer.\n"
          ]
        },
        {
          "output_type": "stream",
          "name": "stdout",
          "text": [
            "از آشوب وز جنگ روی زمین   نبینم بد و نیک و بد از روی و کین و\n",
            "از آشوب وز جنگ روی زمین    بیاساید و راه جوید بدین\n",
            "0.2928298013714697\n"
          ]
        },
        {
          "output_type": "stream",
          "name": "stderr",
          "text": [
            "A decoder-only architecture is being used, but right-padding was detected! For correct generation results, please set `padding_side='left'` when initializing the tokenizer.\n"
          ]
        },
        {
          "output_type": "stream",
          "name": "stdout",
          "text": [
            "بشد تیز و رازش به دهقان بگفت   دل و مغزش ازو گشت با درد جفت جفت\n",
            "بشد تیز و رازش به دهقان بگفت    که این دخترت را کسی نیست جفت\n",
            "0.3850322886878713\n"
          ]
        },
        {
          "output_type": "stream",
          "name": "stderr",
          "text": [
            "A decoder-only architecture is being used, but right-padding was detected! For correct generation results, please set `padding_side='left'` when initializing the tokenizer.\n"
          ]
        },
        {
          "output_type": "stream",
          "name": "stdout",
          "text": [
            "هنرهای ما شاه داند همه   ز شمشیر و گرز و سپاهی همه رمه\n",
            "هنرهای ما شاه داند همه    که او چون شبانست و ما چون رمه\n",
            "0.31455601883230705\n"
          ]
        },
        {
          "output_type": "stream",
          "name": "stderr",
          "text": [
            "A decoder-only architecture is being used, but right-padding was detected! For correct generation results, please set `padding_side='left'` when initializing the tokenizer.\n"
          ]
        },
        {
          "output_type": "stream",
          "name": "stdout",
          "text": [
            "چنین داد پاسخ که من ساز جنگ   به چنگم نیارم کس نام و ننگ و درنگ و\n",
            "چنین داد پاسخ که من ساز جنگ    بپیش آورم چون شود کار تنگ\n",
            "0.34823528327578535\n"
          ]
        },
        {
          "output_type": "stream",
          "name": "stderr",
          "text": [
            "A decoder-only architecture is being used, but right-padding was detected! For correct generation results, please set `padding_side='left'` when initializing the tokenizer.\n"
          ]
        },
        {
          "output_type": "stream",
          "name": "stdout",
          "text": [
            "بگردنش بر زد یکی تیغ تیز   فرو ریخت از دیده خون اندر رستخیز\n",
            "بگردنش بر زد یکی تیغ تیز    برآورد ناگاه زو رستخیز\n",
            "0.3955332535877179\n"
          ]
        },
        {
          "output_type": "stream",
          "name": "stderr",
          "text": [
            "A decoder-only architecture is being used, but right-padding was detected! For correct generation results, please set `padding_side='left'` when initializing the tokenizer.\n"
          ]
        },
        {
          "output_type": "stream",
          "name": "stdout",
          "text": [
            "یکی بومهین خیزد از ناگهان   بپیش اندر آید سپهدار جهان\n",
            "یکی بومهین خیزد از ناگهان    بر و بومشان پاک گردد نهان\n",
            "0.355433394487517\n"
          ]
        },
        {
          "output_type": "stream",
          "name": "stderr",
          "text": [
            "A decoder-only architecture is being used, but right-padding was detected! For correct generation results, please set `padding_side='left'` when initializing the tokenizer.\n"
          ]
        },
        {
          "output_type": "stream",
          "name": "stdout",
          "text": [
            "سر از راه پیچیده و داد نه   چنان کز ره نامداران و شاد از نهفت\n",
            "سر از راه پیچیده و داد نه    ز یزدان یکی را به دل یاد نه\n",
            "0.4001601601922499\n"
          ]
        },
        {
          "output_type": "stream",
          "name": "stderr",
          "text": [
            "A decoder-only architecture is being used, but right-padding was detected! For correct generation results, please set `padding_side='left'` when initializing the tokenizer.\n"
          ]
        },
        {
          "output_type": "stream",
          "name": "stdout",
          "text": [
            "چو آمد به نزدیک من سرفراز   پیاده شد از بارهٔ تیزتگ بازساز\n",
            "چو آمد به نزدیک من سرفراز    من از چرمه چنگال کردم دراز\n",
            "0.43361890903486755\n"
          ]
        },
        {
          "output_type": "stream",
          "name": "stderr",
          "text": [
            "A decoder-only architecture is being used, but right-padding was detected! For correct generation results, please set `padding_side='left'` when initializing the tokenizer.\n"
          ]
        },
        {
          "output_type": "stream",
          "name": "stdout",
          "text": [
            "که باشد ز هر بد نگهدارتان   بداندیش و گردنکشی را ستان\n",
            "که باشد ز هر بد نگهدارتان    همه نیک نامی بود یارتان\n",
            "0.4617366309441026\n"
          ]
        },
        {
          "output_type": "stream",
          "name": "stderr",
          "text": [
            "A decoder-only architecture is being used, but right-padding was detected! For correct generation results, please set `padding_side='left'` when initializing the tokenizer.\n"
          ]
        },
        {
          "output_type": "stream",
          "name": "stdout",
          "text": [
            "همان باژ باید پذیرفت نیز   فرستاد باید سوی مهتران\n",
            "همان باژ باید پذیرفت نیز    که دانش به از نامبردار چیز\n",
            "0.3573880113629119\n"
          ]
        },
        {
          "output_type": "stream",
          "name": "stderr",
          "text": [
            "A decoder-only architecture is being used, but right-padding was detected! For correct generation results, please set `padding_side='left'` when initializing the tokenizer.\n"
          ]
        },
        {
          "output_type": "stream",
          "name": "stdout",
          "text": [
            "نباید که روز و شبان بغنوی   بگیتی فزون آید از گوهر و گفت و گوی\n",
            "نباید که روز و شبان بغنوی    مگر نزد طوس سپهبد شوی\n",
            "0.3237722713145643\n"
          ]
        },
        {
          "output_type": "stream",
          "name": "stderr",
          "text": [
            "A decoder-only architecture is being used, but right-padding was detected! For correct generation results, please set `padding_side='left'` when initializing the tokenizer.\n"
          ]
        },
        {
          "output_type": "stream",
          "name": "stdout",
          "text": [
            "مکش مر مرا تا نمایمت راه   ببینی دل روشن از تاج و گاه\n",
            "مکش مر مرا تا نمایمت راه    بجایی که او دارد آرامگاه\n",
            "0.3805803001674946\n"
          ]
        },
        {
          "output_type": "stream",
          "name": "stderr",
          "text": [
            "A decoder-only architecture is being used, but right-padding was detected! For correct generation results, please set `padding_side='left'` when initializing the tokenizer.\n"
          ]
        },
        {
          "output_type": "stream",
          "name": "stdout",
          "text": [
            "بخندید شاپور و بستد نبید   به خاک اندر آمد سر تاج را ناپدید\n",
            "بخندید شاپور و بستد نبید    یکی باد سرد از جگر برکشید\n",
            "0.2891784933232572\n"
          ]
        },
        {
          "output_type": "stream",
          "name": "stderr",
          "text": [
            "A decoder-only architecture is being used, but right-padding was detected! For correct generation results, please set `padding_side='left'` when initializing the tokenizer.\n"
          ]
        },
        {
          "output_type": "stream",
          "name": "stdout",
          "text": [
            "بزرگان شدند ایمن از خواسته   همه دل نهاده از لشکر آراسته\n",
            "بزرگان شدند ایمن از خواسته    زن و زاده و باغ آراسته\n",
            "0.3672056269893592\n"
          ]
        },
        {
          "output_type": "stream",
          "name": "stderr",
          "text": [
            "A decoder-only architecture is being used, but right-padding was detected! For correct generation results, please set `padding_side='left'` when initializing the tokenizer.\n"
          ]
        },
        {
          "output_type": "stream",
          "name": "stdout",
          "text": [
            "چو شد روز رستم بپوشید گبر   بیامد بر شاه ایران گذر\n",
            "چو شد روز رستم بپوشید گبر    نگهبان تن کرد بر گبر ببر\n",
            "0.43817713423777205\n"
          ]
        },
        {
          "output_type": "stream",
          "name": "stderr",
          "text": [
            "A decoder-only architecture is being used, but right-padding was detected! For correct generation results, please set `padding_side='left'` when initializing the tokenizer.\n"
          ]
        },
        {
          "output_type": "stream",
          "name": "stdout",
          "text": [
            "دو دیده زشاه جهان برمدار   برین کینه گه بر سراپردهٔ شهریار\n",
            "دو دیده زشاه جهان برمدار    فدی کن تن خویش در کارزار\n",
            "0.3508439695638686\n"
          ]
        },
        {
          "output_type": "stream",
          "name": "stderr",
          "text": [
            "A decoder-only architecture is being used, but right-padding was detected! For correct generation results, please set `padding_side='left'` when initializing the tokenizer.\n"
          ]
        },
        {
          "output_type": "stream",
          "name": "stdout",
          "text": [
            "که پیروز را پاک فرزند بود   همیشه دل ما پر از درد و تیمار بود\n",
            "که پیروز را پاک فرزند بود    خردمند شاخی برومند بود\n",
            "0.33649324423301513\n"
          ]
        },
        {
          "output_type": "stream",
          "name": "stderr",
          "text": [
            "A decoder-only architecture is being used, but right-padding was detected! For correct generation results, please set `padding_side='left'` when initializing the tokenizer.\n"
          ]
        },
        {
          "output_type": "stream",
          "name": "stdout",
          "text": [
            "نه با پاک فرزند تو بد کنم   ز دل کینه و آز بیرون کنم\n",
            "نه با پاک فرزند تو بد کنم    نه فرمان دهم نیز و نه خود کنم\n",
            "0.42871983279097786\n"
          ]
        },
        {
          "output_type": "stream",
          "name": "stderr",
          "text": [
            "A decoder-only architecture is being used, but right-padding was detected! For correct generation results, please set `padding_side='left'` when initializing the tokenizer.\n"
          ]
        },
        {
          "output_type": "stream",
          "name": "stdout",
          "text": [
            "چو چیره شدی بیگنه خون مریز   شدی کشته بر دست شیران ستیز\n",
            "چو چیره شدی بیگنه خون مریز    مکن چنگ گردون گردنده تیز\n",
            "0.4172261448611506\n"
          ]
        },
        {
          "output_type": "stream",
          "name": "stderr",
          "text": [
            "A decoder-only architecture is being used, but right-padding was detected! For correct generation results, please set `padding_side='left'` when initializing the tokenizer.\n"
          ]
        },
        {
          "output_type": "stream",
          "name": "stdout",
          "text": [
            "به جام اندرون گوهر شاهوار   همان اسپ زرین و زرین ستاند به بار\n",
            "به جام اندرون گوهر شاهوار    بت آرای با افسر و گوشوار\n",
            "0.3026643726685863\n"
          ]
        },
        {
          "output_type": "stream",
          "name": "stderr",
          "text": [
            "A decoder-only architecture is being used, but right-padding was detected! For correct generation results, please set `padding_side='left'` when initializing the tokenizer.\n"
          ]
        },
        {
          "output_type": "stream",
          "name": "stdout",
          "text": [
            "نباید که پیچد کس از رنج ما   دریغ آیدش بهره از گنج و گنج ما\n",
            "نباید که پیچد کس از رنج ما    ز بیشی و آگندن گنج ما\n",
            "0.4546697236991713\n"
          ]
        },
        {
          "output_type": "stream",
          "name": "stderr",
          "text": [
            "A decoder-only architecture is being used, but right-padding was detected! For correct generation results, please set `padding_side='left'` when initializing the tokenizer.\n"
          ]
        },
        {
          "output_type": "stream",
          "name": "stdout",
          "text": [
            "همه گوش دارید فرمان من   نگه دار بیدار جان و پیمان من\n",
            "همه گوش دارید فرمان من    مگردید یکسر ز پیمان من\n",
            "0.3646285861936467\n"
          ]
        },
        {
          "output_type": "stream",
          "name": "stderr",
          "text": [
            "A decoder-only architecture is being used, but right-padding was detected! For correct generation results, please set `padding_side='left'` when initializing the tokenizer.\n"
          ]
        },
        {
          "output_type": "stream",
          "name": "stdout",
          "text": [
            "کجا گندشاپور خواندی ورا   ازان خوب چهرهٔ ورا\n",
            "کجا گندشاپور خواندی ورا    جزین نام نامی نراندی ورا\n",
            "0.32260135189272865\n"
          ]
        },
        {
          "output_type": "stream",
          "name": "stderr",
          "text": [
            "A decoder-only architecture is being used, but right-padding was detected! For correct generation results, please set `padding_side='left'` when initializing the tokenizer.\n"
          ]
        },
        {
          "output_type": "stream",
          "name": "stdout",
          "text": [
            "سپهبد پذیرفت زو آنچ بود   همان بخشش و کوشش همان بود\n",
            "سپهبد پذیرفت زو آنچ بود    ز دینار وز گوهر نابسود\n",
            "0.3508439695638686\n"
          ]
        },
        {
          "output_type": "stream",
          "name": "stderr",
          "text": [
            "A decoder-only architecture is being used, but right-padding was detected! For correct generation results, please set `padding_side='left'` when initializing the tokenizer.\n"
          ]
        },
        {
          "output_type": "stream",
          "name": "stdout",
          "text": [
            "به گفتار دهقان کنون بازگرد   نگر تا چه گوید چه دارد به روز نبرد\n",
            "به گفتار دهقان کنون بازگرد    نگر تا چه گوید سراینده مرد\n",
            "0.5956403592718089\n"
          ]
        },
        {
          "output_type": "stream",
          "name": "stderr",
          "text": [
            "A decoder-only architecture is being used, but right-padding was detected! For correct generation results, please set `padding_side='left'` when initializing the tokenizer.\n"
          ]
        },
        {
          "output_type": "stream",
          "name": "stdout",
          "text": [
            "به دخمه درون بس که تنهاشویم   به گور و به هامون در بی آهو شویم\n",
            "به دخمه درون بس که تنهاشویم    اگر چند با برز و بالا شویم\n",
            "0.34791594751284466\n"
          ]
        },
        {
          "output_type": "stream",
          "name": "stderr",
          "text": [
            "A decoder-only architecture is being used, but right-padding was detected! For correct generation results, please set `padding_side='left'` when initializing the tokenizer.\n"
          ]
        },
        {
          "output_type": "stream",
          "name": "stdout",
          "text": [
            "چو ایرانیان آگهی یافتند   سوی آتش تیز بشتافتند\n",
            "چو ایرانیان آگهی یافتند    یکایک سوی چاره بشتافتند\n",
            "0.38260294162784475\n"
          ]
        },
        {
          "output_type": "stream",
          "name": "stderr",
          "text": [
            "A decoder-only architecture is being used, but right-padding was detected! For correct generation results, please set `padding_side='left'` when initializing the tokenizer.\n"
          ]
        },
        {
          "output_type": "stream",
          "name": "stdout",
          "text": [
            "ز لشکر هر آنکس که هنگام کار   ز دینار وز گوهر شاه گوهرنگار\n",
            "ز لشکر هر آنکس که هنگام کار    بماندند با نامور شهریار\n",
            "0.4703709593866897\n"
          ]
        },
        {
          "output_type": "stream",
          "name": "stderr",
          "text": [
            "A decoder-only architecture is being used, but right-padding was detected! For correct generation results, please set `padding_side='left'` when initializing the tokenizer.\n"
          ]
        },
        {
          "output_type": "stream",
          "name": "stdout",
          "text": [
            "بگاهی که رفت آفریدون گرد   ز لشکر بشد روشنایی ببرد از دشت گرد\n",
            "بگاهی که رفت آفریدون گرد    وزان تا زیان نام مردی ببرد\n",
            "0.3026643726685863\n"
          ]
        },
        {
          "output_type": "stream",
          "name": "stderr",
          "text": [
            "A decoder-only architecture is being used, but right-padding was detected! For correct generation results, please set `padding_side='left'` when initializing the tokenizer.\n"
          ]
        },
        {
          "output_type": "stream",
          "name": "stdout",
          "text": [
            "چنین داد پاسخ که این را بدار   بود اختر و گردش اختر روزگار\n",
            "چنین داد پاسخ که این را بدار    بخواهم هر آنگه که آید به کار\n",
            "0.43554520091572024\n"
          ]
        },
        {
          "output_type": "stream",
          "name": "stderr",
          "text": [
            "A decoder-only architecture is being used, but right-padding was detected! For correct generation results, please set `padding_side='left'` when initializing the tokenizer.\n"
          ]
        },
        {
          "output_type": "stream",
          "name": "stdout",
          "text": [
            "همان روزهٔ پاک یک شنبدی   بیاسود و آمدش دل از خوبی وبدی\n",
            "همان روزهٔ پاک یک شنبدی    ز هر در پرستندهٔ ایزدی\n",
            "0.31702331385234306\n"
          ]
        },
        {
          "output_type": "stream",
          "name": "stderr",
          "text": [
            "A decoder-only architecture is being used, but right-padding was detected! For correct generation results, please set `padding_side='left'` when initializing the tokenizer.\n"
          ]
        },
        {
          "output_type": "stream",
          "name": "stdout",
          "text": [
            "خروشید کای مهتر نامدار   ببینی کنون گردش روزگار\n",
            "خروشید کای مهتر نامدار    یکی سنگ غلتان شد از کوهسار\n",
            "0.26924761780320416\n"
          ]
        },
        {
          "output_type": "stream",
          "name": "stderr",
          "text": [
            "A decoder-only architecture is being used, but right-padding was detected! For correct generation results, please set `padding_side='left'` when initializing the tokenizer.\n"
          ]
        },
        {
          "output_type": "stream",
          "name": "stdout",
          "text": [
            "بدو گفت رستم که هر شهریار   که ای پهلوان زادهٔ پرهنر یادگار\n",
            "بدو گفت رستم که هر شهریار    که کردی مرا ناگهان خواستار\n",
            "0.5156626918239822\n"
          ]
        },
        {
          "output_type": "stream",
          "name": "stderr",
          "text": [
            "A decoder-only architecture is being used, but right-padding was detected! For correct generation results, please set `padding_side='left'` when initializing the tokenizer.\n"
          ]
        },
        {
          "output_type": "stream",
          "name": "stdout",
          "text": [
            "همه کار گردنده چرخ این بود   که در پادشاهی ز اندازه بیرون بود\n",
            "همه کار گردنده چرخ این بود    ز پروردهٔ خویش پرکین بود\n",
            "0.4089601472043678\n"
          ]
        },
        {
          "output_type": "stream",
          "name": "stderr",
          "text": [
            "A decoder-only architecture is being used, but right-padding was detected! For correct generation results, please set `padding_side='left'` when initializing the tokenizer.\n"
          ]
        },
        {
          "output_type": "stream",
          "name": "stdout",
          "text": [
            "بیاورد لشکر به دشت شکار   به آبشخور آمد همی میش و شکار\n",
            "بیاورد لشکر به دشت شکار    سواران شمشیر زن ده هزار\n",
            "0.31702331385234306\n"
          ]
        },
        {
          "output_type": "stream",
          "name": "stderr",
          "text": [
            "A decoder-only architecture is being used, but right-padding was detected! For correct generation results, please set `padding_side='left'` when initializing the tokenizer.\n"
          ]
        },
        {
          "output_type": "stream",
          "name": "stdout",
          "text": [
            "پراندیشه دل زره بازگشت   ز هر گونه اندیشه دل از غم و اندیشه گشت\n",
            "پراندیشه دل زره بازگشت    چنان بد که با باد انباز گشت\n",
            "0.18798317647335086\n"
          ]
        },
        {
          "output_type": "stream",
          "name": "stderr",
          "text": [
            "A decoder-only architecture is being used, but right-padding was detected! For correct generation results, please set `padding_side='left'` when initializing the tokenizer.\n"
          ]
        },
        {
          "output_type": "stream",
          "name": "stdout",
          "text": [
            "ز بالای من نیست بالاش کم   نه از فر او بر زمین کرده سر ژنده پیل و\n",
            "ز بالای من نیست بالاش کم    برزم اندرون دل ندارد دژم\n",
            "0.28175950490399515\n"
          ]
        },
        {
          "output_type": "stream",
          "name": "stderr",
          "text": [
            "A decoder-only architecture is being used, but right-padding was detected! For correct generation results, please set `padding_side='left'` when initializing the tokenizer.\n"
          ]
        },
        {
          "output_type": "stream",
          "name": "stdout",
          "text": [
            "بپوشید زربفت رومی قبای   ز خفتان و جوشن و خود و گوپال و\n",
            "بپوشید زربفت رومی قبای    ز تاج اندر آویخت پر همای\n",
            "0.2891784933232572\n"
          ]
        },
        {
          "output_type": "stream",
          "name": "stderr",
          "text": [
            "A decoder-only architecture is being used, but right-padding was detected! For correct generation results, please set `padding_side='left'` when initializing the tokenizer.\n"
          ]
        },
        {
          "output_type": "stream",
          "name": "stdout",
          "text": [
            "چنین تا ز گردش به ماهی شود   ز نخچیر و بازی به بی آهو تن شود\n",
            "چنین تا ز گردش به ماهی شود    پر از تیرگی و سیاهی شود\n",
            "0.39653842879131873\n"
          ]
        },
        {
          "output_type": "stream",
          "name": "stderr",
          "text": [
            "A decoder-only architecture is being used, but right-padding was detected! For correct generation results, please set `padding_side='left'` when initializing the tokenizer.\n"
          ]
        },
        {
          "output_type": "stream",
          "name": "stdout",
          "text": [
            "بشد آب گردان مازندران   به ره بر نهادند گردان و با مهتران\n",
            "بشد آب گردان مازندران    چو من دست بردم به گرز گران\n",
            "0.22416933501922293\n"
          ]
        },
        {
          "output_type": "stream",
          "name": "stderr",
          "text": [
            "A decoder-only architecture is being used, but right-padding was detected! For correct generation results, please set `padding_side='left'` when initializing the tokenizer.\n"
          ]
        },
        {
          "output_type": "stream",
          "name": "stdout",
          "text": [
            "که با بارهٔ دژ شما را چه کار   که با جوشن و مغفور و مردان کارزار\n",
            "که با بارهٔ دژ شما را چه کار    سپه را ز شمشیر باید حصار\n",
            "0.4428500142691474\n"
          ]
        },
        {
          "output_type": "stream",
          "name": "stderr",
          "text": [
            "A decoder-only architecture is being used, but right-padding was detected! For correct generation results, please set `padding_side='left'` when initializing the tokenizer.\n"
          ]
        },
        {
          "output_type": "stream",
          "name": "stdout",
          "text": [
            "ز زندان نیابد به سالی رها   ازان پس که خواندش مرزبان اژدها\n",
            "ز زندان نیابد به سالی رها    سوار سرافراز گر بی بها\n",
            "0.4172261448611506\n"
          ]
        },
        {
          "output_type": "stream",
          "name": "stderr",
          "text": [
            "A decoder-only architecture is being used, but right-padding was detected! For correct generation results, please set `padding_side='left'` when initializing the tokenizer.\n"
          ]
        },
        {
          "output_type": "stream",
          "name": "stdout",
          "text": [
            "یکی رزم تا شب برآمد ز کوه   بکردیم یک با دگر همگروه\n",
            "یکی رزم تا شب برآمد ز کوه    بکردند و نامد دل از کین ستوه\n",
            "0.43649904483690155\n"
          ]
        },
        {
          "output_type": "stream",
          "name": "stderr",
          "text": [
            "A decoder-only architecture is being used, but right-padding was detected! For correct generation results, please set `padding_side='left'` when initializing the tokenizer.\n"
          ]
        },
        {
          "output_type": "stream",
          "name": "stdout",
          "text": [
            "مر او را به آیین پیشی بخواست   بران دادگر کو جهان را همو داشت راست\n",
            "مر او را به آیین پیشی بخواست    که آن رسم و آیین بد آنگاه راست\n",
            "0.41374412020518814\n"
          ]
        },
        {
          "output_type": "stream",
          "name": "stderr",
          "text": [
            "A decoder-only architecture is being used, but right-padding was detected! For correct generation results, please set `padding_side='left'` when initializing the tokenizer.\n"
          ]
        },
        {
          "output_type": "stream",
          "name": "stdout",
          "text": [
            "چو بودن بگنگ اندرون شد دراز   همی بود یک هفته با او به راز\n",
            "چو بودن بگنگ اندرون شد دراز    بدیدار کاوسش آمد نیاز\n",
            "0.3498761149110956\n"
          ]
        },
        {
          "output_type": "stream",
          "name": "stderr",
          "text": [
            "A decoder-only architecture is being used, but right-padding was detected! For correct generation results, please set `padding_side='left'` when initializing the tokenizer.\n"
          ]
        },
        {
          "output_type": "stream",
          "name": "stdout",
          "text": [
            "چنین گفت کز من بد آمد به من   ز تیره شب و روز بد شد انجمن\n",
            "چنین گفت کز من بد آمد به من    گر او راست گوید همی این سخن\n",
            "0.4428500142691474\n"
          ]
        },
        {
          "output_type": "stream",
          "name": "stderr",
          "text": [
            "A decoder-only architecture is being used, but right-padding was detected! For correct generation results, please set `padding_side='left'` when initializing the tokenizer.\n"
          ]
        },
        {
          "output_type": "stream",
          "name": "stdout",
          "text": [
            "بدیدند مر پهلوان را پگاه   بران نامداران فرخنده شاه\n",
            "بدیدند مر پهلوان را پگاه    وزان جایگه برگرفتند راه\n",
            "0.44632361378533286\n"
          ]
        },
        {
          "output_type": "stream",
          "name": "stderr",
          "text": [
            "A decoder-only architecture is being used, but right-padding was detected! For correct generation results, please set `padding_side='left'` when initializing the tokenizer.\n"
          ]
        },
        {
          "output_type": "stream",
          "name": "stdout",
          "text": [
            "بر او از ایرانیان شست مرد   بسی نامداران و شیران روز نبرد\n",
            "بر او از ایرانیان شست مرد    سواران و مردان روز نبرد\n",
            "0.4832697830906221\n"
          ]
        },
        {
          "output_type": "stream",
          "name": "stderr",
          "text": [
            "A decoder-only architecture is being used, but right-padding was detected! For correct generation results, please set `padding_side='left'` when initializing the tokenizer.\n"
          ]
        },
        {
          "output_type": "stream",
          "name": "stdout",
          "text": [
            "کمر بست تا گیتی آباد کرد   دل خرم ز اندیشه آزاد کرد\n",
            "کمر بست تا گیتی آباد کرد    سپهدار گودرز کشواد کرد\n",
            "0.43361890903486755\n"
          ]
        },
        {
          "output_type": "stream",
          "name": "stderr",
          "text": [
            "A decoder-only architecture is being used, but right-padding was detected! For correct generation results, please set `padding_side='left'` when initializing the tokenizer.\n"
          ]
        },
        {
          "output_type": "stream",
          "name": "stdout",
          "text": [
            "پر از درد نزدیک قیصر شدند   ز هر دانشی داستانها زدند\n",
            "پر از درد نزدیک قیصر شدند    پر از ناله و خاک بر سر شدند\n",
            "0.351520275689857\n"
          ]
        },
        {
          "output_type": "stream",
          "name": "stderr",
          "text": [
            "A decoder-only architecture is being used, but right-padding was detected! For correct generation results, please set `padding_side='left'` when initializing the tokenizer.\n"
          ]
        },
        {
          "output_type": "stream",
          "name": "stdout",
          "text": [
            "جهاندار اگر چند کوشد برنج   ازو بازگردد نباشد به ایران زمین\n",
            "جهاندار اگر چند کوشد برنج    بتازد بکین و بنازد بگنج\n",
            "0.3508439695638686\n"
          ]
        },
        {
          "output_type": "stream",
          "name": "stderr",
          "text": [
            "A decoder-only architecture is being used, but right-padding was detected! For correct generation results, please set `padding_side='left'` when initializing the tokenizer.\n"
          ]
        },
        {
          "output_type": "stream",
          "name": "stdout",
          "text": [
            "بدزدید یال آن نبرده سوار   کجا ژنده پیل پیکر بد از در کارزار\n",
            "بدزدید یال آن نبرده سوار    چو زین گونه پیوسته شد کارزار\n",
            "0.3026643726685863\n"
          ]
        },
        {
          "output_type": "stream",
          "name": "stderr",
          "text": [
            "A decoder-only architecture is being used, but right-padding was detected! For correct generation results, please set `padding_side='left'` when initializing the tokenizer.\n"
          ]
        },
        {
          "output_type": "stream",
          "name": "stdout",
          "text": [
            "شگفتی بان بارگه بر بماند   چو خورشید تابان به انبوه برفشاند\n",
            "شگفتی بان بارگه بر بماند    دلش را به اندیشه اندر نشاند\n",
            "0.3672056269893592\n"
          ]
        },
        {
          "output_type": "stream",
          "name": "stderr",
          "text": [
            "A decoder-only architecture is being used, but right-padding was detected! For correct generation results, please set `padding_side='left'` when initializing the tokenizer.\n"
          ]
        },
        {
          "output_type": "stream",
          "name": "stdout",
          "text": [
            "بکشتیم و دادیم آبش به رنج   فرستادیم نزدیک او گنج و گنج\n",
            "بکشتیم و دادیم آبش به رنج    بیاویختیم از برش تاج و گنج\n",
            "0.46924700641055994\n"
          ]
        },
        {
          "output_type": "stream",
          "name": "stderr",
          "text": [
            "A decoder-only architecture is being used, but right-padding was detected! For correct generation results, please set `padding_side='left'` when initializing the tokenizer.\n"
          ]
        },
        {
          "output_type": "stream",
          "name": "stdout",
          "text": [
            "برآشفت یک روز و سوگند خورد   که ازان پس نباید که بیند نبرد\n",
            "برآشفت یک روز و سوگند خورد    به روز سپید و شب لاژورد\n",
            "0.3805803001674946\n"
          ]
        },
        {
          "output_type": "stream",
          "name": "stderr",
          "text": [
            "A decoder-only architecture is being used, but right-padding was detected! For correct generation results, please set `padding_side='left'` when initializing the tokenizer.\n"
          ]
        },
        {
          "output_type": "stream",
          "name": "stdout",
          "text": [
            "ببستند آیین به بی راه و راه   برفتند گردان لشکر ز نخچیرگاه\n",
            "ببستند آیین به بی راه و راه    پر آواز شیر وی پرویز شاه\n",
            "0.4744325794453768\n"
          ]
        },
        {
          "output_type": "stream",
          "name": "stderr",
          "text": [
            "A decoder-only architecture is being used, but right-padding was detected! For correct generation results, please set `padding_side='left'` when initializing the tokenizer.\n"
          ]
        },
        {
          "output_type": "stream",
          "name": "stdout",
          "text": [
            "به موبد چنین گفت پس شهریار   که بی عیبی از گردش روزگار\n",
            "به موبد چنین گفت پس شهریار    که دل رابه نیرنگ رنجه مدار\n",
            "0.5156626918239822\n"
          ]
        },
        {
          "output_type": "stream",
          "name": "stderr",
          "text": [
            "A decoder-only architecture is being used, but right-padding was detected! For correct generation results, please set `padding_side='left'` when initializing the tokenizer.\n"
          ]
        },
        {
          "output_type": "stream",
          "name": "stdout",
          "text": [
            "همان نیز گردوی و خسرو بهم   که اندر جهان بود نامبردار و دژم\n",
            "همان نیز گردوی و خسرو بهم    همی رفت از گردیه بیش و کم\n",
            "0.3955332535877179\n"
          ]
        },
        {
          "output_type": "stream",
          "name": "stderr",
          "text": [
            "A decoder-only architecture is being used, but right-padding was detected! For correct generation results, please set `padding_side='left'` when initializing the tokenizer.\n"
          ]
        },
        {
          "output_type": "stream",
          "name": "stdout",
          "text": [
            "یکی مرد بازارگان مایه دار   که باشد به هر کار با او به روز شمار سوار\n",
            "یکی مرد بازارگان مایه دار    بیامد هم آنگه بر شهریار\n",
            "0.22894156860669912\n"
          ]
        },
        {
          "output_type": "stream",
          "name": "stderr",
          "text": [
            "A decoder-only architecture is being used, but right-padding was detected! For correct generation results, please set `padding_side='left'` when initializing the tokenizer.\n"
          ]
        },
        {
          "output_type": "stream",
          "name": "stdout",
          "text": [
            "بران آتش تیز بریانش کرد   شب تیره را روز روشن بهرش کرد\n",
            "بران آتش تیز بریانش کرد    ازان پس که بی پوست و بی جانش کرد\n",
            "0.2808691883279909\n"
          ]
        },
        {
          "output_type": "stream",
          "name": "stderr",
          "text": [
            "A decoder-only architecture is being used, but right-padding was detected! For correct generation results, please set `padding_side='left'` when initializing the tokenizer.\n"
          ]
        },
        {
          "output_type": "stream",
          "name": "stdout",
          "text": [
            "همانا که گل را بها خواستی   ز دینار وز پوشیدنیها خواستی\n",
            "همانا که گل را بها خواستی    بدان رنگ رخ را بیاراستی\n",
            "0.4617366309441026\n"
          ]
        },
        {
          "output_type": "stream",
          "name": "stderr",
          "text": [
            "A decoder-only architecture is being used, but right-padding was detected! For correct generation results, please set `padding_side='left'` when initializing the tokenizer.\n"
          ]
        },
        {
          "output_type": "stream",
          "name": "stdout",
          "text": [
            "فرستاد کس بخردان را بخواند   همه رازها پیش ایشان براند\n",
            "فرستاد کس بخردان را بخواند    بسی داستان پیش ایشان براند\n",
            "0.5253819788848316\n"
          ]
        },
        {
          "output_type": "stream",
          "name": "stderr",
          "text": [
            "A decoder-only architecture is being used, but right-padding was detected! For correct generation results, please set `padding_side='left'` when initializing the tokenizer.\n"
          ]
        },
        {
          "output_type": "stream",
          "name": "stdout",
          "text": [
            "همی کند جان آن گرامی فرود   مبادا که باشد بداند کلاه و کمر\n",
            "همی کند جان آن گرامی فرود    همه تخت مویه همه حصن رود\n",
            "0.3805803001674946\n"
          ]
        },
        {
          "output_type": "stream",
          "name": "stderr",
          "text": [
            "A decoder-only architecture is being used, but right-padding was detected! For correct generation results, please set `padding_side='left'` when initializing the tokenizer.\n"
          ]
        },
        {
          "output_type": "stream",
          "name": "stdout",
          "text": [
            "کسی را نداد از یلان زینهار   که بودند با او ببرد از در شهریار\n",
            "کسی را نداد از یلان زینهار    بکشتند زان خستگان بی شمار\n",
            "0.3498761149110956\n"
          ]
        },
        {
          "output_type": "stream",
          "name": "stderr",
          "text": [
            "A decoder-only architecture is being used, but right-padding was detected! For correct generation results, please set `padding_side='left'` when initializing the tokenizer.\n"
          ]
        },
        {
          "output_type": "stream",
          "name": "stdout",
          "text": [
            "جدا کردشان از میان گروه   زمین شد بکردار آتش ز بالای کوه\n",
            "جدا کردشان از میان گروه    پرستنده را جایگه کرد کوه\n",
            "0.33180774028439425\n"
          ]
        },
        {
          "output_type": "stream",
          "name": "stderr",
          "text": [
            "A decoder-only architecture is being used, but right-padding was detected! For correct generation results, please set `padding_side='left'` when initializing the tokenizer.\n"
          ]
        },
        {
          "output_type": "stream",
          "name": "stdout",
          "text": [
            "برفتند و صندوقها را به پشت   کشیدند لشکر همه یکسره بر درشت و درشت\n",
            "برفتند و صندوقها را به پشت    کشیدند و ماهار اشتر به مشت\n",
            "0.44710186192584195\n"
          ]
        },
        {
          "output_type": "stream",
          "name": "stderr",
          "text": [
            "A decoder-only architecture is being used, but right-padding was detected! For correct generation results, please set `padding_side='left'` when initializing the tokenizer.\n"
          ]
        },
        {
          "output_type": "stream",
          "name": "stdout",
          "text": [
            "نماند همی این فرستاده را   ز بدخواه و سزد گر نباشیم را\n",
            "نماند همی این فرستاده را    نه هندی نه ترکی نه آزاده را\n",
            "0.33180774028439425\n"
          ]
        },
        {
          "output_type": "stream",
          "name": "stderr",
          "text": [
            "A decoder-only architecture is being used, but right-padding was detected! For correct generation results, please set `padding_side='left'` when initializing the tokenizer.\n"
          ]
        },
        {
          "output_type": "stream",
          "name": "stdout",
          "text": [
            "کنون پادشاهی شاه اردشیر   که خوانند با رامش و یادگیر\n",
            "کنون پادشاهی شاه اردشیر    بگویم که پیش آمدم ناگزیر\n",
            "0.2777619034011791\n"
          ]
        },
        {
          "output_type": "stream",
          "name": "stderr",
          "text": [
            "A decoder-only architecture is being used, but right-padding was detected! For correct generation results, please set `padding_side='left'` when initializing the tokenizer.\n"
          ]
        },
        {
          "output_type": "stream",
          "name": "stdout",
          "text": [
            "اگر در ببندد به ده سال شاه   نماند برین بوم ما بوی ناخوش و آرامگاه\n",
            "اگر در ببندد به ده سال شاه    خورش هست چندانک باید سپاه\n",
            "0.4001601601922499\n"
          ]
        },
        {
          "output_type": "stream",
          "name": "stderr",
          "text": [
            "A decoder-only architecture is being used, but right-padding was detected! For correct generation results, please set `padding_side='left'` when initializing the tokenizer.\n"
          ]
        },
        {
          "output_type": "stream",
          "name": "stdout",
          "text": [
            "فرستاد چون مرد رومی چهل   بیاورد با آلت و روشن روان\n",
            "فرستاد چون مرد رومی چهل    کجا هر چهل بود بیدار دل\n",
            "0.3508439695638686\n"
          ]
        },
        {
          "output_type": "stream",
          "name": "stderr",
          "text": [
            "A decoder-only architecture is being used, but right-padding was detected! For correct generation results, please set `padding_side='left'` when initializing the tokenizer.\n"
          ]
        },
        {
          "output_type": "stream",
          "name": "stdout",
          "text": [
            "فریبرز طوس و یلان را بخواند   بسی نامداران و گردان لشکر براند\n",
            "فریبرز طوس و یلان را بخواند    ز کار گذشته فراوان براند\n",
            "0.43361890903486755\n"
          ]
        },
        {
          "output_type": "stream",
          "name": "stderr",
          "text": [
            "A decoder-only architecture is being used, but right-padding was detected! For correct generation results, please set `padding_side='left'` when initializing the tokenizer.\n"
          ]
        },
        {
          "output_type": "stream",
          "name": "stdout",
          "text": [
            "بگفتند وی را همه بیش و کم   که چون سرفرازم سزاوار باشد دژم\n",
            "بگفتند وی را همه بیش و کم    سپهبد شد از کار ایشان دژم\n",
            "0.48633831680799433\n"
          ]
        },
        {
          "output_type": "stream",
          "name": "stderr",
          "text": [
            "A decoder-only architecture is being used, but right-padding was detected! For correct generation results, please set `padding_side='left'` when initializing the tokenizer.\n"
          ]
        },
        {
          "output_type": "stream",
          "name": "stdout",
          "text": [
            "که چون خواستی دیو برداشتی   بدان کار بگسستی دل بگذاشتی\n",
            "که چون خواستی دیو برداشتی    ز هامون به گردون برافراشتی\n",
            "0.392814650900513\n"
          ]
        },
        {
          "output_type": "stream",
          "name": "stderr",
          "text": [
            "A decoder-only architecture is being used, but right-padding was detected! For correct generation results, please set `padding_side='left'` when initializing the tokenizer.\n"
          ]
        },
        {
          "output_type": "stream",
          "name": "stdout",
          "text": [
            "من از دخت شاه سمنگان یکی   بنالید با گردش آسمان اندکی\n",
            "من از دخت شاه سمنگان یکی    پسر دارم و باشد او کودکی\n",
            "0.4216120484488187\n"
          ]
        },
        {
          "output_type": "stream",
          "name": "stderr",
          "text": [
            "A decoder-only architecture is being used, but right-padding was detected! For correct generation results, please set `padding_side='left'` when initializing the tokenizer.\n"
          ]
        },
        {
          "output_type": "stream",
          "name": "stdout",
          "text": [
            "سپهبد که مردم فروشد به زر   ز دینار و گنج و کلاه و کمر\n",
            "سپهبد که مردم فروشد به زر    نباید بدین بارگه برگذر\n",
            "0.3498761149110956\n"
          ]
        },
        {
          "output_type": "stream",
          "name": "stderr",
          "text": [
            "A decoder-only architecture is being used, but right-padding was detected! For correct generation results, please set `padding_side='left'` when initializing the tokenizer.\n"
          ]
        },
        {
          "output_type": "stream",
          "name": "stdout",
          "text": [
            "چو بشنید آن جستن و باد اوی   همان خیره شد از کار خورشید روی\n",
            "چو بشنید آن جستن و باد اوی    ز گیتی نگیرد کسی یاد اوی\n",
            "0.4324227075463215\n"
          ]
        },
        {
          "output_type": "stream",
          "name": "stderr",
          "text": [
            "A decoder-only architecture is being used, but right-padding was detected! For correct generation results, please set `padding_side='left'` when initializing the tokenizer.\n"
          ]
        },
        {
          "output_type": "stream",
          "name": "stdout",
          "text": [
            "کمربند گیرد کرا زور بیش   به پیش آرد آن گردش اختران پیش\n",
            "کمربند گیرد کرا زور بیش    رباید ز اسب افگند خوار پیش\n",
            "0.33180774028439425\n"
          ]
        },
        {
          "output_type": "stream",
          "name": "stderr",
          "text": [
            "A decoder-only architecture is being used, but right-padding was detected! For correct generation results, please set `padding_side='left'` when initializing the tokenizer.\n"
          ]
        },
        {
          "output_type": "stream",
          "name": "stdout",
          "text": [
            "به خورشید ماند همی دست شاه   به شمشیر گردان نیارد سپاه\n",
            "به خورشید ماند همی دست شاه    چو اندر حمل برفرازد کلاه\n",
            "0.4617366309441026\n"
          ]
        },
        {
          "output_type": "stream",
          "name": "stderr",
          "text": [
            "A decoder-only architecture is being used, but right-padding was detected! For correct generation results, please set `padding_side='left'` when initializing the tokenizer.\n"
          ]
        },
        {
          "output_type": "stream",
          "name": "stdout",
          "text": [
            "ز خان سیاوش برآمد خروش   زمین شد پر از نالهٔ کوس و آوای گوش\n",
            "ز خان سیاوش برآمد خروش    جهانی ز گرسیوز آمد به جوش\n",
            "0.26584835766658776\n"
          ]
        },
        {
          "output_type": "stream",
          "name": "stderr",
          "text": [
            "A decoder-only architecture is being used, but right-padding was detected! For correct generation results, please set `padding_side='left'` when initializing the tokenizer.\n"
          ]
        },
        {
          "output_type": "stream",
          "name": "stdout",
          "text": [
            "بزرگان بر پهلوان آمدند   ز هر دانشی داستانها زدند\n",
            "بزرگان بر پهلوان آمدند    پر از خنده و شادمان آمدند\n",
            "0.26708679784499234\n"
          ]
        },
        {
          "output_type": "stream",
          "name": "stderr",
          "text": [
            "A decoder-only architecture is being used, but right-padding was detected! For correct generation results, please set `padding_side='left'` when initializing the tokenizer.\n"
          ]
        },
        {
          "output_type": "stream",
          "name": "stdout",
          "text": [
            "چنین گفت با شاهزاده تخوار   که ای نامور مهتر نامور شهریار\n",
            "چنین گفت با شاهزاده تخوار    که گر جست خواهی همی کارزار\n",
            "0.4617366309441026\n"
          ]
        },
        {
          "output_type": "stream",
          "name": "stderr",
          "text": [
            "A decoder-only architecture is being used, but right-padding was detected! For correct generation results, please set `padding_side='left'` when initializing the tokenizer.\n"
          ]
        },
        {
          "output_type": "stream",
          "name": "stdout",
          "text": [
            "بفرمای تا رخش را همچنان   بداندیش و گردنکشی و کیش آهرمنان\n",
            "بفرمای تا رخش را همچنان    بیارند پیش من اندر زمان\n",
            "0.3508439695638686\n"
          ]
        },
        {
          "output_type": "stream",
          "name": "stderr",
          "text": [
            "A decoder-only architecture is being used, but right-padding was detected! For correct generation results, please set `padding_side='left'` when initializing the tokenizer.\n"
          ]
        },
        {
          "output_type": "stream",
          "name": "stdout",
          "text": [
            "ز سر تا به دمش چو کوه بلند   همی آتش افروخت گفتی ز بیم گزند\n",
            "ز سر تا به دمش چو کوه بلند    کشان موی سر بر زمین چون کمند\n",
            "0.4758733096412523\n"
          ]
        },
        {
          "output_type": "stream",
          "name": "stderr",
          "text": [
            "A decoder-only architecture is being used, but right-padding was detected! For correct generation results, please set `padding_side='left'` when initializing the tokenizer.\n"
          ]
        },
        {
          "output_type": "stream",
          "name": "stdout",
          "text": [
            "ز پیمان و فرمان او نگذرد   نپیچیم دل را به پیمان تو نشمرد\n",
            "ز پیمان و فرمان او نگذرد    دم خویش بی رای او نشمرد\n",
            "0.3955332535877179\n"
          ]
        },
        {
          "output_type": "stream",
          "name": "stderr",
          "text": [
            "A decoder-only architecture is being used, but right-padding was detected! For correct generation results, please set `padding_side='left'` when initializing the tokenizer.\n"
          ]
        },
        {
          "output_type": "stream",
          "name": "stdout",
          "text": [
            "بفرمای تا پیش تو بگذرند   ز زابل به کابل مکن آتش بسپرند\n",
            "بفرمای تا پیش تو بگذرند    پی خویشتن بر زمین بسپرند\n",
            "0.33180774028439425\n"
          ]
        },
        {
          "output_type": "stream",
          "name": "stderr",
          "text": [
            "A decoder-only architecture is being used, but right-padding was detected! For correct generation results, please set `padding_side='left'` when initializing the tokenizer.\n"
          ]
        },
        {
          "output_type": "stream",
          "name": "stdout",
          "text": [
            "ز یزدان سپاس و بدویم پناه   که او داد پیروزی و دستگاه\n",
            "ز یزدان سپاس و بدویم پناه    که دیدم ترا زنده بر جایگاه\n",
            "0.5156626918239822\n"
          ]
        },
        {
          "output_type": "stream",
          "name": "stderr",
          "text": [
            "A decoder-only architecture is being used, but right-padding was detected! For correct generation results, please set `padding_side='left'` when initializing the tokenizer.\n"
          ]
        },
        {
          "output_type": "stream",
          "name": "stdout",
          "text": [
            "بدانست رستم که جز پیلسم   نتابید با درد و تیمار وغم ز غمگ\n",
            "بدانست رستم که جز پیلسم    ز ترکان ندارد کس آن زور و دم\n",
            "0.31455601883230705\n"
          ]
        },
        {
          "output_type": "stream",
          "name": "stderr",
          "text": [
            "A decoder-only architecture is being used, but right-padding was detected! For correct generation results, please set `padding_side='left'` when initializing the tokenizer.\n"
          ]
        },
        {
          "output_type": "stream",
          "name": "stdout",
          "text": [
            "هزار و صد و شصت گرد دلیر   خردمند و بیدار و جنگی و نره شیر\n",
            "هزار و صد و شصت گرد دلیر    به یک زخم شد کشته چون نره شیر\n",
            "0.4428500142691474\n"
          ]
        },
        {
          "output_type": "stream",
          "name": "stderr",
          "text": [
            "A decoder-only architecture is being used, but right-padding was detected! For correct generation results, please set `padding_side='left'` when initializing the tokenizer.\n"
          ]
        },
        {
          "output_type": "stream",
          "name": "stdout",
          "text": [
            "کزو شادمانیم و زو ناشکیب   مبادا که باشد کسی سوی ما بر چمن\n",
            "کزو شادمانیم و زو ناشکیب    گهی در فراز و گهی در نشیب\n",
            "0.2891784933232572\n"
          ]
        },
        {
          "output_type": "stream",
          "name": "stderr",
          "text": [
            "A decoder-only architecture is being used, but right-padding was detected! For correct generation results, please set `padding_side='left'` when initializing the tokenizer.\n"
          ]
        },
        {
          "output_type": "stream",
          "name": "stdout",
          "text": [
            "جهان آفریننده یار منست   سر اختر اندر کنار منمای تو کس\n",
            "جهان آفریننده یار منست    سر نره دیوان شکار منست\n",
            "0.3508439695638686\n"
          ]
        },
        {
          "output_type": "stream",
          "name": "stderr",
          "text": [
            "A decoder-only architecture is being used, but right-padding was detected! For correct generation results, please set `padding_side='left'` when initializing the tokenizer.\n"
          ]
        },
        {
          "output_type": "stream",
          "name": "stdout",
          "text": [
            "یکی سوی ایران دگر سوی تور   برفت و بسایش آیند از بهر آرام و شهر و\n",
            "یکی سوی ایران دگر سوی تور    که دیدار بودی بلشکر ز دور\n",
            "0.30130404892785684\n"
          ]
        },
        {
          "output_type": "stream",
          "name": "stderr",
          "text": [
            "A decoder-only architecture is being used, but right-padding was detected! For correct generation results, please set `padding_side='left'` when initializing the tokenizer.\n"
          ]
        },
        {
          "output_type": "stream",
          "name": "stdout",
          "text": [
            "ز دشت اندرآمد بدانجا گذشت   بران آرزو سوی شهر توران گذشت\n",
            "ز دشت اندرآمد بدانجا گذشت    فراوان بدان شارستان دربگشت\n",
            "0.3508439695638686\n"
          ]
        },
        {
          "output_type": "stream",
          "name": "stderr",
          "text": [
            "A decoder-only architecture is being used, but right-padding was detected! For correct generation results, please set `padding_side='left'` when initializing the tokenizer.\n"
          ]
        },
        {
          "output_type": "stream",
          "name": "stdout",
          "text": [
            "شده پادشاهی پدر سی و هشت   برآوردهٔ سایهٔ شاه زرین دشت\n",
            "شده پادشاهی پدر سی و هشت    ستاره برین گونه خواهد گذشت\n",
            "0.4617366309441026\n"
          ]
        },
        {
          "output_type": "stream",
          "name": "stderr",
          "text": [
            "A decoder-only architecture is being used, but right-padding was detected! For correct generation results, please set `padding_side='left'` when initializing the tokenizer.\n"
          ]
        },
        {
          "output_type": "stream",
          "name": "stdout",
          "text": [
            "نگه کن یکی شاخ بر در بلند   که از شاخ او در جهان چند باشد گزند\n",
            "نگه کن یکی شاخ بر در بلند    نباید که از باد یابد گزند\n",
            "0.42311785416105785\n"
          ]
        },
        {
          "output_type": "stream",
          "name": "stderr",
          "text": [
            "A decoder-only architecture is being used, but right-padding was detected! For correct generation results, please set `padding_side='left'` when initializing the tokenizer.\n"
          ]
        },
        {
          "output_type": "stream",
          "name": "stdout",
          "text": [
            "ز فرخنده رای جهان پهلوان   برفتند روشن دل و روشن روان و جوان\n",
            "ز فرخنده رای جهان پهلوان    ز گفتار و دیدار روشن روان\n",
            "0.3438931217657843\n"
          ]
        },
        {
          "output_type": "stream",
          "name": "stderr",
          "text": [
            "A decoder-only architecture is being used, but right-padding was detected! For correct generation results, please set `padding_side='left'` when initializing the tokenizer.\n"
          ]
        },
        {
          "output_type": "stream",
          "name": "stdout",
          "text": [
            "بجز کام و آرام و خوبی مباد   ز پروردهٔ خویش وز رسم و داد و نژاد\n",
            "بجز کام و آرام و خوبی مباد    ورا نام کرد آن سپهبد شغاد\n",
            "0.37239098949398236\n"
          ]
        },
        {
          "output_type": "stream",
          "name": "stderr",
          "text": [
            "A decoder-only architecture is being used, but right-padding was detected! For correct generation results, please set `padding_side='left'` when initializing the tokenizer.\n"
          ]
        },
        {
          "output_type": "stream",
          "name": "stdout",
          "text": [
            "پدرش آن گرانمایهٔ پهلوان   که خوانندش او را همه پیر و جوان\n",
            "پدرش آن گرانمایهٔ پهلوان    چه گوید بدان پاک دخت جوان\n",
            "0.22416933501922293\n"
          ]
        },
        {
          "output_type": "stream",
          "name": "stderr",
          "text": [
            "A decoder-only architecture is being used, but right-padding was detected! For correct generation results, please set `padding_side='left'` when initializing the tokenizer.\n"
          ]
        },
        {
          "output_type": "stream",
          "name": "stdout",
          "text": [
            "ابا ژنده پیلان و با خواسته   همه کشور دوک لشکر آراسته\n",
            "ابا ژنده پیلان و با خواسته    دو خونی به کینه دل آراسته\n",
            "0.43817713423777205\n"
          ]
        },
        {
          "output_type": "stream",
          "name": "stderr",
          "text": [
            "A decoder-only architecture is being used, but right-padding was detected! For correct generation results, please set `padding_side='left'` when initializing the tokenizer.\n"
          ]
        },
        {
          "output_type": "stream",
          "name": "stdout",
          "text": [
            "یک را همی تاج شاهی دهد   همه شهر ایران و توران و لشکر دهد\n",
            "یک را همی تاج شاهی دهد    یکی رابه دریا به ماهی دهد\n",
            "0.363622704650007\n"
          ]
        },
        {
          "output_type": "stream",
          "name": "stderr",
          "text": [
            "A decoder-only architecture is being used, but right-padding was detected! For correct generation results, please set `padding_side='left'` when initializing the tokenizer.\n"
          ]
        },
        {
          "output_type": "stream",
          "name": "stdout",
          "text": [
            "پس آن نامه پنهان به خواهرش داد   به پیش اندرون لشکر و لشکرش داد و داد\n",
            "پس آن نامه پنهان به خواهرش داد    سخنهای خاقان همه کرد یاد\n",
            "0.37239098949398236\n"
          ]
        },
        {
          "output_type": "stream",
          "name": "stderr",
          "text": [
            "A decoder-only architecture is being used, but right-padding was detected! For correct generation results, please set `padding_side='left'` when initializing the tokenizer.\n"
          ]
        },
        {
          "output_type": "stream",
          "name": "stdout",
          "text": [
            "چه پیش آیدش جز گزاینده زهر   که تریاک و زهرش نیابد زهر\n",
            "چه پیش آیدش جز گزاینده زهر    کش از آفرینش چنین است بهر\n",
            "0.4172261448611506\n"
          ]
        },
        {
          "output_type": "stream",
          "name": "stderr",
          "text": [
            "A decoder-only architecture is being used, but right-padding was detected! For correct generation results, please set `padding_side='left'` when initializing the tokenizer.\n"
          ]
        },
        {
          "output_type": "stream",
          "name": "stdout",
          "text": [
            "گرانمایه گویی به آتش بتافت   که گفتی که رایت فزونی گرفتست\n",
            "گرانمایه گویی به آتش بتافت    چو شد تافته سوی سندان شتافت\n",
            "0.3508439695638686\n"
          ]
        },
        {
          "output_type": "stream",
          "name": "stderr",
          "text": [
            "A decoder-only architecture is being used, but right-padding was detected! For correct generation results, please set `padding_side='left'` when initializing the tokenizer.\n"
          ]
        },
        {
          "output_type": "stream",
          "name": "stdout",
          "text": [
            "دل از مرز وز خانه برداشتند   همه لشکرش را خوار بگذاشتند\n",
            "دل از مرز وز خانه برداشتند    زن و کودک خرد بگذاشتند\n",
            "0.47987820666906633\n"
          ]
        },
        {
          "output_type": "stream",
          "name": "stderr",
          "text": [
            "A decoder-only architecture is being used, but right-padding was detected! For correct generation results, please set `padding_side='left'` when initializing the tokenizer.\n"
          ]
        },
        {
          "output_type": "stream",
          "name": "stdout",
          "text": [
            "از ایدر بسی نامور قیصران   برفتند پیچان و بستند بر مهتران\n",
            "از ایدر بسی نامور قیصران    برفتند با گرزهای گران\n",
            "0.4617366309441026\n"
          ]
        },
        {
          "output_type": "stream",
          "name": "stderr",
          "text": [
            "A decoder-only architecture is being used, but right-padding was detected! For correct generation results, please set `padding_side='left'` when initializing the tokenizer.\n"
          ]
        },
        {
          "output_type": "stream",
          "name": "stdout",
          "text": [
            "بغلتید درپیش یزدان بخاک   همی آفرین خواند بر ما همه ترس و باک\n",
            "بغلتید درپیش یزدان بخاک    همی گفت کای داور داد و پاک\n",
            "0.3026643726685863\n"
          ]
        },
        {
          "output_type": "stream",
          "name": "stderr",
          "text": [
            "A decoder-only architecture is being used, but right-padding was detected! For correct generation results, please set `padding_side='left'` when initializing the tokenizer.\n"
          ]
        },
        {
          "output_type": "stream",
          "name": "stdout",
          "text": [
            "چنین گفت کز نزد افراسیاب   کسی کش ز آرام وز خورد و آرام و خواب\n",
            "چنین گفت کز نزد افراسیاب    گذشتست پیران بدین روی آب\n",
            "0.2460137257692754\n"
          ]
        },
        {
          "output_type": "stream",
          "name": "stderr",
          "text": [
            "A decoder-only architecture is being used, but right-padding was detected! For correct generation results, please set `padding_side='left'` when initializing the tokenizer.\n"
          ]
        },
        {
          "output_type": "stream",
          "name": "stdout",
          "text": [
            "چو نان خورده شد جام می خواستند   همه شب همی مجلس آراستند\n",
            "چو نان خورده شد جام می خواستند    به می جان روشن بیاراستند\n",
            "0.5156626918239822\n"
          ]
        },
        {
          "output_type": "stream",
          "name": "stderr",
          "text": [
            "A decoder-only architecture is being used, but right-padding was detected! For correct generation results, please set `padding_side='left'` when initializing the tokenizer.\n"
          ]
        },
        {
          "output_type": "stream",
          "name": "stdout",
          "text": [
            "گر او زین نپیچد سپهر بلند   شود تیره خورشید و ماه و گردان گزند\n",
            "گر او زین نپیچد سپهر بلند    کند اینک گفتم برو ارجمند\n",
            "0.3498761149110956\n"
          ]
        },
        {
          "output_type": "stream",
          "name": "stderr",
          "text": [
            "A decoder-only architecture is being used, but right-padding was detected! For correct generation results, please set `padding_side='left'` when initializing the tokenizer.\n"
          ]
        },
        {
          "output_type": "stream",
          "name": "stdout",
          "text": [
            "همی تافت زان تخت خسرو چو ماه   به سر بر نهاد آن کیانی کلاه و به دیهیم شاه\n",
            "همی تافت زان تخت خسرو چو ماه    ز یاقوت رخشنده بر سر کلاه\n",
            "0.3575297164449809\n"
          ]
        },
        {
          "output_type": "stream",
          "name": "stderr",
          "text": [
            "A decoder-only architecture is being used, but right-padding was detected! For correct generation results, please set `padding_side='left'` when initializing the tokenizer.\n"
          ]
        },
        {
          "output_type": "stream",
          "name": "stdout",
          "text": [
            "ابا هر یک از مهتران مرد چند   یکی گرزهٔ گاو پیکر ز بهر گوسفند\n",
            "ابا هر یک از مهتران مرد چند    یکی لشکری نامدار ارجمند\n",
            "0.5142401605028263\n"
          ]
        },
        {
          "output_type": "stream",
          "name": "stderr",
          "text": [
            "A decoder-only architecture is being used, but right-padding was detected! For correct generation results, please set `padding_side='left'` when initializing the tokenizer.\n"
          ]
        },
        {
          "output_type": "stream",
          "name": "stdout",
          "text": [
            "تو گفتی یکی بارهٔ آهنست   ز تری آهن از آهن سرافشان اندر آهرمنست\n",
            "تو گفتی یکی بارهٔ آهنست    وگر کوه البرز در جوشنست\n",
            "0.2891784933232572\n"
          ]
        },
        {
          "output_type": "stream",
          "name": "stderr",
          "text": [
            "A decoder-only architecture is being used, but right-padding was detected! For correct generation results, please set `padding_side='left'` when initializing the tokenizer.\n"
          ]
        },
        {
          "output_type": "stream",
          "name": "stdout",
          "text": [
            "که برگشت روز بزرگان دهر   برفتند با دانش و با دل پر امید\n",
            "که برگشت روز بزرگان دهر    ز اختر ترا بیشتر بود بهر\n",
            "0.2891784933232572\n"
          ]
        },
        {
          "output_type": "stream",
          "name": "stderr",
          "text": [
            "A decoder-only architecture is being used, but right-padding was detected! For correct generation results, please set `padding_side='left'` when initializing the tokenizer.\n"
          ]
        },
        {
          "output_type": "stream",
          "name": "stdout",
          "text": [
            "ز فرمان هرمزد برمگذرید   اگر تیره شب و روز بد اندر آرمید\n",
            "ز فرمان هرمزد برمگذرید    دم خویش بی رای او مشمرید\n",
            "0.21200626759025185\n"
          ]
        },
        {
          "output_type": "stream",
          "name": "stderr",
          "text": [
            "A decoder-only architecture is being used, but right-padding was detected! For correct generation results, please set `padding_side='left'` when initializing the tokenizer.\n"
          ]
        },
        {
          "output_type": "stream",
          "name": "stdout",
          "text": [
            "که آن مهربان کینهٔ سوفزای   بداندیش را دل نیاید ز جای\n",
            "که آن مهربان کینهٔ سوفزای    بخواهد بدرد از جهان کدخدای\n",
            "0.3508439695638686\n"
          ]
        },
        {
          "output_type": "stream",
          "name": "stderr",
          "text": [
            "A decoder-only architecture is being used, but right-padding was detected! For correct generation results, please set `padding_side='left'` when initializing the tokenizer.\n"
          ]
        },
        {
          "output_type": "stream",
          "name": "stdout",
          "text": [
            "بپرسید اگر کوه پاسخ دهد   فروزندهٔ آتش فرخ دهد\n",
            "بپرسید اگر کوه پاسخ دهد    شما را بدین رای فرخ نهد\n",
            "0.3740548510898886\n"
          ]
        },
        {
          "output_type": "stream",
          "name": "stderr",
          "text": [
            "A decoder-only architecture is being used, but right-padding was detected! For correct generation results, please set `padding_side='left'` when initializing the tokenizer.\n"
          ]
        },
        {
          "output_type": "stream",
          "name": "stdout",
          "text": [
            "به بهزاد بنمای زین و لگام   بکش کرده دست و سرافگنده برسان نام\n",
            "به بهزاد بنمای زین و لگام    چو او رام گردد تو بگذار گام\n",
            "0.3805803001674946\n"
          ]
        },
        {
          "output_type": "stream",
          "name": "stderr",
          "text": [
            "A decoder-only architecture is being used, but right-padding was detected! For correct generation results, please set `padding_side='left'` when initializing the tokenizer.\n"
          ]
        },
        {
          "output_type": "stream",
          "name": "stdout",
          "text": [
            "دو پاکیزه از خانهٔ جمشید   پرستندهٔ فرخ آذر و ضحاک و جمشید\n",
            "دو پاکیزه از خانهٔ جمشید    برون آوریدند لرزان چو بید\n",
            "0.31702331385234306\n"
          ]
        },
        {
          "output_type": "stream",
          "name": "stderr",
          "text": [
            "A decoder-only architecture is being used, but right-padding was detected! For correct generation results, please set `padding_side='left'` when initializing the tokenizer.\n"
          ]
        },
        {
          "output_type": "stream",
          "name": "stdout",
          "text": [
            "ازان نامور پر هنر بخردان   بزرگان و بیدار دل موبدان\n",
            "ازان نامور پر هنر بخردان    بزرگان وکارآزموده ردان\n",
            "0.5169731539571706\n"
          ]
        },
        {
          "output_type": "stream",
          "name": "stderr",
          "text": [
            "A decoder-only architecture is being used, but right-padding was detected! For correct generation results, please set `padding_side='left'` when initializing the tokenizer.\n"
          ]
        },
        {
          "output_type": "stream",
          "name": "stdout",
          "text": [
            "اگر یک تن از راه من بگذرند   همه رنجم از پی مردم بی خرد\n",
            "اگر یک تن از راه من بگذرند    دم خویش بی رای من بشمرند\n",
            "0.44710186192584195\n"
          ]
        },
        {
          "output_type": "stream",
          "name": "stderr",
          "text": [
            "A decoder-only architecture is being used, but right-padding was detected! For correct generation results, please set `padding_side='left'` when initializing the tokenizer.\n"
          ]
        },
        {
          "output_type": "stream",
          "name": "stdout",
          "text": [
            "بفرمود پس تا برندش به دشت   ز لشکر بیامد بر لشکر ساوه شاه\n",
            "بفرمود پس تا برندش به دشت    ابا خنجر و روزبانان و تشت\n",
            "0.3805803001674946\n"
          ]
        },
        {
          "output_type": "stream",
          "name": "stderr",
          "text": [
            "A decoder-only architecture is being used, but right-padding was detected! For correct generation results, please set `padding_side='left'` when initializing the tokenizer.\n"
          ]
        },
        {
          "output_type": "stream",
          "name": "stdout",
          "text": [
            "همه نیکویها بیابیم ازوی   سوی نیک بختی سوی داد جوی\n",
            "همه نیکویها بیابیم ازوی    به خورد و به داد اندر آریم روی\n",
            "0.22741221234802106\n"
          ]
        },
        {
          "output_type": "stream",
          "name": "stderr",
          "text": [
            "A decoder-only architecture is being used, but right-padding was detected! For correct generation results, please set `padding_side='left'` when initializing the tokenizer.\n"
          ]
        },
        {
          "output_type": "stream",
          "name": "stdout",
          "text": [
            "بدو اندرون بچهٔ مرغ و زال   پر از درد دل بود با فر و با یال و یال\n",
            "بدو اندرون بچهٔ مرغ و زال    تو گفتی که هستند هر دو همال\n",
            "0.26460159523593296\n"
          ]
        },
        {
          "output_type": "stream",
          "name": "stderr",
          "text": [
            "A decoder-only architecture is being used, but right-padding was detected! For correct generation results, please set `padding_side='left'` when initializing the tokenizer.\n"
          ]
        },
        {
          "output_type": "stream",
          "name": "stdout",
          "text": [
            "عنان تگاور همی داشت نرم   همی بود پیچان و دل پر از جنگ و گرم و\n",
            "عنان تگاور همی داشت نرم    همی ریخت از دیدگان آب گرم\n",
            "0.3237722713145643\n"
          ]
        },
        {
          "output_type": "stream",
          "name": "stderr",
          "text": [
            "A decoder-only architecture is being used, but right-padding was detected! For correct generation results, please set `padding_side='left'` when initializing the tokenizer.\n"
          ]
        },
        {
          "output_type": "stream",
          "name": "stdout",
          "text": [
            "که چون بخت بیدار گیرد نشیب   بران درد و سختی بپیچد نهیب\n",
            "که چون بخت بیدار گیرد نشیب    ز هر گونه ای دید باید نهیب\n",
            "0.3989486553351905\n"
          ]
        },
        {
          "output_type": "stream",
          "name": "stderr",
          "text": [
            "A decoder-only architecture is being used, but right-padding was detected! For correct generation results, please set `padding_side='left'` when initializing the tokenizer.\n"
          ]
        },
        {
          "output_type": "stream",
          "name": "stdout",
          "text": [
            "کمان را بینداخت و ژوپین گرفت   بران سان که گفتی برو تیر گفتی گرفت\n",
            "کمان را بینداخت و ژوپین گرفت    به ژوپین شکار نوآیین گرفت\n",
            "0.363622704650007\n"
          ]
        },
        {
          "output_type": "stream",
          "name": "stderr",
          "text": [
            "A decoder-only architecture is being used, but right-padding was detected! For correct generation results, please set `padding_side='left'` when initializing the tokenizer.\n"
          ]
        },
        {
          "output_type": "stream",
          "name": "stdout",
          "text": [
            "ز رستم فزونست هنگام جنگ   چو سیر آمد از روزگار بچنگ و درنگ\n",
            "ز رستم فزونست هنگام جنگ    دلیران نگیرند پیشش درنگ\n",
            "0.3026643726685863\n"
          ]
        },
        {
          "output_type": "stream",
          "name": "stderr",
          "text": [
            "A decoder-only architecture is being used, but right-padding was detected! For correct generation results, please set `padding_side='left'` when initializing the tokenizer.\n"
          ]
        },
        {
          "output_type": "stream",
          "name": "stdout",
          "text": [
            "کس از تاجداران بدین سان نمرد   وگر نامداری ز گیتی نبرد آزمود\n",
            "کس از تاجداران بدین سان نمرد    که مردست این نامبردار گرد\n",
            "0.4172261448611506\n"
          ]
        },
        {
          "output_type": "stream",
          "name": "stderr",
          "text": [
            "A decoder-only architecture is being used, but right-padding was detected! For correct generation results, please set `padding_side='left'` when initializing the tokenizer.\n"
          ]
        },
        {
          "output_type": "stream",
          "name": "stdout",
          "text": [
            "پس اندر سواران برفتند گرم   چو آواز دادند بهرام نرم نرم\n",
            "پس اندر سواران برفتند گرم    که بر پشت رستم بدرند چرم\n",
            "0.3508439695638686\n"
          ]
        },
        {
          "output_type": "stream",
          "name": "stderr",
          "text": [
            "A decoder-only architecture is being used, but right-padding was detected! For correct generation results, please set `padding_side='left'` when initializing the tokenizer.\n"
          ]
        },
        {
          "output_type": "stream",
          "name": "stdout",
          "text": [
            "یکی نامه بنوشت نزدیک شاه   به نزدیک آن نامور مهتر نیک خواه\n",
            "یکی نامه بنوشت نزدیک شاه    ز بدخواه وز مردم نیک خواه\n",
            "0.3646285861936467\n"
          ]
        },
        {
          "output_type": "stream",
          "name": "stderr",
          "text": [
            "A decoder-only architecture is being used, but right-padding was detected! For correct generation results, please set `padding_side='left'` when initializing the tokenizer.\n"
          ]
        },
        {
          "output_type": "stream",
          "name": "stdout",
          "text": [
            "بگودرز فرمود پس شهریار   که ایمن بود مرد اندر آن کار زار\n",
            "بگودرز فرمود پس شهریار    چو رفتی کمر بستهٔ کارزار\n",
            "0.21200626759025185\n"
          ]
        },
        {
          "output_type": "stream",
          "name": "stderr",
          "text": [
            "A decoder-only architecture is being used, but right-padding was detected! For correct generation results, please set `padding_side='left'` when initializing the tokenizer.\n"
          ]
        },
        {
          "output_type": "stream",
          "name": "stdout",
          "text": [
            "همه شهر با من بدین یاورند   اگر شهریاری و گر موبدی مدانند\n",
            "همه شهر با من بدین یاورند    جز آنکس که بددین و بدگوهرند\n",
            "0.43361890903486755\n"
          ]
        },
        {
          "output_type": "stream",
          "name": "stderr",
          "text": [
            "A decoder-only architecture is being used, but right-padding was detected! For correct generation results, please set `padding_side='left'` when initializing the tokenizer.\n"
          ]
        },
        {
          "output_type": "stream",
          "name": "stdout",
          "text": [
            "یکی مرد با هوش را برگزید   که با مغز و دل و خرد با او سزید\n",
            "یکی مرد با هوش را برگزید    فرسته به ایران چنان چون سزید\n",
            "0.31314224813827346\n"
          ]
        },
        {
          "output_type": "stream",
          "name": "stderr",
          "text": [
            "A decoder-only architecture is being used, but right-padding was detected! For correct generation results, please set `padding_side='left'` when initializing the tokenizer.\n"
          ]
        },
        {
          "output_type": "stream",
          "name": "stdout",
          "text": [
            "بدو گفت بهرام شاید مرا   بزرگی و دیهیم باید مرا\n",
            "بدو گفت بهرام شاید مرا    که بی چیز ایشان بباید مرا\n",
            "0.37200908038405156\n"
          ]
        },
        {
          "output_type": "stream",
          "name": "stderr",
          "text": [
            "A decoder-only architecture is being used, but right-padding was detected! For correct generation results, please set `padding_side='left'` when initializing the tokenizer.\n"
          ]
        },
        {
          "output_type": "stream",
          "name": "stdout",
          "text": [
            "دو منزل برفتند و گشتند باز   ببودند پیروز بر شاه گردن فراز\n",
            "دو منزل برفتند و گشتند باز    کشید آن سپهبد براه دراز\n",
            "0.4172261448611506\n"
          ]
        },
        {
          "output_type": "stream",
          "name": "stderr",
          "text": [
            "A decoder-only architecture is being used, but right-padding was detected! For correct generation results, please set `padding_side='left'` when initializing the tokenizer.\n"
          ]
        },
        {
          "output_type": "stream",
          "name": "stdout",
          "text": [
            "سواران ناباک روز نبرد   گرفتند و گرفتند اختر و روز کرد\n",
            "سواران ناباک روز نبرد    شدندی بران گنبد لاژورد\n",
            "0.23462350320528\n"
          ]
        },
        {
          "output_type": "stream",
          "name": "stderr",
          "text": [
            "A decoder-only architecture is being used, but right-padding was detected! For correct generation results, please set `padding_side='left'` when initializing the tokenizer.\n"
          ]
        },
        {
          "output_type": "stream",
          "name": "stdout",
          "text": [
            "تو با او برو تا سر آب بند   نیاساید از کشتن او آفتاب بلند\n",
            "تو با او برو تا سر آب بند    همیش راهبر باش و هم یار مند\n",
            "0.4787898732732043\n"
          ]
        },
        {
          "output_type": "stream",
          "name": "stderr",
          "text": [
            "A decoder-only architecture is being used, but right-padding was detected! For correct generation results, please set `padding_side='left'` when initializing the tokenizer.\n"
          ]
        },
        {
          "output_type": "stream",
          "name": "stdout",
          "text": [
            "از اندیشه دل را بپرداختم   ز هر گونه ای جامه ها را برافراختم\n",
            "از اندیشه دل را بپرداختم    سخن آنچ دانستم انداختم\n",
            "0.2891784933232572\n"
          ]
        },
        {
          "output_type": "stream",
          "name": "stderr",
          "text": [
            "A decoder-only architecture is being used, but right-padding was detected! For correct generation results, please set `padding_side='left'` when initializing the tokenizer.\n"
          ]
        },
        {
          "output_type": "stream",
          "name": "stdout",
          "text": [
            "دو تن خفته و گیو با رنج و خشم   ز تیمارشان دیده پر از آب چشم\n",
            "دو تن خفته و گیو با رنج و خشم    به راه سواران نهاده دو چشم\n",
            "0.5266403878479265\n"
          ]
        },
        {
          "output_type": "stream",
          "name": "stderr",
          "text": [
            "A decoder-only architecture is being used, but right-padding was detected! For correct generation results, please set `padding_side='left'` when initializing the tokenizer.\n"
          ]
        },
        {
          "output_type": "stream",
          "name": "stdout",
          "text": [
            "مرا برگزیدند بر خسروان   خردمند و بیدار و روشن دل و روان\n",
            "مرا برگزیدند بر خسروان    به خاک افگنم نام نوشین روان\n",
            "0.22416933501922293\n"
          ]
        },
        {
          "output_type": "stream",
          "name": "stderr",
          "text": [
            "A decoder-only architecture is being used, but right-padding was detected! For correct generation results, please set `padding_side='left'` when initializing the tokenizer.\n"
          ]
        },
        {
          "output_type": "stream",
          "name": "stdout",
          "text": [
            "سواران پراگنده بر هر سوی   همه مرزداران با هر پهلوی\n",
            "سواران پراگنده بر هر سوی    فرستاد نامه به هر پهلوی\n",
            "0.4518010018049224\n"
          ]
        },
        {
          "output_type": "stream",
          "name": "stderr",
          "text": [
            "A decoder-only architecture is being used, but right-padding was detected! For correct generation results, please set `padding_side='left'` when initializing the tokenizer.\n"
          ]
        },
        {
          "output_type": "stream",
          "name": "stdout",
          "text": [
            "سه من تافته بادهٔ سالخورده   نمانم نوان پیش روشن من روشن روان\n",
            "سه من تافته بادهٔ سالخورده    به رنگ گل نار و با رنگ زرد\n",
            "0.2916755292171272\n"
          ]
        },
        {
          "output_type": "stream",
          "name": "stderr",
          "text": [
            "A decoder-only architecture is being used, but right-padding was detected! For correct generation results, please set `padding_side='left'` when initializing the tokenizer.\n"
          ]
        },
        {
          "output_type": "stream",
          "name": "stdout",
          "text": [
            "سپهدار ایران ز پشت سپاه   بیامد برخشنده روز و شبان سیاه\n",
            "سپهدار ایران ز پشت سپاه    بشد دور با کهتری نیک خواه\n",
            "0.3508439695638686\n"
          ]
        },
        {
          "output_type": "stream",
          "name": "stderr",
          "text": [
            "A decoder-only architecture is being used, but right-padding was detected! For correct generation results, please set `padding_side='left'` when initializing the tokenizer.\n"
          ]
        },
        {
          "output_type": "stream",
          "name": "stdout",
          "text": [
            "که ساسان شبان وشبان زاده بود   ز دیدار او در فلک خیره بود\n",
            "که ساسان شبان وشبان زاده بود    نه بابک شبانی بدو داده بود\n",
            "0.3955332535877179\n"
          ]
        },
        {
          "output_type": "stream",
          "name": "stderr",
          "text": [
            "A decoder-only architecture is being used, but right-padding was detected! For correct generation results, please set `padding_side='left'` when initializing the tokenizer.\n"
          ]
        },
        {
          "output_type": "stream",
          "name": "stdout",
          "text": [
            "یکی گرگ پیکر درفشی سیاه   یکی برکشیده ازبر پهلوان سپاه\n",
            "یکی گرگ پیکر درفشی سیاه    پس پشت گیو اندرون با سپاه\n",
            "0.37200908038405156\n"
          ]
        },
        {
          "output_type": "stream",
          "name": "stderr",
          "text": [
            "A decoder-only architecture is being used, but right-padding was detected! For correct generation results, please set `padding_side='left'` when initializing the tokenizer.\n"
          ]
        },
        {
          "output_type": "stream",
          "name": "stdout",
          "text": [
            "چنین تا برآمد برین سال پنج   که پیدا شد این نامور شاه یزدان پرست\n",
            "چنین تا برآمد برین سال پنج    نبودند آگه کس از درد و رنج\n",
            "0.3498761149110956\n"
          ]
        },
        {
          "output_type": "stream",
          "name": "stderr",
          "text": [
            "A decoder-only architecture is being used, but right-padding was detected! For correct generation results, please set `padding_side='left'` when initializing the tokenizer.\n"
          ]
        },
        {
          "output_type": "stream",
          "name": "stdout",
          "text": [
            "ستاره شناسان و جویندگان   ز هر دانشی زو گرفتند جویندگان\n",
            "ستاره شناسان و جویندگان    خردمند و بیدار گویندگان\n",
            "0.2626909894424158\n"
          ]
        },
        {
          "output_type": "stream",
          "name": "stderr",
          "text": [
            "A decoder-only architecture is being used, but right-padding was detected! For correct generation results, please set `padding_side='left'` when initializing the tokenizer.\n"
          ]
        },
        {
          "output_type": "stream",
          "name": "stdout",
          "text": [
            "که ما شاه را یکسره بنده ایم   به فرمان و رایت سرافگنده ایم\n",
            "که ما شاه را یکسره بنده ایم    همان باژ را گردن افگنده ایم\n",
            "0.48633831680799433\n"
          ]
        },
        {
          "output_type": "stream",
          "name": "stderr",
          "text": [
            "A decoder-only architecture is being used, but right-padding was detected! For correct generation results, please set `padding_side='left'` when initializing the tokenizer.\n"
          ]
        },
        {
          "output_type": "stream",
          "name": "stdout",
          "text": [
            "بد آیین مشو دور باش از پسند   بهر کار با مردم ناسمند بند\n",
            "بد آیین مشو دور باش از پسند    مبین ایچ ازو سود و ناسودمند\n",
            "0.4703709593866897\n"
          ]
        },
        {
          "output_type": "stream",
          "name": "stderr",
          "text": [
            "A decoder-only architecture is being used, but right-padding was detected! For correct generation results, please set `padding_side='left'` when initializing the tokenizer.\n"
          ]
        },
        {
          "output_type": "stream",
          "name": "stdout",
          "text": [
            "همت می دهد جام هم آب سرد   که بیدار باشی نباشد ز گیتی مگرد\n",
            "همت می دهد جام هم آب سرد    شگفت آنک کمی نگیرد ز خورد\n",
            "0.44710186192584195\n"
          ]
        },
        {
          "output_type": "stream",
          "name": "stderr",
          "text": [
            "A decoder-only architecture is being used, but right-padding was detected! For correct generation results, please set `padding_side='left'` when initializing the tokenizer.\n"
          ]
        },
        {
          "output_type": "stream",
          "name": "stdout",
          "text": [
            "سیاوش بد خفته بر تخت زر   بسی آفرین خواند بر شاه پیروزگر\n",
            "سیاوش بد خفته بر تخت زر    ابا جوشن و تیغ و گرز و کمر\n",
            "0.35317430677152795\n"
          ]
        },
        {
          "output_type": "stream",
          "name": "stderr",
          "text": [
            "A decoder-only architecture is being used, but right-padding was detected! For correct generation results, please set `padding_side='left'` when initializing the tokenizer.\n"
          ]
        },
        {
          "output_type": "stream",
          "name": "stdout",
          "text": [
            "یکی را چوتنها بگیرد دو تن   یکی گرزهٔ گاو ماهی به دیگر کفن\n",
            "یکی را چوتنها بگیرد دو تن    ز لشکر برین یک تن آید شکن\n",
            "0.3805803001674946\n"
          ]
        },
        {
          "output_type": "stream",
          "name": "stderr",
          "text": [
            "A decoder-only architecture is being used, but right-padding was detected! For correct generation results, please set `padding_side='left'` when initializing the tokenizer.\n"
          ]
        },
        {
          "output_type": "stream",
          "name": "stdout",
          "text": [
            "بسان سگانش ازان انجمن   که بودند بادانش و رای زن\n",
            "بسان سگانش ازان انجمن    ببندی فرستی بنزدیک من\n",
            "0.2626909894424158\n"
          ]
        },
        {
          "output_type": "stream",
          "name": "stderr",
          "text": [
            "A decoder-only architecture is being used, but right-padding was detected! For correct generation results, please set `padding_side='left'` when initializing the tokenizer.\n"
          ]
        },
        {
          "output_type": "stream",
          "name": "stdout",
          "text": [
            "همه نامداران برین هم سخن   که ازان گم شد نام یزدان کهن\n",
            "همه نامداران برین هم سخن    که نعمان و منذر فگندند بن\n",
            "0.4172261448611506\n"
          ]
        },
        {
          "output_type": "stream",
          "name": "stderr",
          "text": [
            "A decoder-only architecture is being used, but right-padding was detected! For correct generation results, please set `padding_side='left'` when initializing the tokenizer.\n"
          ]
        },
        {
          "output_type": "stream",
          "name": "stdout",
          "text": [
            "بگویی که من بندهٔ ناتوان   نتابم سر از عهد و نفرین ناتوان\n",
            "بگویی که من بندهٔ ناتوان    زده دام سوگند پیش روان\n",
            "0.31702331385234306\n"
          ]
        },
        {
          "output_type": "stream",
          "name": "stderr",
          "text": [
            "A decoder-only architecture is being used, but right-padding was detected! For correct generation results, please set `padding_side='left'` when initializing the tokenizer.\n"
          ]
        },
        {
          "output_type": "stream",
          "name": "stdout",
          "text": [
            "ز چوگان او گوی شد ناپدید   تو گفتی همی سر ز خورشید برتر کشید\n",
            "ز چوگان او گوی شد ناپدید    تو گفتی سپهرش همی برکشید\n",
            "0.5296074933406222\n"
          ]
        },
        {
          "output_type": "stream",
          "name": "stderr",
          "text": [
            "A decoder-only architecture is being used, but right-padding was detected! For correct generation results, please set `padding_side='left'` when initializing the tokenizer.\n"
          ]
        },
        {
          "output_type": "stream",
          "name": "stdout",
          "text": [
            "ز هر سو فرستاد بی مر سپاه   همی بود شادان دل و نیک خواه\n",
            "ز هر سو فرستاد بی مر سپاه    بدان سرکشان تا بگیرند راه\n",
            "0.4324227075463215\n"
          ]
        },
        {
          "output_type": "stream",
          "name": "stderr",
          "text": [
            "A decoder-only architecture is being used, but right-padding was detected! For correct generation results, please set `padding_side='left'` when initializing the tokenizer.\n"
          ]
        },
        {
          "output_type": "stream",
          "name": "stdout",
          "text": [
            "گرازان سواران دمان و دنان   برفتند با گرزهای گران و کنداوران\n",
            "گرازان سواران دمان و دنان    بدندان زمین ژنده پیلان کنان\n",
            "0.3508439695638686\n"
          ]
        },
        {
          "output_type": "stream",
          "name": "stderr",
          "text": [
            "A decoder-only architecture is being used, but right-padding was detected! For correct generation results, please set `padding_side='left'` when initializing the tokenizer.\n"
          ]
        },
        {
          "output_type": "stream",
          "name": "stdout",
          "text": [
            "شوم زود چندی پزشک آورم   ز تنگی دلم سوی درمان ناورم\n",
            "شوم زود چندی پزشک آورم    ز درد تو خونین سرشک آورم\n",
            "0.4617366309441026\n"
          ]
        },
        {
          "output_type": "stream",
          "name": "stderr",
          "text": [
            "A decoder-only architecture is being used, but right-padding was detected! For correct generation results, please set `padding_side='left'` when initializing the tokenizer.\n"
          ]
        },
        {
          "output_type": "stream",
          "name": "stdout",
          "text": [
            "بدانگه کجا بانگ و ویله کنند   چو آواز بلبل همی نشنوند\n",
            "بدانگه کجا بانگ و ویله کنند    تو گویی همی کوه را برکنند\n",
            "0.43817713423777205\n"
          ]
        },
        {
          "output_type": "stream",
          "name": "stderr",
          "text": [
            "A decoder-only architecture is being used, but right-padding was detected! For correct generation results, please set `padding_side='left'` when initializing the tokenizer.\n"
          ]
        },
        {
          "output_type": "stream",
          "name": "stdout",
          "text": [
            "بدو گفت کاین زیب خسرو تو راست   برین گونه با زیب و با فر و مهتر ماست راست\n",
            "بدو گفت کاین زیب خسرو تو راست    غریبان و این خانه نو تو راست\n",
            "0.34823528327578535\n"
          ]
        },
        {
          "output_type": "stream",
          "name": "stderr",
          "text": [
            "A decoder-only architecture is being used, but right-padding was detected! For correct generation results, please set `padding_side='left'` when initializing the tokenizer.\n"
          ]
        },
        {
          "output_type": "stream",
          "name": "stdout",
          "text": [
            "چو الیاس دید آن بر و یال اوی   همان یاره و گرز و گوپال اوی\n",
            "چو الیاس دید آن بر و یال اوی    چنان گردش چنگ و گوپال اوی\n",
            "0.570282226440554\n"
          ]
        },
        {
          "output_type": "stream",
          "name": "stderr",
          "text": [
            "A decoder-only architecture is being used, but right-padding was detected! For correct generation results, please set `padding_side='left'` when initializing the tokenizer.\n"
          ]
        },
        {
          "output_type": "stream",
          "name": "stdout",
          "text": [
            "چو صف برکشیدند هر دو سپاه   تو گفتی همی برگذشتی ز خورشید و ماه\n",
            "چو صف برکشیدند هر دو سپاه    هوا شد بنفش و زمین شد سیاه\n",
            "0.363622704650007\n"
          ]
        },
        {
          "output_type": "stream",
          "name": "stderr",
          "text": [
            "A decoder-only architecture is being used, but right-padding was detected! For correct generation results, please set `padding_side='left'` when initializing the tokenizer.\n"
          ]
        },
        {
          "output_type": "stream",
          "name": "stdout",
          "text": [
            "دگر گفت کای برتر از ماه و مهر   فزونتر بدیها که بیندت چهر و چهرت\n",
            "دگر گفت کای برتر از ماه و مهر    چه پوشی همی ز انجمن خوب چهر\n",
            "0.49009410393069486\n"
          ]
        },
        {
          "output_type": "stream",
          "name": "stderr",
          "text": [
            "A decoder-only architecture is being used, but right-padding was detected! For correct generation results, please set `padding_side='left'` when initializing the tokenizer.\n"
          ]
        },
        {
          "output_type": "stream",
          "name": "stdout",
          "text": [
            "جهانی کجا شربتی آب سرد   گر ازان پس دگرگونه گردد به گرد نبرد\n",
            "جهانی کجا شربتی آب سرد    نیرزد دلت را چه داری به درد\n",
            "0.3026643726685863\n"
          ]
        },
        {
          "output_type": "stream",
          "name": "stderr",
          "text": [
            "A decoder-only architecture is being used, but right-padding was detected! For correct generation results, please set `padding_side='left'` when initializing the tokenizer.\n"
          ]
        },
        {
          "output_type": "stream",
          "name": "stdout",
          "text": [
            "بیامد به شبگیر دستور شاه   به دستوری بازگشتن به نزدیک شاه\n",
            "بیامد به شبگیر دستور شاه    همی کرد کودک به میدان سپاه\n",
            "0.3672056269893592\n"
          ]
        },
        {
          "output_type": "stream",
          "name": "stderr",
          "text": [
            "A decoder-only architecture is being used, but right-padding was detected! For correct generation results, please set `padding_side='left'` when initializing the tokenizer.\n"
          ]
        },
        {
          "output_type": "stream",
          "name": "stdout",
          "text": [
            "و دیگر که گنجم وفادار نیست   دلم را جز از راستی سودمند نیست\n",
            "و دیگر که گنجم وفادار نیست    همین رنج را کس خریدار نیست\n",
            "0.4089601472043678\n"
          ]
        },
        {
          "output_type": "stream",
          "name": "stderr",
          "text": [
            "A decoder-only architecture is being used, but right-padding was detected! For correct generation results, please set `padding_side='left'` when initializing the tokenizer.\n"
          ]
        },
        {
          "output_type": "stream",
          "name": "stdout",
          "text": [
            "بهنگ اندرون شد گرفت آن بدست   چنان شد که کس را سرآرد به دینش شکست\n",
            "بهنگ اندرون شد گرفت آن بدست    چو نزدیک شد بازوی او ببست\n",
            "0.33649324423301513\n"
          ]
        },
        {
          "output_type": "stream",
          "name": "stderr",
          "text": [
            "A decoder-only architecture is being used, but right-padding was detected! For correct generation results, please set `padding_side='left'` when initializing the tokenizer.\n"
          ]
        },
        {
          "output_type": "stream",
          "name": "stdout",
          "text": [
            "همی داشت تا شد تباه اردشیر   زگیتی ز گم کرده بد روی اردشیر\n",
            "همی داشت تا شد تباه اردشیر    همه کاخ شد پر ز شمشیر و تیر\n",
            "0.366248398130988\n"
          ]
        },
        {
          "output_type": "stream",
          "name": "stderr",
          "text": [
            "A decoder-only architecture is being used, but right-padding was detected! For correct generation results, please set `padding_side='left'` when initializing the tokenizer.\n"
          ]
        },
        {
          "output_type": "stream",
          "name": "stdout",
          "text": [
            "وگر جنگ جویی همی بیگمان   سر از نامداران و گردان آن انجمن\n",
            "وگر جنگ جویی همی بیگمان    نیاساید از کین دلت یک زمان\n",
            "0.33180774028439425\n"
          ]
        },
        {
          "output_type": "stream",
          "name": "stderr",
          "text": [
            "A decoder-only architecture is being used, but right-padding was detected! For correct generation results, please set `padding_side='left'` when initializing the tokenizer.\n"
          ]
        },
        {
          "output_type": "stream",
          "name": "stdout",
          "text": [
            "نگه کن که رستم چو باد دمان   چه گوید بدو مرد بیدار و دنان\n",
            "نگه کن که رستم چو باد دمان    بیاید بر ما زمان تا زمان\n",
            "0.4324227075463215\n"
          ]
        },
        {
          "output_type": "stream",
          "name": "stderr",
          "text": [
            "A decoder-only architecture is being used, but right-padding was detected! For correct generation results, please set `padding_side='left'` when initializing the tokenizer.\n"
          ]
        },
        {
          "output_type": "stream",
          "name": "stdout",
          "text": [
            "چنان بینی اکنون ز من دستبرد   ز ترکان جنگی و مردان گرد و گرد\n",
            "چنان بینی اکنون ز من دستبرد    که روزت ستاره بباید شمرد\n",
            "0.3498761149110956\n"
          ]
        },
        {
          "output_type": "stream",
          "name": "stderr",
          "text": [
            "A decoder-only architecture is being used, but right-padding was detected! For correct generation results, please set `padding_side='left'` when initializing the tokenizer.\n"
          ]
        },
        {
          "output_type": "stream",
          "name": "stdout",
          "text": [
            "بدیدار آن لشکر کینه خواه   بیامد بر پهلوان سپاه از سپاه\n",
            "بدیدار آن لشکر کینه خواه    گرانمایگان برگرفتند راه\n",
            "0.3508439695638686\n"
          ]
        },
        {
          "output_type": "stream",
          "name": "stderr",
          "text": [
            "A decoder-only architecture is being used, but right-padding was detected! For correct generation results, please set `padding_side='left'` when initializing the tokenizer.\n"
          ]
        },
        {
          "output_type": "stream",
          "name": "stdout",
          "text": [
            "چنان دید کاندر فلان روزگار   به گیتی نجوید کس آموزگار\n",
            "چنان دید کاندر فلان روزگار    از ایران بیاید یکی نامدار\n",
            "0.392814650900513\n"
          ]
        },
        {
          "output_type": "stream",
          "name": "stderr",
          "text": [
            "A decoder-only architecture is being used, but right-padding was detected! For correct generation results, please set `padding_side='left'` when initializing the tokenizer.\n"
          ]
        },
        {
          "output_type": "stream",
          "name": "stdout",
          "text": [
            "چو کاوس دژخیم دیگر نیا   چو گرازه گستاخ باشد نیا\n",
            "چو کاوس دژخیم دیگر نیا    پر از رنگ رخ دل پر از کیمیا\n",
            "0.2910042507378282\n"
          ]
        },
        {
          "output_type": "stream",
          "name": "stderr",
          "text": [
            "A decoder-only architecture is being used, but right-padding was detected! For correct generation results, please set `padding_side='left'` when initializing the tokenizer.\n"
          ]
        },
        {
          "output_type": "stream",
          "name": "stdout",
          "text": [
            "چه سودست کآمد بنزدیک شب   ز چشم بد دور شد فرهٔ ایزدی\n",
            "چه سودست کآمد بنزدیک شب    رو اکنون بزنهار تاریک شب\n",
            "0.31702331385234306\n"
          ]
        },
        {
          "output_type": "stream",
          "name": "stderr",
          "text": [
            "A decoder-only architecture is being used, but right-padding was detected! For correct generation results, please set `padding_side='left'` when initializing the tokenizer.\n"
          ]
        },
        {
          "output_type": "stream",
          "name": "stdout",
          "text": [
            "سواران لشکر ز پیر و جوان   برفتند بر نامور پهلوان پهلوان\n",
            "سواران لشکر ز پیر و جوان    همه تیز گفتند با پهلوان\n",
            "0.47987820666906633\n"
          ]
        },
        {
          "output_type": "stream",
          "name": "stderr",
          "text": [
            "A decoder-only architecture is being used, but right-padding was detected! For correct generation results, please set `padding_side='left'` when initializing the tokenizer.\n"
          ]
        },
        {
          "output_type": "stream",
          "name": "stdout",
          "text": [
            "به گیتی بهی بهتر از گاه نیست   ترا بودن ایدر بی مایه نیست\n",
            "به گیتی بهی بهتر از گاه نیست    بدی بتر از عمر کوتاه نیست\n",
            "0.48633831680799433\n"
          ]
        },
        {
          "output_type": "stream",
          "name": "stderr",
          "text": [
            "A decoder-only architecture is being used, but right-padding was detected! For correct generation results, please set `padding_side='left'` when initializing the tokenizer.\n"
          ]
        },
        {
          "output_type": "stream",
          "name": "stdout",
          "text": [
            "پرستش ز خورد ایچ کمتر مکن   چو خورشید تابان بدو سر نغنوی\n",
            "پرستش ز خورد ایچ کمتر مکن    تو نو باش گرهست گیتی کهن\n",
            "0.4172261448611506\n"
          ]
        },
        {
          "output_type": "stream",
          "name": "stderr",
          "text": [
            "A decoder-only architecture is being used, but right-padding was detected! For correct generation results, please set `padding_side='left'` when initializing the tokenizer.\n"
          ]
        },
        {
          "output_type": "stream",
          "name": "stdout",
          "text": [
            "خرد باید و گوهر نامدار   هم آگاهی و هم دانش و کارزار\n",
            "خرد باید و گوهر نامدار    هنر یار و فرهنگش آموزگار\n",
            "0.33180774028439425\n"
          ]
        },
        {
          "output_type": "stream",
          "name": "stderr",
          "text": [
            "A decoder-only architecture is being used, but right-padding was detected! For correct generation results, please set `padding_side='left'` when initializing the tokenizer.\n"
          ]
        },
        {
          "output_type": "stream",
          "name": "stdout",
          "text": [
            "چنین داد پاسخ که گر رستمی   ز تخم کیانی و از تخمهٔ کیی کیمیا\n",
            "چنین داد پاسخ که گر رستمی    برو راست کن روی ایران زمی\n",
            "0.3498761149110956\n"
          ]
        },
        {
          "output_type": "stream",
          "name": "stderr",
          "text": [
            "A decoder-only architecture is being used, but right-padding was detected! For correct generation results, please set `padding_side='left'` when initializing the tokenizer.\n"
          ]
        },
        {
          "output_type": "stream",
          "name": "stdout",
          "text": [
            "دو پرآب و خمی تهی در میان   همی هر کسی رای زد با چنین کیان\n",
            "دو پرآب و خمی تهی در میان    گذشته به خشکی برو سالیان\n",
            "0.4001601601922499\n"
          ]
        },
        {
          "output_type": "stream",
          "name": "stderr",
          "text": [
            "A decoder-only architecture is being used, but right-padding was detected! For correct generation results, please set `padding_side='left'` when initializing the tokenizer.\n"
          ]
        },
        {
          "output_type": "stream",
          "name": "stdout",
          "text": [
            "به کدبانو اندرز کرد و به مرد   که بیدار باشید روز نبرد از نبرد\n",
            "به کدبانو اندرز کرد و به مرد    جهانی پر از دادگو را سپرد\n",
            "0.44710186192584195\n"
          ]
        },
        {
          "output_type": "stream",
          "name": "stderr",
          "text": [
            "A decoder-only architecture is being used, but right-padding was detected! For correct generation results, please set `padding_side='left'` when initializing the tokenizer.\n"
          ]
        },
        {
          "output_type": "stream",
          "name": "stdout",
          "text": [
            "ازان پس بکین سیاوش باز   بیامد به نزدیک پیران گردن فراز\n",
            "ازان پس بکین سیاوش باز    فگند این چنین کینهٔ نو دارز\n",
            "0.3508439695638686\n"
          ]
        },
        {
          "output_type": "stream",
          "name": "stderr",
          "text": [
            "A decoder-only architecture is being used, but right-padding was detected! For correct generation results, please set `padding_side='left'` when initializing the tokenizer.\n"
          ]
        },
        {
          "output_type": "stream",
          "name": "stdout",
          "text": [
            "همانا کزان باره فرسنگ بیست   نیاید ز ترکان کسی را بنام و مه ایست\n",
            "همانا کزان باره فرسنگ بیست    ببینند آسان که بر دشت کیست\n",
            "0.26584835766658776\n"
          ]
        },
        {
          "output_type": "stream",
          "name": "stderr",
          "text": [
            "A decoder-only architecture is being used, but right-padding was detected! For correct generation results, please set `padding_side='left'` when initializing the tokenizer.\n"
          ]
        },
        {
          "output_type": "stream",
          "name": "stdout",
          "text": [
            "چو گردان سوی کینه بشتافتند   همه جنگ را دست بر سر بگذاشتند\n",
            "چو گردان سوی کینه بشتافتند    به ساری سران آگهی یافتند\n",
            "0.31702331385234306\n"
          ]
        },
        {
          "output_type": "stream",
          "name": "stderr",
          "text": [
            "A decoder-only architecture is being used, but right-padding was detected! For correct generation results, please set `padding_side='left'` when initializing the tokenizer.\n"
          ]
        },
        {
          "output_type": "stream",
          "name": "stdout",
          "text": [
            "بفرمود تا دیو چون جفت او   بیامد بمالید رخ اندر نهفت او\n",
            "بفرمود تا دیو چون جفت او    همی بوسه داد از بر سفت او\n",
            "0.3989486553351905\n"
          ]
        },
        {
          "output_type": "stream",
          "name": "stderr",
          "text": [
            "A decoder-only architecture is being used, but right-padding was detected! For correct generation results, please set `padding_side='left'` when initializing the tokenizer.\n"
          ]
        },
        {
          "output_type": "stream",
          "name": "stdout",
          "text": [
            "بدان چشمه آمد کجا خفته بود   ز تیمار اغریرثلی داده بود\n",
            "بدان چشمه آمد کجا خفته بود    بران دیو بدگوهر آشفته بود\n",
            "0.47987820666906633\n"
          ]
        },
        {
          "output_type": "stream",
          "name": "stderr",
          "text": [
            "A decoder-only architecture is being used, but right-padding was detected! For correct generation results, please set `padding_side='left'` when initializing the tokenizer.\n"
          ]
        },
        {
          "output_type": "stream",
          "name": "stdout",
          "text": [
            "ازو شاد شد شاه و کرد آفرین   بران نامداران و مردان فرخ زمین\n",
            "ازو شاد شد شاه و کرد آفرین    بدادش بدو بارهٔ خویش و زین\n",
            "0.48633831680799433\n"
          ]
        },
        {
          "output_type": "stream",
          "name": "stderr",
          "text": [
            "A decoder-only architecture is being used, but right-padding was detected! For correct generation results, please set `padding_side='left'` when initializing the tokenizer.\n"
          ]
        },
        {
          "output_type": "stream",
          "name": "stdout",
          "text": [
            "اگر من شوم کشته بر دست طوس   نگردد مرا روز روشن برو بر فسوس\n",
            "اگر من شوم کشته بر دست طوس    نه برخیزد آیین گوپال و کوس\n",
            "0.4324227075463215\n"
          ]
        },
        {
          "output_type": "stream",
          "name": "stderr",
          "text": [
            "A decoder-only architecture is being used, but right-padding was detected! For correct generation results, please set `padding_side='left'` when initializing the tokenizer.\n"
          ]
        },
        {
          "output_type": "stream",
          "name": "stdout",
          "text": [
            "وگر چیره گردد هوا بر خرد   از اندازه اندازهٔ کار رامش برد\n",
            "وگر چیره گردد هوا بر خرد    خردمندت از مردمان نشمرد\n",
            "0.43361890903486755\n"
          ]
        },
        {
          "output_type": "stream",
          "name": "stderr",
          "text": [
            "A decoder-only architecture is being used, but right-padding was detected! For correct generation results, please set `padding_side='left'` when initializing the tokenizer.\n"
          ]
        },
        {
          "output_type": "stream",
          "name": "stdout",
          "text": [
            "فرود آمد از ابر سیمرغ و چنگ   به چنگ اندرون گرزهٔ سنگ و تنگ و نهنگ\n",
            "فرود آمد از ابر سیمرغ و چنگ    بزد برگرفتش از آن گرم سنگ\n",
            "0.3850322886878713\n"
          ]
        },
        {
          "output_type": "stream",
          "name": "stderr",
          "text": [
            "A decoder-only architecture is being used, but right-padding was detected! For correct generation results, please set `padding_side='left'` when initializing the tokenizer.\n"
          ]
        },
        {
          "output_type": "stream",
          "name": "stdout",
          "text": [
            "شما را که باشم به گوهر کیم   چو من تنگ دل گشتم از رنج و سختی کیم\n",
            "شما را که باشم به گوهر کیم    به نزدیک گازر ز بهر چیم\n",
            "0.34823528327578535\n"
          ]
        },
        {
          "output_type": "stream",
          "name": "stderr",
          "text": [
            "A decoder-only architecture is being used, but right-padding was detected! For correct generation results, please set `padding_side='left'` when initializing the tokenizer.\n"
          ]
        },
        {
          "output_type": "stream",
          "name": "stdout",
          "text": [
            "بیایم کنون با سپاهی گران   همه نامداران و جنگ آوران\n",
            "بیایم کنون با سپاهی گران    ببرم پی او ز مازندران\n",
            "0.392814650900513\n"
          ]
        },
        {
          "output_type": "stream",
          "name": "stderr",
          "text": [
            "A decoder-only architecture is being used, but right-padding was detected! For correct generation results, please set `padding_side='left'` when initializing the tokenizer.\n"
          ]
        },
        {
          "output_type": "stream",
          "name": "stdout",
          "text": [
            "وزان پس بفرمود بیدار شاه   که آیند با آلت رزم با آن سپاه\n",
            "وزان پس بفرمود بیدار شاه    طلب کردن شاه توران سپاه\n",
            "0.3026643726685863\n"
          ]
        },
        {
          "output_type": "stream",
          "name": "stderr",
          "text": [
            "A decoder-only architecture is being used, but right-padding was detected! For correct generation results, please set `padding_side='left'` when initializing the tokenizer.\n"
          ]
        },
        {
          "output_type": "stream",
          "name": "stdout",
          "text": [
            "همی گفت هر گونه ای هر کسی   ز پوشیدنیها و از خوردنیها بسی\n",
            "همی گفت هر گونه ای هر کسی    بدانگه که گفتارها شد بسی\n",
            "0.48633831680799433\n"
          ]
        },
        {
          "output_type": "stream",
          "name": "stderr",
          "text": [
            "A decoder-only architecture is being used, but right-padding was detected! For correct generation results, please set `padding_side='left'` when initializing the tokenizer.\n"
          ]
        },
        {
          "output_type": "stream",
          "name": "stdout",
          "text": [
            "رخش گشت پرخون و دل پر ز درد   ازویست رخشنده خورشید زرد\n",
            "رخش گشت پرخون و دل پر ز درد    زکار سیاوش بسی یاد کرد\n",
            "0.5641985990655358\n"
          ]
        },
        {
          "output_type": "stream",
          "name": "stderr",
          "text": [
            "A decoder-only architecture is being used, but right-padding was detected! For correct generation results, please set `padding_side='left'` when initializing the tokenizer.\n"
          ]
        },
        {
          "output_type": "stream",
          "name": "stdout",
          "text": [
            "وگر گیری از تیغ و جوشن شمار   سزد گر بمانی یکی نامدار از در کارزار\n",
            "وگر گیری از تیغ و جوشن شمار    ستاره شود پیش چشم تو خوار\n",
            "0.4001601601922499\n"
          ]
        },
        {
          "output_type": "stream",
          "name": "stderr",
          "text": [
            "A decoder-only architecture is being used, but right-padding was detected! For correct generation results, please set `padding_side='left'` when initializing the tokenizer.\n"
          ]
        },
        {
          "output_type": "stream",
          "name": "stdout",
          "text": [
            "به یک دست قارن به یک دست شیر   به دست دگر ژنده پیلان جنگی دلیر و دلیر\n",
            "به یک دست قارن به یک دست شیر    به سر گرز و تیغ آتش و آب زیر\n",
            "0.4924790605054523\n"
          ]
        },
        {
          "output_type": "stream",
          "name": "stderr",
          "text": [
            "A decoder-only architecture is being used, but right-padding was detected! For correct generation results, please set `padding_side='left'` when initializing the tokenizer.\n"
          ]
        },
        {
          "output_type": "stream",
          "name": "stdout",
          "text": [
            "به نیروی یزدان که او داد زور   شود ایمن از گردش هور و کیوان هور\n",
            "به نیروی یزدان که او داد زور    بلند آفرینندهٔ ماه وهور\n",
            "0.4001601601922499\n"
          ]
        },
        {
          "output_type": "stream",
          "name": "stderr",
          "text": [
            "A decoder-only architecture is being used, but right-padding was detected! For correct generation results, please set `padding_side='left'` when initializing the tokenizer.\n"
          ]
        },
        {
          "output_type": "stream",
          "name": "stdout",
          "text": [
            "ز دشت سواران نیزه گزار   برفتند با نیزه و با خنجر کارزار\n",
            "ز دشت سواران نیزه گزار    برفتند یک سر سوی شهریار\n",
            "0.4172261448611506\n"
          ]
        },
        {
          "output_type": "stream",
          "name": "stderr",
          "text": [
            "A decoder-only architecture is being used, but right-padding was detected! For correct generation results, please set `padding_side='left'` when initializing the tokenizer.\n"
          ]
        },
        {
          "output_type": "stream",
          "name": "stdout",
          "text": [
            "شب تیره را کس نماند بجای   نبیند همی روشنایی ز خورشید و ماه\n",
            "شب تیره را کس نماند بجای    جز از چرخ گردان و گیهان خدای\n",
            "0.3955332535877179\n"
          ]
        },
        {
          "output_type": "stream",
          "name": "stderr",
          "text": [
            "A decoder-only architecture is being used, but right-padding was detected! For correct generation results, please set `padding_side='left'` when initializing the tokenizer.\n"
          ]
        },
        {
          "output_type": "stream",
          "name": "stdout",
          "text": [
            "به شادی درآمد شب دیریاز   بیامد بر شاه با درد و گرم و گداز\n",
            "به شادی درآمد شب دیریاز    چو خورشید رخشنده بگشاد راز\n",
            "0.26584835766658776\n"
          ]
        },
        {
          "output_type": "stream",
          "name": "stderr",
          "text": [
            "A decoder-only architecture is being used, but right-padding was detected! For correct generation results, please set `padding_side='left'` when initializing the tokenizer.\n"
          ]
        },
        {
          "output_type": "stream",
          "name": "stdout",
          "text": [
            "مرا مرده در خاک مصر آگنید   به آتش ز آتش دل من برافروید\n",
            "مرا مرده در خاک مصر آگنید    ز گفتار من هیچ مپراگنید\n",
            "0.4089601472043678\n"
          ]
        },
        {
          "output_type": "stream",
          "name": "stderr",
          "text": [
            "A decoder-only architecture is being used, but right-padding was detected! For correct generation results, please set `padding_side='left'` when initializing the tokenizer.\n"
          ]
        },
        {
          "output_type": "stream",
          "name": "stdout",
          "text": [
            "کنون باز گردم سوی طیسفون   بیفشارد یک دست رنج و بی رهنمون رهنمون\n",
            "کنون باز گردم سوی طیسفون    بجوش آمد اندر تنم مغز وخون\n",
            "0.2891784933232572\n"
          ]
        },
        {
          "output_type": "stream",
          "name": "stderr",
          "text": [
            "A decoder-only architecture is being used, but right-padding was detected! For correct generation results, please set `padding_side='left'` when initializing the tokenizer.\n"
          ]
        },
        {
          "output_type": "stream",
          "name": "stdout",
          "text": [
            "ازو بند بردار گر بخردی   بیابی همه چارهٔ داوری\n",
            "ازو بند بردار گر بخردی    دلت بازگردان ز راه بدی\n",
            "0.39938791763778786\n"
          ]
        },
        {
          "output_type": "stream",
          "name": "stderr",
          "text": [
            "/usr/local/lib/python3.10/dist-packages/nltk/translate/bleu_score.py:552: UserWarning: \n",
            "The hypothesis contains 0 counts of 4-gram overlaps.\n",
            "Therefore the BLEU score evaluates to 0, independently of\n",
            "how many N-gram overlaps of lower order it contains.\n",
            "Consider using lower n-gram order or use SmoothingFunction()\n",
            "  warnings.warn(_msg)\n",
            "A decoder-only architecture is being used, but right-padding was detected! For correct generation results, please set `padding_side='left'` when initializing the tokenizer.\n"
          ]
        },
        {
          "output_type": "stream",
          "name": "stdout",
          "text": [
            "همه نامداران پرخاشجوی   ز بالا بلشکر نهادند روی و روی\n",
            "همه نامداران پرخاشجوی    یکایک بدو در نهادند روی\n",
            "4.640083527732319e-78\n"
          ]
        },
        {
          "output_type": "stream",
          "name": "stderr",
          "text": [
            "A decoder-only architecture is being used, but right-padding was detected! For correct generation results, please set `padding_side='left'` when initializing the tokenizer.\n"
          ]
        },
        {
          "output_type": "stream",
          "name": "stdout",
          "text": [
            "همه روی آهن گرفته به زر   برو بافته سربسر نامور تخت زر\n",
            "همه روی آهن گرفته به زر    نشانی سیه بسته بر خود بر\n",
            "0.4172261448611506\n"
          ]
        },
        {
          "output_type": "stream",
          "name": "stderr",
          "text": [
            "A decoder-only architecture is being used, but right-padding was detected! For correct generation results, please set `padding_side='left'` when initializing the tokenizer.\n"
          ]
        },
        {
          "output_type": "stream",
          "name": "stdout",
          "text": [
            "بترسیدی از بی هنر یک سوار   ازان تازه شد فرهٔ کارزار\n",
            "بترسیدی از بی هنر یک سوار    نه شیر ژیان بود بر کوهسار\n",
            "0.4216120484488187\n"
          ]
        },
        {
          "output_type": "stream",
          "name": "stderr",
          "text": [
            "A decoder-only architecture is being used, but right-padding was detected! For correct generation results, please set `padding_side='left'` when initializing the tokenizer.\n"
          ]
        },
        {
          "output_type": "stream",
          "name": "stdout",
          "text": [
            "برو انجمن شد فراوان سپاه   همه نامداران و گردان و گاه\n",
            "برو انجمن شد فراوان سپاه    بپیچید ازو یک زمان جان شاه\n",
            "0.3508439695638686\n"
          ]
        },
        {
          "output_type": "stream",
          "name": "stderr",
          "text": [
            "A decoder-only architecture is being used, but right-padding was detected! For correct generation results, please set `padding_side='left'` when initializing the tokenizer.\n"
          ]
        },
        {
          "output_type": "stream",
          "name": "stdout",
          "text": [
            "اگر می گساریم با انجمن   بران نامداران و بر موبدان رای زن\n",
            "اگر می گساریم با انجمن    گر آهسته باشیم با رای زن\n",
            "0.3646285861936467\n"
          ]
        },
        {
          "output_type": "stream",
          "name": "stderr",
          "text": [
            "A decoder-only architecture is being used, but right-padding was detected! For correct generation results, please set `padding_side='left'` when initializing the tokenizer.\n"
          ]
        },
        {
          "output_type": "stream",
          "name": "stdout",
          "text": [
            "به مرو اندر از چینیان کس نماند   همی تاج و تختش همی بر سر بسپرد\n",
            "به مرو اندر از چینیان کس نماند    بکشتند وز جنگیان بس نماند\n",
            "0.4001601601922499\n"
          ]
        },
        {
          "output_type": "stream",
          "name": "stderr",
          "text": [
            "A decoder-only architecture is being used, but right-padding was detected! For correct generation results, please set `padding_side='left'` when initializing the tokenizer.\n"
          ]
        },
        {
          "output_type": "stream",
          "name": "stdout",
          "text": [
            "وزانجا به کار سیاوش رسید   چنان کو ز جادو جهان را بدید\n",
            "وزانجا به کار سیاوش رسید    سراسر همه یاد کرد آنچ دید\n",
            "0.31702331385234306\n"
          ]
        },
        {
          "output_type": "stream",
          "name": "stderr",
          "text": [
            "A decoder-only architecture is being used, but right-padding was detected! For correct generation results, please set `padding_side='left'` when initializing the tokenizer.\n"
          ]
        },
        {
          "output_type": "stream",
          "name": "stdout",
          "text": [
            "مرا نیز مادر ز بهر تو زاد   زتاج و کمر برنهادی و تاج و تخت و\n",
            "مرا نیز مادر ز بهر تو زاد    ازین کار بر دل مکن هیچ یاد\n",
            "0.37239098949398236\n"
          ]
        },
        {
          "output_type": "stream",
          "name": "stderr",
          "text": [
            "A decoder-only architecture is being used, but right-padding was detected! For correct generation results, please set `padding_side='left'` when initializing the tokenizer.\n"
          ]
        },
        {
          "output_type": "stream",
          "name": "stdout",
          "text": [
            "وزانپس کجا گیو ز ایران براند   همی نام ساسانش دل از جهان برفشاند\n",
            "وزانپس کجا گیو ز ایران براند    چه مایه بسختی بتوران بماند\n",
            "0.3805803001674946\n"
          ]
        },
        {
          "output_type": "stream",
          "name": "stderr",
          "text": [
            "A decoder-only architecture is being used, but right-padding was detected! For correct generation results, please set `padding_side='left'` when initializing the tokenizer.\n"
          ]
        },
        {
          "output_type": "stream",
          "name": "stdout",
          "text": [
            "دگر گفت با تاج و نام بلند   که ای شاه نیک اختر و پاک و بی گزند و گزند\n",
            "دگر گفت با تاج و نام بلند    کرا خوانی از خسروان سودمند\n",
            "0.30826276460621843\n"
          ]
        },
        {
          "output_type": "stream",
          "name": "stderr",
          "text": [
            "A decoder-only architecture is being used, but right-padding was detected! For correct generation results, please set `padding_side='left'` when initializing the tokenizer.\n"
          ]
        },
        {
          "output_type": "stream",
          "name": "stdout",
          "text": [
            "چو سوگند خوردم بخاک سیاه   نمانم که بیند مرا تاج و گاه و کلاه\n",
            "چو سوگند خوردم بخاک سیاه    لب آلوده شد مشمر آن از گناه\n",
            "0.26584835766658776\n"
          ]
        },
        {
          "output_type": "stream",
          "name": "stderr",
          "text": [
            "A decoder-only architecture is being used, but right-padding was detected! For correct generation results, please set `padding_side='left'` when initializing the tokenizer.\n"
          ]
        },
        {
          "output_type": "stream",
          "name": "stdout",
          "text": [
            "بدو گفت چون رستم پیلتن   بیاید خرامش ازان انجمن\n",
            "بدو گفت چون رستم پیلتن    ندیده بود کس بهر انجمن\n",
            "0.4180134288483488\n"
          ]
        },
        {
          "output_type": "stream",
          "name": "stderr",
          "text": [
            "A decoder-only architecture is being used, but right-padding was detected! For correct generation results, please set `padding_side='left'` when initializing the tokenizer.\n"
          ]
        },
        {
          "output_type": "stream",
          "name": "stdout",
          "text": [
            "فرستندش از مرزها باژ و ساو   فرستاد باید به هر کشور و بوم و بر\n",
            "فرستندش از مرزها باژ و ساو    که با جنگ او نیستشان زور و تاو\n",
            "0.33649324423301513\n"
          ]
        },
        {
          "output_type": "stream",
          "name": "stderr",
          "text": [
            "A decoder-only architecture is being used, but right-padding was detected! For correct generation results, please set `padding_side='left'` when initializing the tokenizer.\n"
          ]
        },
        {
          "output_type": "stream",
          "name": "stdout",
          "text": [
            "چو بشنید پیران غمی گشت سخت   بلرزید برسان شاخ درخت درخت\n",
            "چو بشنید پیران غمی گشت سخت    بلرزید برسان برگ درخت\n",
            "0.6989307622784944\n"
          ]
        },
        {
          "output_type": "stream",
          "name": "stderr",
          "text": [
            "A decoder-only architecture is being used, but right-padding was detected! For correct generation results, please set `padding_side='left'` when initializing the tokenizer.\n"
          ]
        },
        {
          "output_type": "stream",
          "name": "stdout",
          "text": [
            "چونان خورده شد مرد مهمان پرست   بیاورد قرطاس و چینی یکی دست کش\n",
            "چونان خورده شد مرد مهمان پرست    بیامد گرفت آبدستان بدست\n",
            "0.3805803001674946\n"
          ]
        },
        {
          "output_type": "stream",
          "name": "stderr",
          "text": [
            "A decoder-only architecture is being used, but right-padding was detected! For correct generation results, please set `padding_side='left'` when initializing the tokenizer.\n"
          ]
        },
        {
          "output_type": "stream",
          "name": "stdout",
          "text": [
            "اگر چهرهٔ خویش بینی به چشم   پرستنده را نیز نبینی ز خشم\n",
            "اگر چهرهٔ خویش بینی به چشم    ز چاره بیاسای و منمای خشم\n",
            "0.44833867003844585\n"
          ]
        },
        {
          "output_type": "stream",
          "name": "stderr",
          "text": [
            "A decoder-only architecture is being used, but right-padding was detected! For correct generation results, please set `padding_side='left'` when initializing the tokenizer.\n"
          ]
        },
        {
          "output_type": "stream",
          "name": "stdout",
          "text": [
            "چونزدیک اوشد سخنگوی مرد   بیامد ز کار گذشته بسی یاد کرد\n",
            "چونزدیک اوشد سخنگوی مرد    همه رنجها پیش او یاد کرد\n",
            "0.2790159393585827\n"
          ]
        },
        {
          "output_type": "stream",
          "name": "stderr",
          "text": [
            "A decoder-only architecture is being used, but right-padding was detected! For correct generation results, please set `padding_side='left'` when initializing the tokenizer.\n"
          ]
        },
        {
          "output_type": "stream",
          "name": "stdout",
          "text": [
            "چو آمد به بخت اندرون تیرگی   فراز آمد آن خسروانی چراغ بدخشان\n",
            "چو آمد به بخت اندرون تیرگی    گرفتند ترکان برو چیرگی\n",
            "0.4172261448611506\n"
          ]
        },
        {
          "output_type": "stream",
          "name": "stderr",
          "text": [
            "A decoder-only architecture is being used, but right-padding was detected! For correct generation results, please set `padding_side='left'` when initializing the tokenizer.\n"
          ]
        },
        {
          "output_type": "stream",
          "name": "stdout",
          "text": [
            "چو بشنید ضحاک بگشاد گوش   ازان پس چنین گفت کای داور داد و هوش و ف\n",
            "چو بشنید ضحاک بگشاد گوش    ز تخت اندر افتاد و زو رفت هوش\n",
            "0.24903286388467735\n"
          ]
        },
        {
          "output_type": "stream",
          "name": "stderr",
          "text": [
            "A decoder-only architecture is being used, but right-padding was detected! For correct generation results, please set `padding_side='left'` when initializing the tokenizer.\n"
          ]
        },
        {
          "output_type": "stream",
          "name": "stdout",
          "text": [
            "کنون هرچ گنجست و تاج و کمر   بباید ترا بیشتر زین بدی در هنر\n",
            "کنون هرچ گنجست و تاج و کمر    همان طوق زرین و زرین سپر\n",
            "0.4324227075463215\n"
          ]
        },
        {
          "output_type": "stream",
          "name": "stderr",
          "text": [
            "A decoder-only architecture is being used, but right-padding was detected! For correct generation results, please set `padding_side='left'` when initializing the tokenizer.\n"
          ]
        },
        {
          "output_type": "stream",
          "name": "stdout",
          "text": [
            "که ای بخردان روی این کارچیست   که از نیکویی در جهان یادگارست\n",
            "که ای بخردان روی این کارچیست    پراندیشه وخسته ز آزار کیست\n",
            "0.4172261448611506\n"
          ]
        },
        {
          "output_type": "stream",
          "name": "stderr",
          "text": [
            "A decoder-only architecture is being used, but right-padding was detected! For correct generation results, please set `padding_side='left'` when initializing the tokenizer.\n"
          ]
        },
        {
          "output_type": "stream",
          "name": "stdout",
          "text": [
            "یکی تیرباران برویین بکرد   بران نامداران و مردان پرخاش و گرد\n",
            "یکی تیرباران برویین بکرد    که شد ماه تابنده چون لاژورد\n",
            "0.23462350320528\n"
          ]
        },
        {
          "output_type": "stream",
          "name": "stderr",
          "text": [
            "A decoder-only architecture is being used, but right-padding was detected! For correct generation results, please set `padding_side='left'` when initializing the tokenizer.\n"
          ]
        },
        {
          "output_type": "stream",
          "name": "stdout",
          "text": [
            "بدو گفت بهرام بنمای تن   که جاوید بادا بن و دل و رای و با انجمن\n",
            "بدو گفت بهرام بنمای تن    برهنه نشان سیاوش بمن\n",
            "0.22894156860669912\n"
          ]
        },
        {
          "output_type": "stream",
          "name": "stderr",
          "text": [
            "A decoder-only architecture is being used, but right-padding was detected! For correct generation results, please set `padding_side='left'` when initializing the tokenizer.\n"
          ]
        },
        {
          "output_type": "stream",
          "name": "stdout",
          "text": [
            "سپاه انجمن شد به درگاه او   همی خواند بر شاه و بر گاه او\n",
            "سپاه انجمن شد به درگاه او    به ابر اندر آمد سرگاه او\n",
            "0.363622704650007\n"
          ]
        },
        {
          "output_type": "stream",
          "name": "stderr",
          "text": [
            "A decoder-only architecture is being used, but right-padding was detected! For correct generation results, please set `padding_side='left'` when initializing the tokenizer.\n"
          ]
        },
        {
          "output_type": "stream",
          "name": "stdout",
          "text": [
            "ازیدر کنون زی سپاهان روید   چو خورشید تابان بدی سوی ما نسازد\n",
            "ازیدر کنون زی سپاهان روید    وزین لشکر خویش پنهان روید\n",
            "0.31702331385234306\n"
          ]
        },
        {
          "output_type": "stream",
          "name": "stderr",
          "text": [
            "A decoder-only architecture is being used, but right-padding was detected! For correct generation results, please set `padding_side='left'` when initializing the tokenizer.\n"
          ]
        },
        {
          "output_type": "stream",
          "name": "stdout",
          "text": [
            "بدو گفت کین شاه نوشین روان   که بیدار دل باش و روشن روان\n",
            "بدو گفت کین شاه نوشین روان    جوانست و بیدار و دولت جوان\n",
            "0.4089601472043678\n"
          ]
        },
        {
          "output_type": "stream",
          "name": "stderr",
          "text": [
            "A decoder-only architecture is being used, but right-padding was detected! For correct generation results, please set `padding_side='left'` when initializing the tokenizer.\n"
          ]
        },
        {
          "output_type": "stream",
          "name": "stdout",
          "text": [
            "ز پیکان تیر آتشی برفروخت   همه جامهٔ رزمها پیش او سربسر بسوخت\n",
            "ز پیکان تیر آتشی برفروخت    بکوه اندر افگند و هیزم بسوخت\n",
            "0.33180774028439425\n"
          ]
        },
        {
          "output_type": "stream",
          "name": "stderr",
          "text": [
            "A decoder-only architecture is being used, but right-padding was detected! For correct generation results, please set `padding_side='left'` when initializing the tokenizer.\n"
          ]
        },
        {
          "output_type": "stream",
          "name": "stdout",
          "text": [
            "ز زخم سنانهای الماس گون   همی آتش افروخت سرکش از خون هیون\n",
            "ز زخم سنانهای الماس گون    تو گفتی همی بارد از ابر خون\n",
            "0.35655062085592504\n"
          ]
        },
        {
          "output_type": "stream",
          "name": "stderr",
          "text": [
            "A decoder-only architecture is being used, but right-padding was detected! For correct generation results, please set `padding_side='left'` when initializing the tokenizer.\n"
          ]
        },
        {
          "output_type": "stream",
          "name": "stdout",
          "text": [
            "به فرمان بیاراست و آمد برون   به پیش سپهدار کاووس شد رهنمون\n",
            "به فرمان بیاراست و آمد برون    پدر دل پر از درد و رخ پر ز خون\n",
            "0.2989555963830099\n"
          ]
        },
        {
          "output_type": "stream",
          "name": "stderr",
          "text": [
            "A decoder-only architecture is being used, but right-padding was detected! For correct generation results, please set `padding_side='left'` when initializing the tokenizer.\n"
          ]
        },
        {
          "output_type": "stream",
          "name": "stdout",
          "text": [
            "نکردی خدای جهان را سپاس   ز یزدان نیکی دهش بود نیکی شناس\n",
            "نکردی خدای جهان را سپاس    نبودی بدین ره ورا حق شناس\n",
            "0.33180774028439425\n"
          ]
        },
        {
          "output_type": "stream",
          "name": "stderr",
          "text": [
            "A decoder-only architecture is being used, but right-padding was detected! For correct generation results, please set `padding_side='left'` when initializing the tokenizer.\n"
          ]
        },
        {
          "output_type": "stream",
          "name": "stdout",
          "text": [
            "بفرمود کاهنگران آورید   یکی بارهٔ تیزچنگ آورید\n",
            "بفرمود کاهنگران آورید    مس و روی و پتک گران آورید\n",
            "3.515018170403913e-78\n"
          ]
        },
        {
          "output_type": "stream",
          "name": "stderr",
          "text": [
            "A decoder-only architecture is being used, but right-padding was detected! For correct generation results, please set `padding_side='left'` when initializing the tokenizer.\n"
          ]
        },
        {
          "output_type": "stream",
          "name": "stdout",
          "text": [
            "هران بوم کز رنج ویران شدست   ز دشمن بما بر بود ننگ و آهرمن شد\n",
            "هران بوم کز رنج ویران شدست    ز بیدادی شاه ایران شدست\n",
            "0.4001601601922499\n"
          ]
        },
        {
          "output_type": "stream",
          "name": "stderr",
          "text": [
            "A decoder-only architecture is being used, but right-padding was detected! For correct generation results, please set `padding_side='left'` when initializing the tokenizer.\n"
          ]
        },
        {
          "output_type": "stream",
          "name": "stdout",
          "text": [
            "نشسته بگاه اندرون می بچنگ   یکی بارهٔ تیزچنگ و دیگر پلنگ\n",
            "نشسته بگاه اندرون می بچنگ    دل و گوش داده بوای چنگ\n",
            "0.3672056269893592\n"
          ]
        },
        {
          "output_type": "stream",
          "name": "stderr",
          "text": [
            "A decoder-only architecture is being used, but right-padding was detected! For correct generation results, please set `padding_side='left'` when initializing the tokenizer.\n"
          ]
        },
        {
          "output_type": "stream",
          "name": "stdout",
          "text": [
            "به زیر کش اندر گرفته سنان   همه جنگ را تیز کرده عنان\n",
            "به زیر کش اندر گرفته سنان    به یک دست کوپال و دیگر عنان\n",
            "0.3989486553351905\n"
          ]
        },
        {
          "output_type": "stream",
          "name": "stderr",
          "text": [
            "A decoder-only architecture is being used, but right-padding was detected! For correct generation results, please set `padding_side='left'` when initializing the tokenizer.\n"
          ]
        },
        {
          "output_type": "stream",
          "name": "stdout",
          "text": [
            "بدو گفت اگر باشد این گفته راست   بگویم تو را من بگویم همه راست گوی\n",
            "بدو گفت اگر باشد این گفته راست    بدین چار چیز او جهان را بهاست\n",
            "0.41374412020518814\n"
          ]
        },
        {
          "output_type": "stream",
          "name": "stderr",
          "text": [
            "A decoder-only architecture is being used, but right-padding was detected! For correct generation results, please set `padding_side='left'` when initializing the tokenizer.\n"
          ]
        },
        {
          "output_type": "stream",
          "name": "stdout",
          "text": [
            "ز بیدادگر شاه باید گریز   اگر خود بمانی تو زین پس بباید گریز\n",
            "ز بیدادگر شاه باید گریز    کزن خیزد اندر جهان رستخیز\n",
            "0.2891784933232572\n"
          ]
        },
        {
          "output_type": "stream",
          "name": "stderr",
          "text": [
            "A decoder-only architecture is being used, but right-padding was detected! For correct generation results, please set `padding_side='left'` when initializing the tokenizer.\n"
          ]
        },
        {
          "output_type": "stream",
          "name": "stdout",
          "text": [
            "همه پاسبانیم و گنج آن تست   که بیدار دل بادی و تن درست\n",
            "همه پاسبانیم و گنج آن تست    فدی کردن جان و رنج آن تست\n",
            "0.3955332535877179\n"
          ]
        },
        {
          "output_type": "stream",
          "name": "stderr",
          "text": [
            "A decoder-only architecture is being used, but right-padding was detected! For correct generation results, please set `padding_side='left'` when initializing the tokenizer.\n"
          ]
        },
        {
          "output_type": "stream",
          "name": "stdout",
          "text": [
            "دگر گفت کز بهمن سرفراز   بیامد بنزدیک ما سربسر رزمساز\n",
            "دگر گفت کز بهمن سرفراز    چرا شاه ایران بپوشید راز\n",
            "0.392814650900513\n"
          ]
        },
        {
          "output_type": "stream",
          "name": "stderr",
          "text": [
            "A decoder-only architecture is being used, but right-padding was detected! For correct generation results, please set `padding_side='left'` when initializing the tokenizer.\n"
          ]
        },
        {
          "output_type": "stream",
          "name": "stdout",
          "text": [
            "همه شب نخفتند زان خرمی   که تا شب برآمد یکی آتشی بر سری\n",
            "همه شب نخفتند زان خرمی    که پیروزی بودشان رستمی\n",
            "0.3805803001674946\n"
          ]
        },
        {
          "output_type": "stream",
          "name": "stderr",
          "text": [
            "A decoder-only architecture is being used, but right-padding was detected! For correct generation results, please set `padding_side='left'` when initializing the tokenizer.\n"
          ]
        },
        {
          "output_type": "stream",
          "name": "stdout",
          "text": [
            "پرستنده گر یابد از شاه رنج   نخواهد که باشد ز هرگونه اندیشه و گنج\n",
            "پرستنده گر یابد از شاه رنج    نگه کن که با رنج نامست و گنج\n",
            "0.4052587697205425\n"
          ]
        },
        {
          "output_type": "stream",
          "name": "stderr",
          "text": [
            "A decoder-only architecture is being used, but right-padding was detected! For correct generation results, please set `padding_side='left'` when initializing the tokenizer.\n"
          ]
        },
        {
          "output_type": "stream",
          "name": "stdout",
          "text": [
            "دریغ آن بر و کتف و بالای شاه   کجا آن سرافرازی و تخت و زرین کلاه\n",
            "دریغ آن بر و کتف و بالای شاه    دریغ آن رخ مجلس آرای شاه\n",
            "0.456083954535194\n"
          ]
        },
        {
          "output_type": "stream",
          "name": "stderr",
          "text": [
            "A decoder-only architecture is being used, but right-padding was detected! For correct generation results, please set `padding_side='left'` when initializing the tokenizer.\n"
          ]
        },
        {
          "output_type": "stream",
          "name": "stdout",
          "text": [
            "سپاهی به کردار دریای آب   که از گرد پیدا نبد در جهان آفتاب\n",
            "سپاهی به کردار دریای آب    بقلب اندرون جهن و افراسیاب\n",
            "0.2891784933232572\n"
          ]
        },
        {
          "output_type": "stream",
          "name": "stderr",
          "text": [
            "A decoder-only architecture is being used, but right-padding was detected! For correct generation results, please set `padding_side='left'` when initializing the tokenizer.\n"
          ]
        },
        {
          "output_type": "stream",
          "name": "stdout",
          "text": [
            "سر اندر ستاره یکی کوه دید   ز دیدار خورشید شد ناپدید\n",
            "سر اندر ستاره یکی کوه دید    تو گفتی که گردون بخواهد کشید\n",
            "0.4216120484488187\n"
          ]
        },
        {
          "output_type": "stream",
          "name": "stderr",
          "text": [
            "A decoder-only architecture is being used, but right-padding was detected! For correct generation results, please set `padding_side='left'` when initializing the tokenizer.\n"
          ]
        },
        {
          "output_type": "stream",
          "name": "stdout",
          "text": [
            "از ایرانیان آنک بد پاک رای   از اختر گرفتند اختر به جای\n",
            "از ایرانیان آنک بد پاک رای    بیامد به دهلیز پرده سرای\n",
            "0.43361890903486755\n"
          ]
        },
        {
          "output_type": "stream",
          "name": "stderr",
          "text": [
            "A decoder-only architecture is being used, but right-padding was detected! For correct generation results, please set `padding_side='left'` when initializing the tokenizer.\n"
          ]
        },
        {
          "output_type": "stream",
          "name": "stdout",
          "text": [
            "نشاید کزین پس چمیم و چریم   چه آرد سرانجام ما بر تو بر چییم\n",
            "نشاید کزین پس چمیم و چریم    وگر تخت را خویشتن پروریم\n",
            "0.3498761149110956\n"
          ]
        },
        {
          "output_type": "stream",
          "name": "stderr",
          "text": [
            "A decoder-only architecture is being used, but right-padding was detected! For correct generation results, please set `padding_side='left'` when initializing the tokenizer.\n"
          ]
        },
        {
          "output_type": "stream",
          "name": "stdout",
          "text": [
            "ز هندوستان ساز رفتن گرفت   همه شهر ایران بدو مانده اندر شگفت\n",
            "ز هندوستان ساز رفتن گرفت    ز خویشان چینی نهفتن گرفت\n",
            "0.31702331385234306\n"
          ]
        },
        {
          "output_type": "stream",
          "name": "stderr",
          "text": [
            "A decoder-only architecture is being used, but right-padding was detected! For correct generation results, please set `padding_side='left'` when initializing the tokenizer.\n"
          ]
        },
        {
          "output_type": "stream",
          "name": "stdout",
          "text": [
            "بدو گفت شاه ار تو رانی ز پیش   نبینی جز از خوبی و آرام و آیین خویش\n",
            "بدو گفت شاه ار تو رانی ز پیش    زمانه نگردد ز آیین خویش\n",
            "0.4527471870952894\n"
          ]
        },
        {
          "output_type": "stream",
          "name": "stderr",
          "text": [
            "A decoder-only architecture is being used, but right-padding was detected! For correct generation results, please set `padding_side='left'` when initializing the tokenizer.\n"
          ]
        },
        {
          "output_type": "stream",
          "name": "stdout",
          "text": [
            "سراسر بگفت آنچ بود از بنه   ندانست کس باز پیمان از بهر بنه\n",
            "سراسر بگفت آنچ بود از بنه    که رفت اندر آن یک دل و یک تنه\n",
            "0.32631104091886703\n"
          ]
        },
        {
          "output_type": "stream",
          "name": "stderr",
          "text": [
            "A decoder-only architecture is being used, but right-padding was detected! For correct generation results, please set `padding_side='left'` when initializing the tokenizer.\n"
          ]
        },
        {
          "output_type": "stream",
          "name": "stdout",
          "text": [
            "همی گفت پیغمبری کش جهود   ز شاهان گیتی نیارد شنود\n",
            "همی گفت پیغمبری کش جهود    کشد دین او را نشاید ستود\n",
            "0.355433394487517\n"
          ]
        },
        {
          "output_type": "stream",
          "name": "stderr",
          "text": [
            "A decoder-only architecture is being used, but right-padding was detected! For correct generation results, please set `padding_side='left'` when initializing the tokenizer.\n"
          ]
        },
        {
          "output_type": "stream",
          "name": "stdout",
          "text": [
            "دبیری خرمند بنوشت خوب   چنانچون بود رسم آیین وآهنگ خوب\n",
            "دبیری خرمند بنوشت خوب    پدید آورید اندرو زشت و خوب\n",
            "0.2777619034011791\n"
          ]
        },
        {
          "output_type": "stream",
          "name": "stderr",
          "text": [
            "A decoder-only architecture is being used, but right-padding was detected! For correct generation results, please set `padding_side='left'` when initializing the tokenizer.\n"
          ]
        },
        {
          "output_type": "stream",
          "name": "stdout",
          "text": [
            "به زر سرخ گوهر برو بافته   به جای کله بر سرش تافته\n",
            "به زر سرخ گوهر برو بافته    به زر اندرون رشته ها تافته\n",
            "0.5331675363405771\n"
          ]
        },
        {
          "output_type": "stream",
          "name": "stderr",
          "text": [
            "A decoder-only architecture is being used, but right-padding was detected! For correct generation results, please set `padding_side='left'` when initializing the tokenizer.\n"
          ]
        },
        {
          "output_type": "stream",
          "name": "stdout",
          "text": [
            "ز گستهم بیژن سخن یاد کرد   بفرمود تا پاسخ نامه آرد نبرد\n",
            "ز گستهم بیژن سخن یاد کرد    ز لهاک وز گرد فرشیدورد\n",
            "0.4172261448611506\n"
          ]
        },
        {
          "output_type": "stream",
          "name": "stderr",
          "text": [
            "A decoder-only architecture is being used, but right-padding was detected! For correct generation results, please set `padding_side='left'` when initializing the tokenizer.\n"
          ]
        },
        {
          "output_type": "stream",
          "name": "stdout",
          "text": [
            "دبیران چو پیوند جان منند   ز هر دانشی داستانها بکردند\n",
            "دبیران چو پیوند جان منند    همه پادشا بر نهان منند\n",
            "0.392814650900513\n"
          ]
        },
        {
          "output_type": "stream",
          "name": "stderr",
          "text": [
            "A decoder-only architecture is being used, but right-padding was detected! For correct generation results, please set `padding_side='left'` when initializing the tokenizer.\n"
          ]
        },
        {
          "output_type": "stream",
          "name": "stdout",
          "text": [
            "فرستادگان خواندند آفرین   که بی تو مبادا زمان و زمین زین زمین\n",
            "فرستادگان خواندند آفرین    یکایک نهادند سر بر زمین\n",
            "3.4077295621678842e-78\n"
          ]
        },
        {
          "output_type": "stream",
          "name": "stderr",
          "text": [
            "A decoder-only architecture is being used, but right-padding was detected! For correct generation results, please set `padding_side='left'` when initializing the tokenizer.\n"
          ]
        },
        {
          "output_type": "stream",
          "name": "stdout",
          "text": [
            "که این پور طوسست نامش زرسپ   جهانگیر و بیدار و با نام و فرخنده اسب\n",
            "که این پور طوسست نامش زرسپ    که از پیل جنگی نگرداند اسپ\n",
            "0.3237722713145643\n"
          ]
        },
        {
          "output_type": "stream",
          "name": "stderr",
          "text": [
            "A decoder-only architecture is being used, but right-padding was detected! For correct generation results, please set `padding_side='left'` when initializing the tokenizer.\n"
          ]
        },
        {
          "output_type": "stream",
          "name": "stdout",
          "text": [
            "در دانش از گنج نامی ترست   کجا نام او در جهان نوست\n",
            "در دانش از گنج نامی ترست    همان نزد دانا گرامی ترست\n",
            "0.4172261448611506\n"
          ]
        },
        {
          "output_type": "stream",
          "name": "stderr",
          "text": [
            "A decoder-only architecture is being used, but right-padding was detected! For correct generation results, please set `padding_side='left'` when initializing the tokenizer.\n"
          ]
        },
        {
          "output_type": "stream",
          "name": "stdout",
          "text": [
            "چو پیش پدر شد سیاووش پاک   بیامد بمالید بر خاک رخ بر تیره خاک\n",
            "چو پیش پدر شد سیاووش پاک    نه دود و نه آتش نه گرد و نه خاک\n",
            "0.3152164865084787\n"
          ]
        },
        {
          "output_type": "stream",
          "name": "stderr",
          "text": [
            "A decoder-only architecture is being used, but right-padding was detected! For correct generation results, please set `padding_side='left'` when initializing the tokenizer.\n"
          ]
        },
        {
          "output_type": "stream",
          "name": "stdout",
          "text": [
            "ببایدت رفت چنینست روی   نگه کن بدین شهریاران تو را بگوی\n",
            "ببایدت رفت چنینست روی    که هرچ او کند پادشاهست اوی\n",
            "0.23462350320528\n"
          ]
        },
        {
          "output_type": "stream",
          "name": "stderr",
          "text": [
            "A decoder-only architecture is being used, but right-padding was detected! For correct generation results, please set `padding_side='left'` when initializing the tokenizer.\n"
          ]
        },
        {
          "output_type": "stream",
          "name": "stdout",
          "text": [
            "بیک جای مان بود آرام و خواب   همه جای آرامش و جای شتاب\n",
            "بیک جای مان بود آرام و خواب    اگر تیره بد گر بلند آفتاب\n",
            "0.4703709593866897\n"
          ]
        },
        {
          "output_type": "stream",
          "name": "stderr",
          "text": [
            "A decoder-only architecture is being used, but right-padding was detected! For correct generation results, please set `padding_side='left'` when initializing the tokenizer.\n"
          ]
        },
        {
          "output_type": "stream",
          "name": "stdout",
          "text": [
            "همه کاردانان بدین داستان   نشستند یکسر همه گفتهٔ باستان\n",
            "همه کاردانان بدین داستان    کجا گفت گشتند همداستان\n",
            "0.2984745896009823\n"
          ]
        },
        {
          "output_type": "stream",
          "name": "stderr",
          "text": [
            "A decoder-only architecture is being used, but right-padding was detected! For correct generation results, please set `padding_side='left'` when initializing the tokenizer.\n"
          ]
        },
        {
          "output_type": "stream",
          "name": "stdout",
          "text": [
            "ز رومی و هندی و از پارسی   ز هر نامداری و هر پهلوی سی پارسی\n",
            "ز رومی و هندی و از پارسی    نجومی و گر مردم هندسی\n",
            "0.41374412020518814\n"
          ]
        },
        {
          "output_type": "stream",
          "name": "stderr",
          "text": [
            "A decoder-only architecture is being used, but right-padding was detected! For correct generation results, please set `padding_side='left'` when initializing the tokenizer.\n"
          ]
        },
        {
          "output_type": "stream",
          "name": "stdout",
          "text": [
            "برفتند گردان فرخنده رای   همه نامداران با دانش و رهنمای\n",
            "برفتند گردان فرخنده رای    برابر کشیدند پرده سرای\n",
            "0.2626909894424158\n"
          ]
        },
        {
          "output_type": "stream",
          "name": "stderr",
          "text": [
            "A decoder-only architecture is being used, but right-padding was detected! For correct generation results, please set `padding_side='left'` when initializing the tokenizer.\n"
          ]
        },
        {
          "output_type": "stream",
          "name": "stdout",
          "text": [
            "ازو نیستی گنج و گوهر دریغ   همان یاره و طوق زرین و زرین ستبر و\n",
            "ازو نیستی گنج و گوهر دریغ    نه برگستوان و نه گوپال و تیغ\n",
            "0.34791594751284466\n"
          ]
        },
        {
          "output_type": "stream",
          "name": "stderr",
          "text": [
            "A decoder-only architecture is being used, but right-padding was detected! For correct generation results, please set `padding_side='left'` when initializing the tokenizer.\n"
          ]
        },
        {
          "output_type": "stream",
          "name": "stdout",
          "text": [
            "نماندی به گیتی و رفتی به خاک   ز گفتار و کردار بیداد گشته پاک\n",
            "نماندی به گیتی و رفتی به خاک    که بادا سر دشمنت در مغاک\n",
            "0.4324227075463215\n"
          ]
        },
        {
          "output_type": "stream",
          "name": "stderr",
          "text": [
            "A decoder-only architecture is being used, but right-padding was detected! For correct generation results, please set `padding_side='left'` when initializing the tokenizer.\n"
          ]
        },
        {
          "output_type": "stream",
          "name": "stdout",
          "text": [
            "منجم بیاورد صلاب را   برخشنده روز و شبان گاه را\n",
            "منجم بیاورد صلاب را    بینداخت آرامش و خواب را\n",
            "0.2907153684841096\n"
          ]
        },
        {
          "output_type": "stream",
          "name": "stderr",
          "text": [
            "A decoder-only architecture is being used, but right-padding was detected! For correct generation results, please set `padding_side='left'` when initializing the tokenizer.\n"
          ]
        },
        {
          "output_type": "stream",
          "name": "stdout",
          "text": [
            "بخواند آن همه آذران پیش خویش   کجا بود در پادشاهی آیین خویش\n",
            "بخواند آن همه آذران پیش خویش    بیاورد استا و بنهاد پیش\n",
            "0.4172261448611506\n"
          ]
        },
        {
          "output_type": "stream",
          "name": "stderr",
          "text": [
            "A decoder-only architecture is being used, but right-padding was detected! For correct generation results, please set `padding_side='left'` when initializing the tokenizer.\n"
          ]
        },
        {
          "output_type": "stream",
          "name": "stdout",
          "text": [
            "دوان اورمزد از میانه برفت   به نزدیک قیصر خرامید تفت\n",
            "دوان اورمزد از میانه برفت    به پیش جهاندار چون باد تفت\n",
            "0.4861555413051454\n"
          ]
        },
        {
          "output_type": "stream",
          "name": "stderr",
          "text": [
            "A decoder-only architecture is being used, but right-padding was detected! For correct generation results, please set `padding_side='left'` when initializing the tokenizer.\n"
          ]
        },
        {
          "output_type": "stream",
          "name": "stdout",
          "text": [
            "یکایک به ایران رسید آگهی   که تیره شد آن فر شاهنشهی رهی\n",
            "یکایک به ایران رسید آگهی    که آمد خریدار تخت مهی\n",
            "0.4172261448611506\n"
          ]
        },
        {
          "output_type": "stream",
          "name": "stderr",
          "text": [
            "A decoder-only architecture is being used, but right-padding was detected! For correct generation results, please set `padding_side='left'` when initializing the tokenizer.\n"
          ]
        },
        {
          "output_type": "stream",
          "name": "stdout",
          "text": [
            "بیامد ز قنوج برزوی شاد   به نزدیک آن نامداران فرخ نژاد\n",
            "بیامد ز قنوج برزوی شاد    بسی دانش نوگرفته بیاد\n",
            "0.3508439695638686\n"
          ]
        },
        {
          "output_type": "stream",
          "name": "stderr",
          "text": [
            "A decoder-only architecture is being used, but right-padding was detected! For correct generation results, please set `padding_side='left'` when initializing the tokenizer.\n"
          ]
        },
        {
          "output_type": "stream",
          "name": "stdout",
          "text": [
            "ور ای دونک دشمن شود دوستدار   بداندیش و شاد و پیروز و دوستدار\n",
            "ور ای دونک دشمن شود دوستدار    تو در بوستان تخم نیکی بکار\n",
            "0.3805803001674946\n"
          ]
        },
        {
          "output_type": "stream",
          "name": "stderr",
          "text": [
            "A decoder-only architecture is being used, but right-padding was detected! For correct generation results, please set `padding_side='left'` when initializing the tokenizer.\n"
          ]
        },
        {
          "output_type": "stream",
          "name": "stdout",
          "text": [
            "به گنج ور فرمان دهد تا زگنج   گشاید شب تیره اندر سرای سپنج\n",
            "به گنج ور فرمان دهد تا زگنج    سپارد بمن گر ندارد به رنج\n",
            "0.4703709593866897\n"
          ]
        },
        {
          "output_type": "stream",
          "name": "stderr",
          "text": [
            "A decoder-only architecture is being used, but right-padding was detected! For correct generation results, please set `padding_side='left'` when initializing the tokenizer.\n"
          ]
        },
        {
          "output_type": "stream",
          "name": "stdout",
          "text": [
            "تنش را بشمشیر کردند چاک   همی ریختند ازو چرخ گردنده خاک\n",
            "تنش را بشمشیر کردند چاک    بخون غرقه شد زیر او سنگ و خاک\n",
            "0.3061587630360045\n"
          ]
        },
        {
          "output_type": "stream",
          "name": "stderr",
          "text": [
            "A decoder-only architecture is being used, but right-padding was detected! For correct generation results, please set `padding_side='left'` when initializing the tokenizer.\n"
          ]
        },
        {
          "output_type": "stream",
          "name": "stdout",
          "text": [
            "تو فرزندی و شاه ایران توی   خردمند و بیدار و شیران توی\n",
            "تو فرزندی و شاه ایران توی    برزم اندرون چنگ شیران توی\n",
            "0.46924700641055994\n"
          ]
        },
        {
          "output_type": "stream",
          "name": "stderr",
          "text": [
            "A decoder-only architecture is being used, but right-padding was detected! For correct generation results, please set `padding_side='left'` when initializing the tokenizer.\n"
          ]
        },
        {
          "output_type": "stream",
          "name": "stdout",
          "text": [
            "هم امشب ترا و نشست ترا   ببینی و جوشن و تیغ ترا\n",
            "هم امشب ترا و نشست ترا    خورش باید و نیست چیزی مرا\n",
            "0.43361890903486755\n"
          ]
        },
        {
          "output_type": "stream",
          "name": "stderr",
          "text": [
            "A decoder-only architecture is being used, but right-padding was detected! For correct generation results, please set `padding_side='left'` when initializing the tokenizer.\n"
          ]
        },
        {
          "output_type": "stream",
          "name": "stdout",
          "text": [
            "چو آگاه شد لشکر نیمروز   بیامد بر شاه گیتی فروز\n",
            "چو آگاه شد لشکر نیمروز    که آمد ز ره شاه گیتی فروز\n",
            "0.4301463832259786\n"
          ]
        },
        {
          "output_type": "stream",
          "name": "stderr",
          "text": [
            "A decoder-only architecture is being used, but right-padding was detected! For correct generation results, please set `padding_side='left'` when initializing the tokenizer.\n"
          ]
        },
        {
          "output_type": "stream",
          "name": "stdout",
          "text": [
            "ز من نیکوی گر پذیرفت و زشت   مباد آنک ازو راه یزدان نپیمود پشت\n",
            "ز من نیکوی گر پذیرفت و زشت    نشستن مرا جای ده در بهشت\n",
            "0.4324227075463215\n"
          ]
        },
        {
          "output_type": "stream",
          "name": "stderr",
          "text": [
            "A decoder-only architecture is being used, but right-padding was detected! For correct generation results, please set `padding_side='left'` when initializing the tokenizer.\n"
          ]
        },
        {
          "output_type": "stream",
          "name": "stdout",
          "text": [
            "چنینست کیهان همه درد و رنج   بزرگی و پیروزی و دستگاه و گنج\n",
            "چنینست کیهان همه درد و رنج    چه یازد بتاج وچه نازی به گنج\n",
            "0.3955332535877179\n"
          ]
        },
        {
          "output_type": "stream",
          "name": "stderr",
          "text": [
            "A decoder-only architecture is being used, but right-padding was detected! For correct generation results, please set `padding_side='left'` when initializing the tokenizer.\n"
          ]
        },
        {
          "output_type": "stream",
          "name": "stdout",
          "text": [
            "که راهی درازست و بی آب و سخت   نبینم ز کردار او هم درخت درخت\n",
            "که راهی درازست و بی آب و سخت    نباشد گیاه و نه برگ درخت\n",
            "0.49009410393069486\n"
          ]
        },
        {
          "output_type": "stream",
          "name": "stderr",
          "text": [
            "A decoder-only architecture is being used, but right-padding was detected! For correct generation results, please set `padding_side='left'` when initializing the tokenizer.\n"
          ]
        },
        {
          "output_type": "stream",
          "name": "stdout",
          "text": [
            "جهان سر به سر گشت دریای قار   همه شهر ایران پر از ناله و قار و شور و س\n",
            "جهان سر به سر گشت دریای قار    برافروخته شمع ازو صدهزار\n",
            "0.30826276460621843\n"
          ]
        },
        {
          "output_type": "stream",
          "name": "stderr",
          "text": [
            "A decoder-only architecture is being used, but right-padding was detected! For correct generation results, please set `padding_side='left'` when initializing the tokenizer.\n"
          ]
        },
        {
          "output_type": "stream",
          "name": "stdout",
          "text": [
            "چو آمد بنزدیک پیل سپید   زمین شد سیاه و هوا شد پر از داد و پر\n",
            "چو آمد بنزدیک پیل سپید    شد آن شاه چین از روان ناامید\n",
            "0.24903286388467735\n"
          ]
        },
        {
          "output_type": "stream",
          "name": "stderr",
          "text": [
            "A decoder-only architecture is being used, but right-padding was detected! For correct generation results, please set `padding_side='left'` when initializing the tokenizer.\n"
          ]
        },
        {
          "output_type": "stream",
          "name": "stdout",
          "text": [
            "سیاوش به گفتار زن شد به باد   چنین گفت کای شاه بیدادگر\n",
            "سیاوش به گفتار زن شد به باد    خجسته زنی کاو ز مادر نزاد\n",
            "0.4744325794453768\n"
          ]
        },
        {
          "output_type": "stream",
          "name": "stderr",
          "text": [
            "A decoder-only architecture is being used, but right-padding was detected! For correct generation results, please set `padding_side='left'` when initializing the tokenizer.\n"
          ]
        },
        {
          "output_type": "stream",
          "name": "stdout",
          "text": [
            "بیارم برت عهد شاهان داد   سر تاجداران و شیران فرخ نژاد\n",
            "بیارم برت عهد شاهان داد    ز کیخسرو آغاز تا کیقباد\n",
            "0.3508439695638686\n"
          ]
        },
        {
          "output_type": "stream",
          "name": "stderr",
          "text": [
            "A decoder-only architecture is being used, but right-padding was detected! For correct generation results, please set `padding_side='left'` when initializing the tokenizer.\n"
          ]
        },
        {
          "output_type": "stream",
          "name": "stdout",
          "text": [
            "بنزدیک رستم فرستاد شاه   بسی آفرین خواند بر تاج و تخت و کلاه و سپاه\n",
            "بنزدیک رستم فرستاد شاه    که این هدیه با خویشتن بر براه\n",
            "0.17395797375642233\n"
          ]
        },
        {
          "output_type": "stream",
          "name": "stderr",
          "text": [
            "A decoder-only architecture is being used, but right-padding was detected! For correct generation results, please set `padding_side='left'` when initializing the tokenizer.\n"
          ]
        },
        {
          "output_type": "stream",
          "name": "stdout",
          "text": [
            "به پالیز بلبل بنالد همی   چو سرو سهی بر سرش بر آید همی\n",
            "به پالیز بلبل بنالد همی    گل از نالهٔ او ببالد همی\n",
            "0.3026643726685863\n"
          ]
        },
        {
          "output_type": "stream",
          "name": "stderr",
          "text": [
            "A decoder-only architecture is being used, but right-padding was detected! For correct generation results, please set `padding_side='left'` when initializing the tokenizer.\n"
          ]
        },
        {
          "output_type": "stream",
          "name": "stdout",
          "text": [
            "به خون برادر چه بندی کمر   کجا شاه را کشیدی از شاه سر\n",
            "به خون برادر چه بندی کمر    چه سوزی دل پیر گشته پدر\n",
            "0.3805803001674946\n"
          ]
        },
        {
          "output_type": "stream",
          "name": "stderr",
          "text": [
            "A decoder-only architecture is being used, but right-padding was detected! For correct generation results, please set `padding_side='left'` when initializing the tokenizer.\n"
          ]
        },
        {
          "output_type": "stream",
          "name": "stdout",
          "text": [
            "وگر خود نپوشم بیازارد اوی   نتابم سر از من بداندیش اوی\n",
            "وگر خود نپوشم بیازارد اوی    همانا دگرگونه پندارد اوی\n",
            "0.3672056269893592\n"
          ]
        },
        {
          "output_type": "stream",
          "name": "stderr",
          "text": [
            "A decoder-only architecture is being used, but right-padding was detected! For correct generation results, please set `padding_side='left'` when initializing the tokenizer.\n"
          ]
        },
        {
          "output_type": "stream",
          "name": "stdout",
          "text": [
            "به کسری سپردم سزاوار تخت   نخواهم کسی کو بود نیکبخت\n",
            "به کسری سپردم سزاوار تخت    پس از مرگ ما او بود نیک بخت\n",
            "0.30457527453468203\n"
          ]
        },
        {
          "output_type": "stream",
          "name": "stderr",
          "text": [
            "A decoder-only architecture is being used, but right-padding was detected! For correct generation results, please set `padding_side='left'` when initializing the tokenizer.\n"
          ]
        },
        {
          "output_type": "stream",
          "name": "stdout",
          "text": [
            "اگر پاک جانم ز پیمان تو   نگردد مرا بهره رنج و فرمان تو\n",
            "اگر پاک جانم ز پیمان تو    بپیچد به بیزارم از جان تو\n",
            "0.3955332535877179\n"
          ]
        },
        {
          "output_type": "stream",
          "name": "stderr",
          "text": [
            "A decoder-only architecture is being used, but right-padding was detected! For correct generation results, please set `padding_side='left'` when initializing the tokenizer.\n"
          ]
        },
        {
          "output_type": "stream",
          "name": "stdout",
          "text": [
            "فرود آمد از تخت و شد پیش اوی   همی آفرین خواند پرخاش و بگشاد روی\n",
            "فرود آمد از تخت و شد پیش اوی    بمالید بر چشم او چشم و روی\n",
            "0.5031747626530138\n"
          ]
        },
        {
          "output_type": "stream",
          "name": "stderr",
          "text": [
            "A decoder-only architecture is being used, but right-padding was detected! For correct generation results, please set `padding_side='left'` when initializing the tokenizer.\n"
          ]
        },
        {
          "output_type": "stream",
          "name": "stdout",
          "text": [
            "نخست اشک بود از نژاد قباد   ز تخم بزرگان گیتی مباد\n",
            "نخست اشک بود از نژاد قباد    دگر گرد شاپور خسرو نژاد\n",
            "0.4617366309441026\n"
          ]
        },
        {
          "output_type": "stream",
          "name": "stderr",
          "text": [
            "A decoder-only architecture is being used, but right-padding was detected! For correct generation results, please set `padding_side='left'` when initializing the tokenizer.\n"
          ]
        },
        {
          "output_type": "stream",
          "name": "stdout",
          "text": [
            "درفشی پلنگست پیکر گراز   سپاهی کمندافگن و رزمساز\n",
            "درفشی پلنگست پیکر گراز    پس ریونیزست با کام و ناز\n",
            "0.2846946938149361\n"
          ]
        },
        {
          "output_type": "stream",
          "name": "stderr",
          "text": [
            "A decoder-only architecture is being used, but right-padding was detected! For correct generation results, please set `padding_side='left'` when initializing the tokenizer.\n"
          ]
        },
        {
          "output_type": "stream",
          "name": "stdout",
          "text": [
            "به یک هفته مجلس بیاراستند   می و رود و رامشگران خواستند\n",
            "به یک هفته مجلس بیاراستند    بهر بر زنی رود و می خواستند\n",
            "0.39235422094246053\n"
          ]
        },
        {
          "output_type": "stream",
          "name": "stderr",
          "text": [
            "A decoder-only architecture is being used, but right-padding was detected! For correct generation results, please set `padding_side='left'` when initializing the tokenizer.\n"
          ]
        },
        {
          "output_type": "stream",
          "name": "stdout",
          "text": [
            "جهاندار محمود خورشیدفش   شب تیره ازو بستد سر و افسرش\n",
            "جهاندار محمود خورشیدفش    برزم اندرون شیر شمشیرکش\n",
            "3.690122608639576e-78\n"
          ]
        },
        {
          "output_type": "stream",
          "name": "stderr",
          "text": [
            "A decoder-only architecture is being used, but right-padding was detected! For correct generation results, please set `padding_side='left'` when initializing the tokenizer.\n"
          ]
        },
        {
          "output_type": "stream",
          "name": "stdout",
          "text": [
            "ز چاچ و برک تا سمرقند و سغد   از آن مرز تا پیش دریای چین\n",
            "ز چاچ و برک تا سمرقند و سغد    بسی بود ویران و آرام جغد\n",
            "0.4758733096412523\n"
          ]
        },
        {
          "output_type": "stream",
          "name": "stderr",
          "text": [
            "A decoder-only architecture is being used, but right-padding was detected! For correct generation results, please set `padding_side='left'` when initializing the tokenizer.\n"
          ]
        },
        {
          "output_type": "stream",
          "name": "stdout",
          "text": [
            "جز آگاه کردن ندید ایچ رای   که شد روز روشن بروبر همه جای پای\n",
            "جز آگاه کردن ندید ایچ رای    دوان از پس پرده برداشت پای\n",
            "0.363622704650007\n"
          ]
        },
        {
          "output_type": "stream",
          "name": "stderr",
          "text": [
            "A decoder-only architecture is being used, but right-padding was detected! For correct generation results, please set `padding_side='left'` when initializing the tokenizer.\n"
          ]
        },
        {
          "output_type": "stream",
          "name": "stdout",
          "text": [
            "پیام شهنشاه با او بگفت   همه رازها پیش ایشان بازگفت\n",
            "پیام شهنشاه با او بگفت    رخ رای هندی چوگل برشگفت\n",
            "0.392814650900513\n"
          ]
        },
        {
          "output_type": "stream",
          "name": "stderr",
          "text": [
            "A decoder-only architecture is being used, but right-padding was detected! For correct generation results, please set `padding_side='left'` when initializing the tokenizer.\n"
          ]
        },
        {
          "output_type": "stream",
          "name": "stdout",
          "text": [
            "دو دستش بزنجیر و گردن بغل   دهن پر ز خون و جعد از بر و بازو و\n",
            "دو دستش بزنجیر و گردن بغل    یکی بند رومی بکردار مل\n",
            "0.28175950490399515\n"
          ]
        },
        {
          "output_type": "stream",
          "name": "stderr",
          "text": [
            "A decoder-only architecture is being used, but right-padding was detected! For correct generation results, please set `padding_side='left'` when initializing the tokenizer.\n"
          ]
        },
        {
          "output_type": "stream",
          "name": "stdout",
          "text": [
            "فرومایه ضحاک بیدادگر   ز گیتی نیابی و ز تخت و کمر\n",
            "فرومایه ضحاک بیدادگر    بدین چاره بگرفت جای پدر\n",
            "3.4077295621678842e-78\n"
          ]
        },
        {
          "output_type": "stream",
          "name": "stderr",
          "text": [
            "A decoder-only architecture is being used, but right-padding was detected! For correct generation results, please set `padding_side='left'` when initializing the tokenizer.\n"
          ]
        },
        {
          "output_type": "stream",
          "name": "stdout",
          "text": [
            "و دیگر که دارنده یار منست   سر اختر اندر کنار من افسرست\n",
            "و دیگر که دارنده یار منست    بزرگی و مهرش حصار منست\n",
            "0.4172261448611506\n"
          ]
        },
        {
          "output_type": "stream",
          "name": "stderr",
          "text": [
            "A decoder-only architecture is being used, but right-padding was detected! For correct generation results, please set `padding_side='left'` when initializing the tokenizer.\n"
          ]
        },
        {
          "output_type": "stream",
          "name": "stdout",
          "text": [
            "دگر هفته چون هور بفراخت تاج   نشست از بر تخت پیروز با تخت عاج\n",
            "دگر هفته چون هور بفراخت تاج    بیامد نشست از بر تخت عاج\n",
            "0.5607900239988007\n",
            "بدو سرشبان گفت کای شهریار   دلت را بدین کار با من مدار\n",
            "بدو سرشبان گفت کای شهریار    ز گیتی من آیم بدین مرغزار\n",
            "0.3448444257953326\n",
            "average_bleu_score: 0.3718\n"
          ]
        }
      ],
      "source": [
        "total=0\n",
        "total_test_loss=0\n",
        "t_bleu=0\n",
        "with torch.no_grad():\n",
        "    for step, batch in enumerate(test_dataloader):\n",
        "        b_input_ids = batch[0].to(device)\n",
        "        b_labels = batch[1].to(device)\n",
        "        b_masks = batch[2].to(device)\n",
        "        b_labels = b_labels.clone()\n",
        "\n",
        "\n",
        "        output = model.generate(\n",
        "        b_input_ids,\n",
        "        max_length=25,\n",
        "        num_beams=20,\n",
        "        no_repeat_ngram_size=2,\n",
        "        top_k=30,\n",
        "        pad_token_id=tokenizer.pad_token_id,\n",
        "        attention_mask=torch.ones_like(b_input_ids),\n",
        "        do_sample=True\n",
        "        )\n",
        "        generated_text = tokenizer.decode(output[0], skip_special_tokens=True)\n",
        "        reference_text = tokenizer.decode(b_labels[0], skip_special_tokens=True)\n",
        "        print(generated_text)\n",
        "        print(reference_text)\n",
        "\n",
        "        bleu_score = corpus_bleu([[reference_text.split()]], [generated_text.split()])\n",
        "        print(bleu_score)\n",
        "        t_bleu += bleu_score\n",
        "\n",
        "\n",
        "average_bleu_score = t_bleu / len(test_dataloader)\n",
        "print(f'average_bleu_score: {average_bleu_score:.4f}')\n"
      ]
    },
    {
      "cell_type": "code",
      "execution_count": null,
      "metadata": {
        "colab": {
          "base_uri": "https://localhost:8080/"
        },
        "id": "axymWskeyAvg",
        "outputId": "18856427-d708-4cf3-f1dd-6bebf4b4d54e"
      },
      "outputs": [
        {
          "output_type": "stream",
          "name": "stderr",
          "text": [
            "<ipython-input-84-de5a7d789290>:6: UserWarning: To copy construct from a tensor, it is recommended to use sourceTensor.clone().detach() or sourceTensor.clone().detach().requires_grad_(True), rather than torch.tensor(sourceTensor).\n",
            "  input_ids = torch.tensor(input_tokenized['input_ids']).to(device)\n"
          ]
        },
        {
          "output_type": "stream",
          "name": "stdout",
          "text": [
            "Generated Poem:\n",
            "بدو سرشبان گفت کای شهریار    تو این خانه را خوارمایه مدار\n",
            "Generated Poem:\n",
            "جهاندار محمود خورشیدفش    هم اندر زمان دست کرده به کش\n",
            "Generated Poem:\n",
            "و دیگر که دارنده یار منست    روان و خرد تار و هم تنست\n"
          ]
        }
      ],
      "source": [
        "def generate_poem(poem_stanza):\n",
        "    model.eval()\n",
        "\n",
        "    input_tokenized = tokenizer(poem_stanza, return_tensors='pt', padding=True, truncation=True, max_length=35)\n",
        "    input_ids = torch.tensor(input_tokenized['input_ids']).to(device)\n",
        "\n",
        "    output = model.generate(\n",
        "        input_ids,\n",
        "        max_length=20,\n",
        "        num_beams=20,\n",
        "        no_repeat_ngram_size=2,\n",
        "        top_k=30,\n",
        "        pad_token_id=tokenizer.pad_token_id,\n",
        "        attention_mask=torch.ones_like(input_ids),\n",
        "        do_sample=True\n",
        "    )\n",
        "\n",
        "    generated_poem = tokenizer.decode(output[0], skip_special_tokens=True)\n",
        "\n",
        "    print(\"Generated Poem:\")\n",
        "    print(generated_poem)\n",
        "\n",
        "# Example :\n",
        "stanza1 = 'بدو سرشبان گفت کای شهریار'\n",
        "generate_poem(stanza1)\n",
        "\n",
        "\n",
        "stanza2='جهاندار محمود خورشیدفش'\n",
        "generate_poem(stanza2)\n",
        "\n",
        "stanza3='و دیگر که دارنده یار منست'\n",
        "generate_poem(stanza3)"
      ]
    }
  ],
  "metadata": {
    "accelerator": "GPU",
    "colab": {
      "provenance": [],
      "gpuType": "T4"
    },
    "kernelspec": {
      "display_name": "Python 3",
      "name": "python3"
    },
    "language_info": {
      "name": "python"
    },
    "widgets": {
      "application/vnd.jupyter.widget-state+json": {
        "84b01c45edc246dfab5b1ff919e812a7": {
          "model_module": "@jupyter-widgets/controls",
          "model_name": "HBoxModel",
          "model_module_version": "1.5.0",
          "state": {
            "_dom_classes": [],
            "_model_module": "@jupyter-widgets/controls",
            "_model_module_version": "1.5.0",
            "_model_name": "HBoxModel",
            "_view_count": null,
            "_view_module": "@jupyter-widgets/controls",
            "_view_module_version": "1.5.0",
            "_view_name": "HBoxView",
            "box_style": "",
            "children": [
              "IPY_MODEL_a8c7728e7e564c46a4df150300eb2b4b",
              "IPY_MODEL_c08c6adadad2492ba2f5f9d7b2c3f5b5",
              "IPY_MODEL_b1dbcf3ec50a4dfbb04580f9ac2baede"
            ],
            "layout": "IPY_MODEL_188c492096894693b6906c9b82c2bab2"
          }
        },
        "a8c7728e7e564c46a4df150300eb2b4b": {
          "model_module": "@jupyter-widgets/controls",
          "model_name": "HTMLModel",
          "model_module_version": "1.5.0",
          "state": {
            "_dom_classes": [],
            "_model_module": "@jupyter-widgets/controls",
            "_model_module_version": "1.5.0",
            "_model_name": "HTMLModel",
            "_view_count": null,
            "_view_module": "@jupyter-widgets/controls",
            "_view_module_version": "1.5.0",
            "_view_name": "HTMLView",
            "description": "",
            "description_tooltip": null,
            "layout": "IPY_MODEL_fa99333091d84f56b557945288bdc785",
            "placeholder": "​",
            "style": "IPY_MODEL_2b09de8b3eec442e83ca992c0249db26",
            "value": "pytorch_model.bin: 100%"
          }
        },
        "c08c6adadad2492ba2f5f9d7b2c3f5b5": {
          "model_module": "@jupyter-widgets/controls",
          "model_name": "FloatProgressModel",
          "model_module_version": "1.5.0",
          "state": {
            "_dom_classes": [],
            "_model_module": "@jupyter-widgets/controls",
            "_model_module_version": "1.5.0",
            "_model_name": "FloatProgressModel",
            "_view_count": null,
            "_view_module": "@jupyter-widgets/controls",
            "_view_module_version": "1.5.0",
            "_view_name": "ProgressView",
            "bar_style": "success",
            "description": "",
            "description_tooltip": null,
            "layout": "IPY_MODEL_ec5c218e267f4fdf8d58ce27502b8220",
            "max": 485044198,
            "min": 0,
            "orientation": "horizontal",
            "style": "IPY_MODEL_5e0a58d1a54f45fbb4ef80fb1f8970f7",
            "value": 485044198
          }
        },
        "b1dbcf3ec50a4dfbb04580f9ac2baede": {
          "model_module": "@jupyter-widgets/controls",
          "model_name": "HTMLModel",
          "model_module_version": "1.5.0",
          "state": {
            "_dom_classes": [],
            "_model_module": "@jupyter-widgets/controls",
            "_model_module_version": "1.5.0",
            "_model_name": "HTMLModel",
            "_view_count": null,
            "_view_module": "@jupyter-widgets/controls",
            "_view_module_version": "1.5.0",
            "_view_name": "HTMLView",
            "description": "",
            "description_tooltip": null,
            "layout": "IPY_MODEL_79554f63b1284ff69259efac66d1714e",
            "placeholder": "​",
            "style": "IPY_MODEL_15c545503c014b9fa062799dc7087584",
            "value": " 485M/485M [00:08&lt;00:00, 57.6MB/s]"
          }
        },
        "188c492096894693b6906c9b82c2bab2": {
          "model_module": "@jupyter-widgets/base",
          "model_name": "LayoutModel",
          "model_module_version": "1.2.0",
          "state": {
            "_model_module": "@jupyter-widgets/base",
            "_model_module_version": "1.2.0",
            "_model_name": "LayoutModel",
            "_view_count": null,
            "_view_module": "@jupyter-widgets/base",
            "_view_module_version": "1.2.0",
            "_view_name": "LayoutView",
            "align_content": null,
            "align_items": null,
            "align_self": null,
            "border": null,
            "bottom": null,
            "display": null,
            "flex": null,
            "flex_flow": null,
            "grid_area": null,
            "grid_auto_columns": null,
            "grid_auto_flow": null,
            "grid_auto_rows": null,
            "grid_column": null,
            "grid_gap": null,
            "grid_row": null,
            "grid_template_areas": null,
            "grid_template_columns": null,
            "grid_template_rows": null,
            "height": null,
            "justify_content": null,
            "justify_items": null,
            "left": null,
            "margin": null,
            "max_height": null,
            "max_width": null,
            "min_height": null,
            "min_width": null,
            "object_fit": null,
            "object_position": null,
            "order": null,
            "overflow": null,
            "overflow_x": null,
            "overflow_y": null,
            "padding": null,
            "right": null,
            "top": null,
            "visibility": null,
            "width": null
          }
        },
        "fa99333091d84f56b557945288bdc785": {
          "model_module": "@jupyter-widgets/base",
          "model_name": "LayoutModel",
          "model_module_version": "1.2.0",
          "state": {
            "_model_module": "@jupyter-widgets/base",
            "_model_module_version": "1.2.0",
            "_model_name": "LayoutModel",
            "_view_count": null,
            "_view_module": "@jupyter-widgets/base",
            "_view_module_version": "1.2.0",
            "_view_name": "LayoutView",
            "align_content": null,
            "align_items": null,
            "align_self": null,
            "border": null,
            "bottom": null,
            "display": null,
            "flex": null,
            "flex_flow": null,
            "grid_area": null,
            "grid_auto_columns": null,
            "grid_auto_flow": null,
            "grid_auto_rows": null,
            "grid_column": null,
            "grid_gap": null,
            "grid_row": null,
            "grid_template_areas": null,
            "grid_template_columns": null,
            "grid_template_rows": null,
            "height": null,
            "justify_content": null,
            "justify_items": null,
            "left": null,
            "margin": null,
            "max_height": null,
            "max_width": null,
            "min_height": null,
            "min_width": null,
            "object_fit": null,
            "object_position": null,
            "order": null,
            "overflow": null,
            "overflow_x": null,
            "overflow_y": null,
            "padding": null,
            "right": null,
            "top": null,
            "visibility": null,
            "width": null
          }
        },
        "2b09de8b3eec442e83ca992c0249db26": {
          "model_module": "@jupyter-widgets/controls",
          "model_name": "DescriptionStyleModel",
          "model_module_version": "1.5.0",
          "state": {
            "_model_module": "@jupyter-widgets/controls",
            "_model_module_version": "1.5.0",
            "_model_name": "DescriptionStyleModel",
            "_view_count": null,
            "_view_module": "@jupyter-widgets/base",
            "_view_module_version": "1.2.0",
            "_view_name": "StyleView",
            "description_width": ""
          }
        },
        "ec5c218e267f4fdf8d58ce27502b8220": {
          "model_module": "@jupyter-widgets/base",
          "model_name": "LayoutModel",
          "model_module_version": "1.2.0",
          "state": {
            "_model_module": "@jupyter-widgets/base",
            "_model_module_version": "1.2.0",
            "_model_name": "LayoutModel",
            "_view_count": null,
            "_view_module": "@jupyter-widgets/base",
            "_view_module_version": "1.2.0",
            "_view_name": "LayoutView",
            "align_content": null,
            "align_items": null,
            "align_self": null,
            "border": null,
            "bottom": null,
            "display": null,
            "flex": null,
            "flex_flow": null,
            "grid_area": null,
            "grid_auto_columns": null,
            "grid_auto_flow": null,
            "grid_auto_rows": null,
            "grid_column": null,
            "grid_gap": null,
            "grid_row": null,
            "grid_template_areas": null,
            "grid_template_columns": null,
            "grid_template_rows": null,
            "height": null,
            "justify_content": null,
            "justify_items": null,
            "left": null,
            "margin": null,
            "max_height": null,
            "max_width": null,
            "min_height": null,
            "min_width": null,
            "object_fit": null,
            "object_position": null,
            "order": null,
            "overflow": null,
            "overflow_x": null,
            "overflow_y": null,
            "padding": null,
            "right": null,
            "top": null,
            "visibility": null,
            "width": null
          }
        },
        "5e0a58d1a54f45fbb4ef80fb1f8970f7": {
          "model_module": "@jupyter-widgets/controls",
          "model_name": "ProgressStyleModel",
          "model_module_version": "1.5.0",
          "state": {
            "_model_module": "@jupyter-widgets/controls",
            "_model_module_version": "1.5.0",
            "_model_name": "ProgressStyleModel",
            "_view_count": null,
            "_view_module": "@jupyter-widgets/base",
            "_view_module_version": "1.2.0",
            "_view_name": "StyleView",
            "bar_color": null,
            "description_width": ""
          }
        },
        "79554f63b1284ff69259efac66d1714e": {
          "model_module": "@jupyter-widgets/base",
          "model_name": "LayoutModel",
          "model_module_version": "1.2.0",
          "state": {
            "_model_module": "@jupyter-widgets/base",
            "_model_module_version": "1.2.0",
            "_model_name": "LayoutModel",
            "_view_count": null,
            "_view_module": "@jupyter-widgets/base",
            "_view_module_version": "1.2.0",
            "_view_name": "LayoutView",
            "align_content": null,
            "align_items": null,
            "align_self": null,
            "border": null,
            "bottom": null,
            "display": null,
            "flex": null,
            "flex_flow": null,
            "grid_area": null,
            "grid_auto_columns": null,
            "grid_auto_flow": null,
            "grid_auto_rows": null,
            "grid_column": null,
            "grid_gap": null,
            "grid_row": null,
            "grid_template_areas": null,
            "grid_template_columns": null,
            "grid_template_rows": null,
            "height": null,
            "justify_content": null,
            "justify_items": null,
            "left": null,
            "margin": null,
            "max_height": null,
            "max_width": null,
            "min_height": null,
            "min_width": null,
            "object_fit": null,
            "object_position": null,
            "order": null,
            "overflow": null,
            "overflow_x": null,
            "overflow_y": null,
            "padding": null,
            "right": null,
            "top": null,
            "visibility": null,
            "width": null
          }
        },
        "15c545503c014b9fa062799dc7087584": {
          "model_module": "@jupyter-widgets/controls",
          "model_name": "DescriptionStyleModel",
          "model_module_version": "1.5.0",
          "state": {
            "_model_module": "@jupyter-widgets/controls",
            "_model_module_version": "1.5.0",
            "_model_name": "DescriptionStyleModel",
            "_view_count": null,
            "_view_module": "@jupyter-widgets/base",
            "_view_module_version": "1.2.0",
            "_view_name": "StyleView",
            "description_width": ""
          }
        }
      }
    }
  },
  "nbformat": 4,
  "nbformat_minor": 0
}